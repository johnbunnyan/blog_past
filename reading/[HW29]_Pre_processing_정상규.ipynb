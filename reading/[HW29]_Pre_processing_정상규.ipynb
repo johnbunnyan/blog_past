{
  "nbformat": 4,
  "nbformat_minor": 0,
  "metadata": {
    "colab": {
      "provenance": [],
      "include_colab_link": true
    },
    "kernelspec": {
      "name": "python3",
      "display_name": "Python 3"
    },
    "language_info": {
      "name": "python"
    }
  },
  "cells": [
    {
      "cell_type": "markdown",
      "metadata": {
        "id": "view-in-github",
        "colab_type": "text"
      },
      "source": [
        "<a href=\"https://colab.research.google.com/github/johnbunnyan/johnbunnyan.github.io/blob/main/reading/%5BHW29%5D_Pre_processing_%EC%A0%95%EC%83%81%EA%B7%9C.ipynb\" target=\"_parent\"><img src=\"https://colab.research.google.com/assets/colab-badge.svg\" alt=\"Open In Colab\"/></a>"
      ]
    },
    {
      "cell_type": "markdown",
      "metadata": {
        "id": "d3jO2DcK01bz"
      },
      "source": [
        "# HW5: Pre-tokenization\n",
        "\n",
        "\n",
        "*   본 실습에서는 자연어 처리 데이터 전처리 과정에 필요한 다양한 module 을 사용해봅니다.\n",
        "\n",
        "\n",
        "> Reference: https://wikidocs.net/21703\n",
        "\n",
        "\n"
      ]
    },
    {
      "cell_type": "markdown",
      "metadata": {
        "id": "Lf5OcIO0RHxh"
      },
      "source": [
        "### Regular Expression"
      ]
    },
    {
      "cell_type": "code",
      "metadata": {
        "id": "k6s8155xRHHQ"
      },
      "source": [
        "import re"
      ],
      "execution_count": 2,
      "outputs": []
    },
    {
      "cell_type": "markdown",
      "metadata": {
        "id": "ehgcE7jaSu5z"
      },
      "source": [
        ". 기호"
      ]
    },
    {
      "cell_type": "code",
      "metadata": {
        "id": "aoEZ2tFGRrtC"
      },
      "source": [
        "# 임의의 한 개의 문자를 나타내는 . \n",
        "# . = ?(아무거나)\n",
        "r = re.compile(\"a.c\")\n",
        "# -> 해당되지 않으면 미출력\n",
        "r.search(\"ab\") "
      ],
      "execution_count": 79,
      "outputs": []
    },
    {
      "cell_type": "code",
      "metadata": {
        "id": "s2G0d2haR0aH",
        "colab": {
          "base_uri": "https://localhost:8080/"
        },
        "outputId": "78ec82a5-3b32-4d79-e1f9-60097c2cb325"
      },
      "source": [
        "r.search(\"abc\")"
      ],
      "execution_count": 81,
      "outputs": [
        {
          "output_type": "execute_result",
          "data": {
            "text/plain": [
              "<re.Match object; span=(0, 3), match='abc'>"
            ]
          },
          "metadata": {},
          "execution_count": 81
        }
      ]
    },
    {
      "cell_type": "markdown",
      "metadata": {
        "id": "LfqKEAr6SxjY"
      },
      "source": [
        "? 기호"
      ]
    },
    {
      "cell_type": "code",
      "metadata": {
        "id": "EHbrO-jjSDnT",
        "colab": {
          "base_uri": "https://localhost:8080/"
        },
        "outputId": "f2d84be8-beff-4485-e81d-9678e42a40b5"
      },
      "source": [
        "# ? 앞의 문자가 존재할 수도 있고, 존재하지 않을 수도 있는 경우\n",
        "# 나는 ? 뒤에 있는 c는 확실히 뽑고 싶다 ? 앞에 있는 게 있으면 뽑고 없으면 말아라\n",
        "r = re.compile(\"a?c\")\n",
        "r.search(\"bc\")"
      ],
      "execution_count": 82,
      "outputs": [
        {
          "output_type": "execute_result",
          "data": {
            "text/plain": [
              "<re.Match object; span=(1, 2), match='c'>"
            ]
          },
          "metadata": {},
          "execution_count": 82
        }
      ]
    },
    {
      "cell_type": "code",
      "metadata": {
        "id": "i7itXRsnSPbt",
        "colab": {
          "base_uri": "https://localhost:8080/"
        },
        "outputId": "bd0cf6a6-256b-42f3-c555-9f8aaa93398b"
      },
      "source": [
        "# 존재 하는 경우의 매칭\n",
        "r.search(\"ac\")"
      ],
      "execution_count": 6,
      "outputs": [
        {
          "output_type": "execute_result",
          "data": {
            "text/plain": [
              "<re.Match object; span=(0, 2), match='ac'>"
            ]
          },
          "metadata": {},
          "execution_count": 6
        }
      ]
    },
    {
      "cell_type": "code",
      "metadata": {
        "id": "x7QbSiGGSUAG",
        "colab": {
          "base_uri": "https://localhost:8080/"
        },
        "outputId": "4f9bebf7-6617-46f2-96e4-cb268d19c52c"
      },
      "source": [
        "# 존재하지 않는 경우의 매칭\n",
        "r.search(\"abc\")"
      ],
      "execution_count": 7,
      "outputs": [
        {
          "output_type": "execute_result",
          "data": {
            "text/plain": [
              "<re.Match object; span=(2, 3), match='c'>"
            ]
          },
          "metadata": {},
          "execution_count": 7
        }
      ]
    },
    {
      "cell_type": "markdown",
      "metadata": {
        "id": "E-TvGvF0Sys8"
      },
      "source": [
        "\\* 기호"
      ]
    },
    {
      "cell_type": "code",
      "metadata": {
        "id": "v1xtvrwlSbkN"
      },
      "source": [
        "# * 은 바로 앞의 문자가 0개 이상일 경우를 나타냄.\n",
        "r = re.compile(\"ab*c\") # b 가 하나도 없거나, 여러 개인 경우\n",
        "# a랑 c는 무조껀 뽑을 건데 b는 있으면 주고?\n",
        "r.search(\"a\")"
      ],
      "execution_count": 83,
      "outputs": []
    },
    {
      "cell_type": "code",
      "metadata": {
        "id": "XE-3Iu9WTIlx",
        "colab": {
          "base_uri": "https://localhost:8080/"
        },
        "outputId": "aa17650d-6254-4f65-ee49-f6e2fd610c56"
      },
      "source": [
        "r.search(\"ac\")"
      ],
      "execution_count": 85,
      "outputs": [
        {
          "output_type": "execute_result",
          "data": {
            "text/plain": [
              "<re.Match object; span=(0, 2), match='ac'>"
            ]
          },
          "metadata": {},
          "execution_count": 85
        }
      ]
    },
    {
      "cell_type": "code",
      "metadata": {
        "id": "F0SXuafEV2MK",
        "colab": {
          "base_uri": "https://localhost:8080/"
        },
        "outputId": "dc710eec-1b9b-414f-c6a5-e0a0b6a71f80"
      },
      "source": [
        "r.search(\"abc\")"
      ],
      "execution_count": 10,
      "outputs": [
        {
          "output_type": "execute_result",
          "data": {
            "text/plain": [
              "<re.Match object; span=(0, 3), match='abc'>"
            ]
          },
          "metadata": {},
          "execution_count": 10
        }
      ]
    },
    {
      "cell_type": "code",
      "metadata": {
        "id": "IfqYapkETEkB",
        "colab": {
          "base_uri": "https://localhost:8080/"
        },
        "outputId": "3e297f45-8dcc-47f1-edc1-7755892552bd"
      },
      "source": [
        "r.search(\"abbbbc\")"
      ],
      "execution_count": 11,
      "outputs": [
        {
          "output_type": "execute_result",
          "data": {
            "text/plain": [
              "<re.Match object; span=(0, 6), match='abbbbc'>"
            ]
          },
          "metadata": {},
          "execution_count": 11
        }
      ]
    },
    {
      "cell_type": "markdown",
      "metadata": {
        "id": "hHcfFwnzTSGX"
      },
      "source": [
        "\\+ 기호"
      ]
    },
    {
      "cell_type": "code",
      "metadata": {
        "id": "kVN6Fg81TUIX"
      },
      "source": [
        "# + 앞의 문자가 최소 1개 이상 있어야 함. \n",
        "r = re.compile(\"ab+c\")\n",
        "r.search(\"ac\")"
      ],
      "execution_count": 12,
      "outputs": []
    },
    {
      "cell_type": "code",
      "metadata": {
        "id": "J6QvtyK3WHRv",
        "colab": {
          "base_uri": "https://localhost:8080/"
        },
        "outputId": "841759fe-c470-446a-c769-90005ca1ecaf"
      },
      "source": [
        "r.search(\"abc\")"
      ],
      "execution_count": 13,
      "outputs": [
        {
          "output_type": "execute_result",
          "data": {
            "text/plain": [
              "<re.Match object; span=(0, 3), match='abc'>"
            ]
          },
          "metadata": {},
          "execution_count": 13
        }
      ]
    },
    {
      "cell_type": "code",
      "metadata": {
        "id": "Ir5dEOoLWHM1",
        "colab": {
          "base_uri": "https://localhost:8080/"
        },
        "outputId": "d841b147-1c56-4b19-c11e-5eeebbc45b48"
      },
      "source": [
        "r.search(\"abbbc\")"
      ],
      "execution_count": 14,
      "outputs": [
        {
          "output_type": "execute_result",
          "data": {
            "text/plain": [
              "<re.Match object; span=(0, 5), match='abbbc'>"
            ]
          },
          "metadata": {},
          "execution_count": 14
        }
      ]
    },
    {
      "cell_type": "markdown",
      "metadata": {
        "id": "u0550AuMWLYU"
      },
      "source": [
        "^ 기호"
      ]
    },
    {
      "cell_type": "code",
      "metadata": {
        "id": "hJpo7oGtWHFz"
      },
      "source": [
        "# ^ 시작되는 글자를 지정함. \n",
        "r = re.compile(\"^a\")\n",
        "r.search(\"bbc\")"
      ],
      "execution_count": 15,
      "outputs": []
    },
    {
      "cell_type": "code",
      "metadata": {
        "id": "H5LEsCPrWHBW",
        "colab": {
          "base_uri": "https://localhost:8080/"
        },
        "outputId": "9a048525-e076-4376-980d-bfe19af50efd"
      },
      "source": [
        "r.search(\"ab\")"
      ],
      "execution_count": 16,
      "outputs": [
        {
          "output_type": "execute_result",
          "data": {
            "text/plain": [
              "<re.Match object; span=(0, 1), match='a'>"
            ]
          },
          "metadata": {},
          "execution_count": 16
        }
      ]
    },
    {
      "cell_type": "markdown",
      "metadata": {
        "id": "VCHfZhfXWv6w"
      },
      "source": [
        "{숫자} 기호"
      ]
    },
    {
      "cell_type": "code",
      "metadata": {
        "id": "V6V1jNMaWvRQ"
      },
      "source": [
        "# 앞 문자를 해당 숫자만큼 반복해야 함.\n",
        "r = re.compile(\"ab{2}c\")\n",
        "r.search(\"ac\")"
      ],
      "execution_count": 17,
      "outputs": []
    },
    {
      "cell_type": "code",
      "metadata": {
        "id": "m1NnGVX_XDNq"
      },
      "source": [
        "r.search(\"abc\")"
      ],
      "execution_count": 18,
      "outputs": []
    },
    {
      "cell_type": "code",
      "metadata": {
        "id": "fCdJVMlUXDJo",
        "colab": {
          "base_uri": "https://localhost:8080/"
        },
        "outputId": "a711c517-9b47-4394-fdf8-2b7fc922a3aa"
      },
      "source": [
        "r.search(\"abbc\")"
      ],
      "execution_count": 19,
      "outputs": [
        {
          "output_type": "execute_result",
          "data": {
            "text/plain": [
              "<re.Match object; span=(0, 4), match='abbc'>"
            ]
          },
          "metadata": {},
          "execution_count": 19
        }
      ]
    },
    {
      "cell_type": "markdown",
      "metadata": {
        "id": "gAV5hiNpXIiR"
      },
      "source": [
        "{숫자1, 숫자2} 기호"
      ]
    },
    {
      "cell_type": "code",
      "metadata": {
        "id": "RAztm80IXDGG"
      },
      "source": [
        "# 앞 문자를 숫자1 이상 숫자2 이하 만큼 반복해야 함.\n",
        "# b는 2~8번만 나와야 된다\n",
        "r = re.compile(\"ab{2,8}c\")\n",
        "r.search(\"ac\")"
      ],
      "execution_count": 20,
      "outputs": []
    },
    {
      "cell_type": "code",
      "metadata": {
        "id": "NFlnwaqfXDBI"
      },
      "source": [
        "r.search(\"abc\")"
      ],
      "execution_count": 21,
      "outputs": []
    },
    {
      "cell_type": "code",
      "metadata": {
        "id": "7zMN8nGoXbww",
        "colab": {
          "base_uri": "https://localhost:8080/"
        },
        "outputId": "e45a4221-e842-4727-92b8-d18f36ec4a1d"
      },
      "source": [
        "r.search(\"abbc\")"
      ],
      "execution_count": 22,
      "outputs": [
        {
          "output_type": "execute_result",
          "data": {
            "text/plain": [
              "<re.Match object; span=(0, 4), match='abbc'>"
            ]
          },
          "metadata": {},
          "execution_count": 22
        }
      ]
    },
    {
      "cell_type": "code",
      "metadata": {
        "id": "fDSTC0LqXdq1",
        "colab": {
          "base_uri": "https://localhost:8080/"
        },
        "outputId": "3490aa0e-daac-40ab-90bd-3090e5c47154"
      },
      "source": [
        "r.search(\"abbbbbbbbc\")"
      ],
      "execution_count": 23,
      "outputs": [
        {
          "output_type": "execute_result",
          "data": {
            "text/plain": [
              "<re.Match object; span=(0, 10), match='abbbbbbbbc'>"
            ]
          },
          "metadata": {},
          "execution_count": 23
        }
      ]
    },
    {
      "cell_type": "code",
      "metadata": {
        "id": "XcQSM0dBXf8G"
      },
      "source": [
        "r.search(\"abbbbbbbbbc\")"
      ],
      "execution_count": 24,
      "outputs": []
    },
    {
      "cell_type": "markdown",
      "metadata": {
        "id": "1ar2VQCcXkXw"
      },
      "source": [
        "{숫자,} 기호"
      ]
    },
    {
      "cell_type": "code",
      "metadata": {
        "id": "zuzOi9OFXjpV"
      },
      "source": [
        "# 앞 문자를 숫자 이상 만큼 반복해야 함.\n",
        "# a,b,c는 다 있어야 한다. 근데 a는 두번이어야한다.\n",
        "r = re.compile(\"a{2,}bc\")\n",
        "r.search(\"abc\")"
      ],
      "execution_count": 25,
      "outputs": []
    },
    {
      "cell_type": "code",
      "metadata": {
        "id": "Zar_YxUeaCWQ",
        "colab": {
          "base_uri": "https://localhost:8080/"
        },
        "outputId": "8e27e0ac-81ee-4686-970e-ed2615ecd2a5"
      },
      "source": [
        "r.search(\"aabc\")"
      ],
      "execution_count": 26,
      "outputs": [
        {
          "output_type": "execute_result",
          "data": {
            "text/plain": [
              "<re.Match object; span=(0, 4), match='aabc'>"
            ]
          },
          "metadata": {},
          "execution_count": 26
        }
      ]
    },
    {
      "cell_type": "markdown",
      "metadata": {
        "id": "W-FZGAemaGI0"
      },
      "source": [
        "[ ] 기호"
      ]
    },
    {
      "cell_type": "code",
      "metadata": {
        "id": "2gujcbK2aItx"
      },
      "source": [
        "# [] 안에 있는 문자들 중 한 개의 문자와 매치\n",
        "# 범위를 지정할 수도 있음. 예) a-z, A-Z, 0-9\n",
        "r = re.compile('[abc]')\n",
        "r.search(\"dd\")"
      ],
      "execution_count": 27,
      "outputs": []
    },
    {
      "cell_type": "code",
      "metadata": {
        "id": "_D0ouzK8af8b",
        "colab": {
          "base_uri": "https://localhost:8080/"
        },
        "outputId": "249b4617-8fb0-418a-c82e-2d170dfd3e79"
      },
      "source": [
        "r.search(\"ad\")"
      ],
      "execution_count": 28,
      "outputs": [
        {
          "output_type": "execute_result",
          "data": {
            "text/plain": [
              "<re.Match object; span=(0, 1), match='a'>"
            ]
          },
          "metadata": {},
          "execution_count": 28
        }
      ]
    },
    {
      "cell_type": "code",
      "metadata": {
        "id": "KhJFKGcjaiUe"
      },
      "source": [
        "r.search(\"adb\")"
      ],
      "execution_count": 88,
      "outputs": []
    },
    {
      "cell_type": "markdown",
      "metadata": {
        "id": "gOl5g4NYatBB"
      },
      "source": [
        "[^문자] 기호"
      ]
    },
    {
      "cell_type": "code",
      "metadata": {
        "id": "TVztqwGaapM-"
      },
      "source": [
        "# ^기호 뒤에 붙은 문자들을 제외한 모든 문자를 매치함.\n",
        "r = re.compile(\"[^abc]\") # abc 제외 모든 문자\n",
        "r.search(\"ab\")"
      ],
      "execution_count": 30,
      "outputs": []
    },
    {
      "cell_type": "code",
      "metadata": {
        "id": "u_8vC9IybGMI",
        "colab": {
          "base_uri": "https://localhost:8080/"
        },
        "outputId": "0b61ef44-fab6-414a-e88f-5f3347094732"
      },
      "source": [
        "r.search(\"abcd\")"
      ],
      "execution_count": 31,
      "outputs": [
        {
          "output_type": "execute_result",
          "data": {
            "text/plain": [
              "<re.Match object; span=(3, 4), match='d'>"
            ]
          },
          "metadata": {},
          "execution_count": 31
        }
      ]
    },
    {
      "cell_type": "markdown",
      "metadata": {
        "id": "2t9pTu-81BQk"
      },
      "source": [
        "### KoNLPy"
      ]
    },
    {
      "cell_type": "code",
      "metadata": {
        "id": "KX0tqj-r1xm8",
        "colab": {
          "base_uri": "https://localhost:8080/"
        },
        "outputId": "a134c566-2002-4ee0-b4db-12fb5df3d439"
      },
      "source": [
        "!pip install konlpy"
      ],
      "execution_count": 59,
      "outputs": [
        {
          "output_type": "stream",
          "name": "stdout",
          "text": [
            "Looking in indexes: https://pypi.org/simple, https://us-python.pkg.dev/colab-wheels/public/simple/\n",
            "Requirement already satisfied: konlpy in /usr/local/lib/python3.8/dist-packages (0.6.0)\n",
            "Requirement already satisfied: lxml>=4.1.0 in /usr/local/lib/python3.8/dist-packages (from konlpy) (4.9.2)\n",
            "Requirement already satisfied: JPype1>=0.7.0 in /usr/local/lib/python3.8/dist-packages (from konlpy) (1.4.1)\n",
            "Requirement already satisfied: numpy>=1.6 in /usr/local/lib/python3.8/dist-packages (from konlpy) (1.21.6)\n",
            "Requirement already satisfied: packaging in /usr/local/lib/python3.8/dist-packages (from JPype1>=0.7.0->konlpy) (21.3)\n",
            "Requirement already satisfied: pyparsing!=3.0.5,>=2.0.2 in /usr/local/lib/python3.8/dist-packages (from packaging->JPype1>=0.7.0->konlpy) (3.0.9)\n"
          ]
        }
      ]
    },
    {
      "cell_type": "markdown",
      "metadata": {
        "id": "ngUBX6iA1KCk"
      },
      "source": [
        "한나눔(Hannanum)"
      ]
    },
    {
      "cell_type": "code",
      "metadata": {
        "id": "TCubXxCT0d5T",
        "colab": {
          "base_uri": "https://localhost:8080/"
        },
        "outputId": "82fbc341-0cd1-44a5-a666-f8558ec4f773"
      },
      "source": [
        "from konlpy.tag import Hannanum\n",
        "hannanum = Hannanum()\n",
        "text = '환영합니다! 자연어 처리 수업은 재미있게 듣고 계신가요?'\n",
        "print(hannanum.morphs(text))  # Parse phrase to morphemes\n",
        "print(hannanum.nouns(text))   # Noun extractors\n",
        "print(hannanum.pos(text))     # POS tagger"
      ],
      "execution_count": 33,
      "outputs": [
        {
          "output_type": "stream",
          "name": "stdout",
          "text": [
            "['환영', '하', 'ㅂ니다', '!', '자연어', '처리', '수업', '은', '재미있', '게', '듣', '고', '계시', 'ㄴ가', '요', '?']\n",
            "['환영', '자연어', '처리', '수업']\n",
            "[('환영', 'N'), ('하', 'X'), ('ㅂ니다', 'E'), ('!', 'S'), ('자연어', 'N'), ('처리', 'N'), ('수업', 'N'), ('은', 'J'), ('재미있', 'P'), ('게', 'E'), ('듣', 'P'), ('고', 'E'), ('계시', 'P'), ('ㄴ가', 'E'), ('요', 'J'), ('?', 'S')]\n"
          ]
        }
      ]
    },
    {
      "cell_type": "code",
      "metadata": {
        "id": "S0eD1CVr1QuS",
        "colab": {
          "base_uri": "https://localhost:8080/"
        },
        "outputId": "9098854c-6295-4147-fb68-76e0d39371a2"
      },
      "source": [
        "from konlpy.tag import Kkma\n",
        "kkma = Kkma()\n",
        "text = '환영합니다! 자연어 처리 수업은 재미있게 듣고 계신가요?'\n",
        "print(kkma.morphs(text))  # Parse phrase to morphemes\n",
        "print(kkma.nouns(text))   # Noun extractors\n",
        "print(kkma.pos(text))     # POS tagger"
      ],
      "execution_count": 34,
      "outputs": [
        {
          "output_type": "stream",
          "name": "stdout",
          "text": [
            "['환영', '하', 'ㅂ니다', '!', '자연어', '처리', '수업', '은', '재미있', '게', '듣', '고', '계시', 'ㄴ가요', '?']\n",
            "['환영', '자연어', '처리', '수업']\n",
            "[('환영', 'NNG'), ('하', 'XSV'), ('ㅂ니다', 'EFN'), ('!', 'SF'), ('자연어', 'NNG'), ('처리', 'NNG'), ('수업', 'NNG'), ('은', 'JX'), ('재미있', 'VA'), ('게', 'ECD'), ('듣', 'VV'), ('고', 'ECE'), ('계시', 'VXA'), ('ㄴ가요', 'EFQ'), ('?', 'SF')]\n"
          ]
        }
      ]
    },
    {
      "cell_type": "markdown",
      "metadata": {
        "id": "LtqXc97dOm2c"
      },
      "source": [
        "### Khaiii"
      ]
    },
    {
      "cell_type": "code",
      "metadata": {
        "id": "O2mQ7tf6O02Y",
        "colab": {
          "base_uri": "https://localhost:8080/",
          "height": 1000
        },
        "outputId": "a6e383fa-6bb3-4199-f38a-c03da2ae7b04"
      },
      "source": [
        "!git clone https://github.com/kakao/khaiii.git\n",
        "!pip install cmake\n",
        "!mkdir build\n",
        "!cd build && cmake /content/khaiii\n",
        "!cd /content/build/ && make all\n",
        "!cd /content/build/ && make resource\n",
        "!cd /content/build && make install\n",
        "!cd /content/build && make package_python\n",
        "!pip install /content/build/package_python"
      ],
      "execution_count": 60,
      "outputs": [
        {
          "output_type": "stream",
          "name": "stdout",
          "text": [
            "fatal: destination path 'khaiii' already exists and is not an empty directory.\n",
            "Looking in indexes: https://pypi.org/simple, https://us-python.pkg.dev/colab-wheels/public/simple/\n",
            "Requirement already satisfied: cmake in /usr/local/lib/python3.8/dist-packages (3.22.6)\n",
            "mkdir: cannot create directory ‘build’: File exists\n",
            "-- [khaiii] fused multiply add option enabled\n",
            "-- [hunter] Calculating Toolchain-SHA1\n",
            "-- [hunter] Calculating Config-SHA1\n",
            "-- [hunter] HUNTER_ROOT: /root/.hunter\n",
            "-- [hunter] [ Hunter-ID: 70287b1 | Toolchain-ID: 02ccb06 | Config-ID: dffbc08 ]\n",
            "-- [hunter] BOOST_ROOT: /root/.hunter/_Base/70287b1/02ccb06/dffbc08/Install (ver.: 1.68.0-p1)\n",
            "-- Boost version: 1.68.0\n",
            "-- [hunter] CXXOPTS_ROOT: /root/.hunter/_Base/70287b1/02ccb06/dffbc08/Install (ver.: 2.1.1-pre)\n",
            "-- [hunter] EIGEN_ROOT: /root/.hunter/_Base/70287b1/02ccb06/dffbc08/Install (ver.: 3.3.5)\n",
            "-- [hunter] FMT_ROOT: /root/.hunter/_Base/70287b1/02ccb06/dffbc08/Install (ver.: 4.1.0)\n",
            "-- [hunter] GTEST_ROOT: /root/.hunter/_Base/70287b1/02ccb06/dffbc08/Install (ver.: 1.8.0-hunter-p11)\n",
            "-- [hunter] NLOHMANN_JSON_ROOT: /root/.hunter/_Base/70287b1/02ccb06/dffbc08/Install (ver.: 3.3.0)\n",
            "-- [hunter] SPDLOG_ROOT: /root/.hunter/_Base/70287b1/02ccb06/dffbc08/Install (ver.: 0.16.3-p1)\n",
            "-- Configuring done\n",
            "-- Generating done\n",
            "-- Build files have been written to: /content/build\n",
            "\u001b[35m\u001b[1mConsolidate compiler generated dependencies of target obj_khaiii\u001b[0m\n",
            "[ 65%] Built target obj_khaiii\n",
            "[ 69%] Built target khaiii\n",
            "\u001b[35m\u001b[1mConsolidate compiler generated dependencies of target bin_khaiii\u001b[0m\n",
            "[ 76%] Built target bin_khaiii\n",
            "\u001b[35m\u001b[1mConsolidate compiler generated dependencies of target test_khaiii\u001b[0m\n",
            "[100%] Built target test_khaiii\n",
            "Built target resource\n",
            "[ 65%] Built target obj_khaiii\n",
            "[ 69%] Built target khaiii\n",
            "[ 76%] Built target bin_khaiii\n",
            "[100%] Built target test_khaiii\n",
            "\u001b[36mInstall the project...\u001b[0m\n",
            "-- Install configuration: \"\"\n",
            "-- Up-to-date: /usr/local/include/khaiii\n",
            "-- Up-to-date: /usr/local/include/khaiii/KhaiiiApi.hpp\n",
            "-- Up-to-date: /usr/local/include/khaiii/khaiii_dev.h\n",
            "-- Up-to-date: /usr/local/include/khaiii/khaiii_api.h\n",
            "-- Up-to-date: /usr/local/share/khaiii\n",
            "-- Up-to-date: /usr/local/share/khaiii/conv.2.fil\n",
            "-- Up-to-date: /usr/local/share/khaiii/errpatch.tri\n",
            "-- Up-to-date: /usr/local/share/khaiii/restore.val\n",
            "-- Up-to-date: /usr/local/share/khaiii/hdn2tag.lin\n",
            "-- Up-to-date: /usr/local/share/khaiii/restore.key\n",
            "-- Up-to-date: /usr/local/share/khaiii/conv.4.fil\n",
            "-- Up-to-date: /usr/local/share/khaiii/preanal.tri\n",
            "-- Up-to-date: /usr/local/share/khaiii/embed.bin\n",
            "-- Up-to-date: /usr/local/share/khaiii/config.json\n",
            "-- Up-to-date: /usr/local/share/khaiii/preanal.val\n",
            "-- Up-to-date: /usr/local/share/khaiii/errpatch.len\n",
            "-- Up-to-date: /usr/local/share/khaiii/conv.3.fil\n",
            "-- Up-to-date: /usr/local/share/khaiii/cnv2hdn.lin\n",
            "-- Up-to-date: /usr/local/share/khaiii/errpatch.val\n",
            "-- Up-to-date: /usr/local/share/khaiii/conv.5.fil\n",
            "-- Up-to-date: /usr/local/share/khaiii/restore.one\n",
            "-- Up-to-date: /usr/local/lib/libkhaiii.so.0.4\n",
            "-- Up-to-date: /usr/local/lib/libkhaiii.so.0\n",
            "-- Up-to-date: /usr/local/lib/libkhaiii.so\n",
            "-- Up-to-date: /usr/local/bin/khaiii\n",
            "\u001b[36mRun CPack packaging tool for source...\u001b[0m\n",
            "CPack: Create package using ZIP\n",
            "CPack: Install projects\n",
            "CPack: - Install directory: /content/khaiii\n",
            "CPack: Create package\n",
            "CPack: - package: /content/build/khaiii-0.4.zip generated.\n",
            "Built target package_python\n",
            "Looking in indexes: https://pypi.org/simple, https://us-python.pkg.dev/colab-wheels/public/simple/\n",
            "Processing ./build/package_python\n",
            "\u001b[33m  DEPRECATION: A future pip version will change local packages to be built in-place without first copying to a temporary directory. We recommend you use --use-feature=in-tree-build to test your packages with this new behavior before it becomes the default.\n",
            "   pip 21.3 will remove support for this functionality. You can find discussion regarding this at https://github.com/pypa/pip/issues/7555.\u001b[0m\n",
            "Building wheels for collected packages: khaiii\n",
            "  Building wheel for khaiii (setup.py) ... \u001b[?25l\u001b[?25hdone\n",
            "  Created wheel for khaiii: filename=khaiii-0.4-py3-none-any.whl size=22883309 sha256=3520e9acc77f53ce8f1174d301cc94a6141242764064c433e8ceacb1a0d4a883\n",
            "  Stored in directory: /tmp/pip-ephem-wheel-cache-9xwf_1qe/wheels/1b/23/82/375faebc754bbbf01b7d0d386f7ca6a180ca68271e1f7c83e8\n",
            "Successfully built khaiii\n",
            "Installing collected packages: khaiii\n",
            "  Attempting uninstall: khaiii\n",
            "    Found existing installation: khaiii 0.4\n",
            "    Uninstalling khaiii-0.4:\n",
            "      Successfully uninstalled khaiii-0.4\n",
            "Successfully installed khaiii-0.4\n"
          ]
        },
        {
          "output_type": "display_data",
          "data": {
            "application/vnd.colab-display-data+json": {
              "pip_warning": {
                "packages": [
                  "khaiii"
                ]
              }
            }
          },
          "metadata": {}
        }
      ]
    },
    {
      "cell_type": "code",
      "metadata": {
        "id": "oQmkykw_OpSU"
      },
      "source": [
        "from khaiii import KhaiiiApi\n",
        "khaiiApi = KhaiiiApi()"
      ],
      "execution_count": 36,
      "outputs": []
    },
    {
      "cell_type": "code",
      "metadata": {
        "id": "cl0W3gQVOxpH",
        "colab": {
          "base_uri": "https://localhost:8080/"
        },
        "outputId": "50693785-63b4-4ff2-f188-c71e5a32b0b8"
      },
      "source": [
        "tokenized = khaiiApi.analyze('구름 자연어 처리 전문가 양성 과정 1기에 오신 여러분을 환영합니다!')\n",
        "# khaiiApi.analyze : [] {객체}\n",
        "# e.g. [<khaiii.khaiii.KhaiiiWord object at 0x7f3ec721c430> ...\n",
        "# 여기서 텍스트 -> 토큰화를 일단 했고\n",
        "\n",
        "tokens = []\n",
        "for word in tokenized:\n",
        "# print(word)\n",
        "# 구름\t구름/NNG <- 위에 있던 KhaiiiWord object 본모습\n",
        "# 자연어\t자연어/NNG\n",
        "# 처리\t처리/NNG\n",
        "# 전문가\t전문가/NNG\n",
        "# 양성\t양성/NNG\n",
        "# 과정\t과정/NNG\n",
        "# 1기에\t1/SN + 기/NNG + 에/JKB\n",
        "# 오신\t오/VV + 시/EP + ㄴ/ETM\n",
        "# 여러분을\t여러분/NP + 을/JKO\n",
        "# 환영합니다!\t환영/NNG + 하/XSV + ㅂ니다/EF + !/SF\n",
        "\n",
        "    # word.morphs = 18개, 위 단어들을 형태소 단위로 나눔\n",
        "    print(str(word.morphs[0]).split('/')[0])\n",
        "    tokens.extend([str(m).split('/')[0] for m in word.morphs])\n",
        "\n",
        "print(tokens)\n",
        "# ['구름', '자연어', '처리', '전문가', '양성', '과정', '1', '기', '에', '오', '시', 'ㄴ', '여러분', '을', '환영', '하', 'ㅂ니다', '!']"
      ],
      "execution_count": 78,
      "outputs": [
        {
          "output_type": "stream",
          "name": "stdout",
          "text": [
            "구름\n",
            "자연어\n",
            "처리\n",
            "전문가\n",
            "양성\n",
            "과정\n",
            "1\n",
            "오\n",
            "여러분\n",
            "환영\n",
            "['구름', '자연어', '처리', '전문가', '양성', '과정', '1', '기', '에', '오', '시', 'ㄴ', '여러분', '을', '환영', '하', 'ㅂ니다', '!']\n"
          ]
        }
      ]
    },
    {
      "cell_type": "markdown",
      "metadata": {
        "id": "4fY328Gu6qy5"
      },
      "source": [
        "### PyKoSpacing"
      ]
    },
    {
      "cell_type": "code",
      "metadata": {
        "id": "qLwdPupS5ifF",
        "colab": {
          "base_uri": "https://localhost:8080/",
          "height": 1000
        },
        "outputId": "e633fd26-5c75-4bf7-c6a8-485f9b4aa69d"
      },
      "source": [
        "!pip install git+https://github.com/haven-jeon/PyKoSpacing.git"
      ],
      "execution_count": 38,
      "outputs": [
        {
          "output_type": "stream",
          "name": "stdout",
          "text": [
            "Looking in indexes: https://pypi.org/simple, https://us-python.pkg.dev/colab-wheels/public/simple/\n",
            "Collecting git+https://github.com/haven-jeon/PyKoSpacing.git\n",
            "  Cloning https://github.com/haven-jeon/PyKoSpacing.git to /tmp/pip-req-build-odjfnwb5\n",
            "  Running command git clone -q https://github.com/haven-jeon/PyKoSpacing.git /tmp/pip-req-build-odjfnwb5\n",
            "Collecting tensorflow==2.9.3\n",
            "  Downloading tensorflow-2.9.3-cp38-cp38-manylinux_2_17_x86_64.manylinux2014_x86_64.whl (511.8 MB)\n",
            "\u001b[K     |████████████████████████████████| 511.8 MB 30 kB/s \n",
            "\u001b[?25hRequirement already satisfied: h5py==3.1.0 in /usr/local/lib/python3.8/dist-packages (from pykospacing==0.5) (3.1.0)\n",
            "Collecting argparse>=1.4.0\n",
            "  Downloading argparse-1.4.0-py2.py3-none-any.whl (23 kB)\n",
            "Requirement already satisfied: numpy>=1.17.5 in /usr/local/lib/python3.8/dist-packages (from h5py==3.1.0->pykospacing==0.5) (1.21.6)\n",
            "Requirement already satisfied: wrapt>=1.11.0 in /usr/local/lib/python3.8/dist-packages (from tensorflow==2.9.3->pykospacing==0.5) (1.14.1)\n",
            "Requirement already satisfied: libclang>=13.0.0 in /usr/local/lib/python3.8/dist-packages (from tensorflow==2.9.3->pykospacing==0.5) (14.0.6)\n",
            "Requirement already satisfied: protobuf<3.20,>=3.9.2 in /usr/local/lib/python3.8/dist-packages (from tensorflow==2.9.3->pykospacing==0.5) (3.19.6)\n",
            "Requirement already satisfied: opt-einsum>=2.3.2 in /usr/local/lib/python3.8/dist-packages (from tensorflow==2.9.3->pykospacing==0.5) (3.3.0)\n",
            "Requirement already satisfied: typing-extensions>=3.6.6 in /usr/local/lib/python3.8/dist-packages (from tensorflow==2.9.3->pykospacing==0.5) (4.4.0)\n",
            "Requirement already satisfied: tensorflow-estimator<2.10.0,>=2.9.0rc0 in /usr/local/lib/python3.8/dist-packages (from tensorflow==2.9.3->pykospacing==0.5) (2.9.0)\n",
            "Requirement already satisfied: setuptools in /usr/local/lib/python3.8/dist-packages (from tensorflow==2.9.3->pykospacing==0.5) (57.4.0)\n",
            "Requirement already satisfied: tensorboard<2.10,>=2.9 in /usr/local/lib/python3.8/dist-packages (from tensorflow==2.9.3->pykospacing==0.5) (2.9.1)\n",
            "Requirement already satisfied: flatbuffers<2,>=1.12 in /usr/local/lib/python3.8/dist-packages (from tensorflow==2.9.3->pykospacing==0.5) (1.12)\n",
            "Requirement already satisfied: termcolor>=1.1.0 in /usr/local/lib/python3.8/dist-packages (from tensorflow==2.9.3->pykospacing==0.5) (2.1.1)\n",
            "Requirement already satisfied: google-pasta>=0.1.1 in /usr/local/lib/python3.8/dist-packages (from tensorflow==2.9.3->pykospacing==0.5) (0.2.0)\n",
            "Requirement already satisfied: astunparse>=1.6.0 in /usr/local/lib/python3.8/dist-packages (from tensorflow==2.9.3->pykospacing==0.5) (1.6.3)\n",
            "Requirement already satisfied: absl-py>=1.0.0 in /usr/local/lib/python3.8/dist-packages (from tensorflow==2.9.3->pykospacing==0.5) (1.3.0)\n",
            "Requirement already satisfied: packaging in /usr/local/lib/python3.8/dist-packages (from tensorflow==2.9.3->pykospacing==0.5) (21.3)\n",
            "Requirement already satisfied: grpcio<2.0,>=1.24.3 in /usr/local/lib/python3.8/dist-packages (from tensorflow==2.9.3->pykospacing==0.5) (1.51.1)\n",
            "Requirement already satisfied: tensorflow-io-gcs-filesystem>=0.23.1 in /usr/local/lib/python3.8/dist-packages (from tensorflow==2.9.3->pykospacing==0.5) (0.28.0)\n",
            "Requirement already satisfied: keras-preprocessing>=1.1.1 in /usr/local/lib/python3.8/dist-packages (from tensorflow==2.9.3->pykospacing==0.5) (1.1.2)\n",
            "Requirement already satisfied: keras<2.10.0,>=2.9.0rc0 in /usr/local/lib/python3.8/dist-packages (from tensorflow==2.9.3->pykospacing==0.5) (2.9.0)\n",
            "Requirement already satisfied: six>=1.12.0 in /usr/local/lib/python3.8/dist-packages (from tensorflow==2.9.3->pykospacing==0.5) (1.15.0)\n",
            "Requirement already satisfied: gast<=0.4.0,>=0.2.1 in /usr/local/lib/python3.8/dist-packages (from tensorflow==2.9.3->pykospacing==0.5) (0.4.0)\n",
            "Requirement already satisfied: wheel<1.0,>=0.23.0 in /usr/local/lib/python3.8/dist-packages (from astunparse>=1.6.0->tensorflow==2.9.3->pykospacing==0.5) (0.38.4)\n",
            "Requirement already satisfied: tensorboard-plugin-wit>=1.6.0 in /usr/local/lib/python3.8/dist-packages (from tensorboard<2.10,>=2.9->tensorflow==2.9.3->pykospacing==0.5) (1.8.1)\n",
            "Requirement already satisfied: google-auth-oauthlib<0.5,>=0.4.1 in /usr/local/lib/python3.8/dist-packages (from tensorboard<2.10,>=2.9->tensorflow==2.9.3->pykospacing==0.5) (0.4.6)\n",
            "Requirement already satisfied: tensorboard-data-server<0.7.0,>=0.6.0 in /usr/local/lib/python3.8/dist-packages (from tensorboard<2.10,>=2.9->tensorflow==2.9.3->pykospacing==0.5) (0.6.1)\n",
            "Requirement already satisfied: requests<3,>=2.21.0 in /usr/local/lib/python3.8/dist-packages (from tensorboard<2.10,>=2.9->tensorflow==2.9.3->pykospacing==0.5) (2.23.0)\n",
            "Requirement already satisfied: werkzeug>=1.0.1 in /usr/local/lib/python3.8/dist-packages (from tensorboard<2.10,>=2.9->tensorflow==2.9.3->pykospacing==0.5) (1.0.1)\n",
            "Requirement already satisfied: google-auth<3,>=1.6.3 in /usr/local/lib/python3.8/dist-packages (from tensorboard<2.10,>=2.9->tensorflow==2.9.3->pykospacing==0.5) (2.15.0)\n",
            "Requirement already satisfied: markdown>=2.6.8 in /usr/local/lib/python3.8/dist-packages (from tensorboard<2.10,>=2.9->tensorflow==2.9.3->pykospacing==0.5) (3.4.1)\n",
            "Requirement already satisfied: rsa<5,>=3.1.4 in /usr/local/lib/python3.8/dist-packages (from google-auth<3,>=1.6.3->tensorboard<2.10,>=2.9->tensorflow==2.9.3->pykospacing==0.5) (4.9)\n",
            "Requirement already satisfied: cachetools<6.0,>=2.0.0 in /usr/local/lib/python3.8/dist-packages (from google-auth<3,>=1.6.3->tensorboard<2.10,>=2.9->tensorflow==2.9.3->pykospacing==0.5) (5.2.0)\n",
            "Requirement already satisfied: pyasn1-modules>=0.2.1 in /usr/local/lib/python3.8/dist-packages (from google-auth<3,>=1.6.3->tensorboard<2.10,>=2.9->tensorflow==2.9.3->pykospacing==0.5) (0.2.8)\n",
            "Requirement already satisfied: requests-oauthlib>=0.7.0 in /usr/local/lib/python3.8/dist-packages (from google-auth-oauthlib<0.5,>=0.4.1->tensorboard<2.10,>=2.9->tensorflow==2.9.3->pykospacing==0.5) (1.3.1)\n",
            "Requirement already satisfied: importlib-metadata>=4.4 in /usr/local/lib/python3.8/dist-packages (from markdown>=2.6.8->tensorboard<2.10,>=2.9->tensorflow==2.9.3->pykospacing==0.5) (5.1.0)\n",
            "Requirement already satisfied: zipp>=0.5 in /usr/local/lib/python3.8/dist-packages (from importlib-metadata>=4.4->markdown>=2.6.8->tensorboard<2.10,>=2.9->tensorflow==2.9.3->pykospacing==0.5) (3.11.0)\n",
            "Requirement already satisfied: pyasn1<0.5.0,>=0.4.6 in /usr/local/lib/python3.8/dist-packages (from pyasn1-modules>=0.2.1->google-auth<3,>=1.6.3->tensorboard<2.10,>=2.9->tensorflow==2.9.3->pykospacing==0.5) (0.4.8)\n",
            "Requirement already satisfied: urllib3!=1.25.0,!=1.25.1,<1.26,>=1.21.1 in /usr/local/lib/python3.8/dist-packages (from requests<3,>=2.21.0->tensorboard<2.10,>=2.9->tensorflow==2.9.3->pykospacing==0.5) (1.24.3)\n",
            "Requirement already satisfied: chardet<4,>=3.0.2 in /usr/local/lib/python3.8/dist-packages (from requests<3,>=2.21.0->tensorboard<2.10,>=2.9->tensorflow==2.9.3->pykospacing==0.5) (3.0.4)\n",
            "Requirement already satisfied: certifi>=2017.4.17 in /usr/local/lib/python3.8/dist-packages (from requests<3,>=2.21.0->tensorboard<2.10,>=2.9->tensorflow==2.9.3->pykospacing==0.5) (2022.12.7)\n",
            "Requirement already satisfied: idna<3,>=2.5 in /usr/local/lib/python3.8/dist-packages (from requests<3,>=2.21.0->tensorboard<2.10,>=2.9->tensorflow==2.9.3->pykospacing==0.5) (2.10)\n",
            "Requirement already satisfied: oauthlib>=3.0.0 in /usr/local/lib/python3.8/dist-packages (from requests-oauthlib>=0.7.0->google-auth-oauthlib<0.5,>=0.4.1->tensorboard<2.10,>=2.9->tensorflow==2.9.3->pykospacing==0.5) (3.2.2)\n",
            "Requirement already satisfied: pyparsing!=3.0.5,>=2.0.2 in /usr/local/lib/python3.8/dist-packages (from packaging->tensorflow==2.9.3->pykospacing==0.5) (3.0.9)\n",
            "Building wheels for collected packages: pykospacing\n",
            "  Building wheel for pykospacing (setup.py) ... \u001b[?25l\u001b[?25hdone\n",
            "  Created wheel for pykospacing: filename=pykospacing-0.5-py3-none-any.whl size=2268637 sha256=45684e2042616059de441c2d593d59383b70219e7dc3a5ea90882894abd62e12\n",
            "  Stored in directory: /tmp/pip-ephem-wheel-cache-9l129wpu/wheels/79/a0/33/16f2cd03d21f76a663f5d69a0b96f0351335385349136fbd03\n",
            "Successfully built pykospacing\n",
            "Installing collected packages: tensorflow, argparse, pykospacing\n",
            "  Attempting uninstall: tensorflow\n",
            "    Found existing installation: tensorflow 2.9.2\n",
            "    Uninstalling tensorflow-2.9.2:\n",
            "      Successfully uninstalled tensorflow-2.9.2\n",
            "Successfully installed argparse-1.4.0 pykospacing-0.5 tensorflow-2.9.3\n"
          ]
        },
        {
          "output_type": "display_data",
          "data": {
            "application/vnd.colab-display-data+json": {
              "pip_warning": {
                "packages": [
                  "argparse"
                ]
              }
            }
          },
          "metadata": {}
        }
      ]
    },
    {
      "cell_type": "code",
      "metadata": {
        "id": "U-XKh-nW6puT"
      },
      "source": [
        "sent = '구름 자연어 처리 전문가 양성 과정 1기에 오신 여러분을 환영합니다!'"
      ],
      "execution_count": 39,
      "outputs": []
    },
    {
      "cell_type": "code",
      "metadata": {
        "id": "59Rjq1Gv7Kjv",
        "colab": {
          "base_uri": "https://localhost:8080/"
        },
        "outputId": "d75ce5b8-7265-4974-bd2f-86f79cb4a966"
      },
      "source": [
        "# 띄어쓰기를 없애려면 파이썬 string 내장메서드 replace사용\n",
        "new_sent = sent.replace(\" \", '') # 띄어쓰기가 없는 문장 임의로 만들기\n",
        "print(new_sent)"
      ],
      "execution_count": 40,
      "outputs": [
        {
          "output_type": "stream",
          "name": "stdout",
          "text": [
            "구름자연어처리전문가양성과정1기에오신여러분을환영합니다!\n"
          ]
        }
      ]
    },
    {
      "cell_type": "code",
      "metadata": {
        "id": "iT-7fIvW7Lm8",
        "colab": {
          "base_uri": "https://localhost:8080/"
        },
        "outputId": "41e3bfff-bb31-4679-ee7f-22875b4256dc"
      },
      "source": [
        "from pykospacing import Spacing\n",
        "spacing = Spacing()\n",
        "kospacing_sent = spacing(new_sent) \n",
        "\n",
        "print('띄어쓰기가 없는 문장 :\\n', new_sent) \n",
        "print('정답 문장:\\n', sent) \n",
        "print('띄어쓰기 교정 후:\\n', kospacing_sent)"
      ],
      "execution_count": 41,
      "outputs": [
        {
          "output_type": "stream",
          "name": "stdout",
          "text": [
            "1/1 [==============================] - 0s 402ms/step\n",
            "띄어쓰기가 없는 문장 :\n",
            " 구름자연어처리전문가양성과정1기에오신여러분을환영합니다!\n",
            "정답 문장:\n",
            " 구름 자연어 처리 전문가 양성 과정 1기에 오신 여러분을 환영합니다!\n",
            "띄어쓰기 교정 후:\n",
            " 구름자연어 처리 전문가 양성과정 1기에 오신 여러분을 환영합니다!\n"
          ]
        }
      ]
    },
    {
      "cell_type": "markdown",
      "metadata": {
        "id": "U4Isiy1r98OT"
      },
      "source": [
        "### Py-Hanspell"
      ]
    },
    {
      "cell_type": "code",
      "metadata": {
        "id": "a6grkKkX7NiI",
        "colab": {
          "base_uri": "https://localhost:8080/"
        },
        "outputId": "884f9483-fcd6-4c16-9822-7d35005346ff"
      },
      "source": [
        "!pip install git+https://github.com/ssut/py-hanspell.git"
      ],
      "execution_count": 42,
      "outputs": [
        {
          "output_type": "stream",
          "name": "stdout",
          "text": [
            "Looking in indexes: https://pypi.org/simple, https://us-python.pkg.dev/colab-wheels/public/simple/\n",
            "Collecting git+https://github.com/ssut/py-hanspell.git\n",
            "  Cloning https://github.com/ssut/py-hanspell.git to /tmp/pip-req-build-lxxoo__2\n",
            "  Running command git clone -q https://github.com/ssut/py-hanspell.git /tmp/pip-req-build-lxxoo__2\n",
            "Requirement already satisfied: requests in /usr/local/lib/python3.8/dist-packages (from py-hanspell==1.1) (2.23.0)\n",
            "Requirement already satisfied: certifi>=2017.4.17 in /usr/local/lib/python3.8/dist-packages (from requests->py-hanspell==1.1) (2022.12.7)\n",
            "Requirement already satisfied: idna<3,>=2.5 in /usr/local/lib/python3.8/dist-packages (from requests->py-hanspell==1.1) (2.10)\n",
            "Requirement already satisfied: urllib3!=1.25.0,!=1.25.1,<1.26,>=1.21.1 in /usr/local/lib/python3.8/dist-packages (from requests->py-hanspell==1.1) (1.24.3)\n",
            "Requirement already satisfied: chardet<4,>=3.0.2 in /usr/local/lib/python3.8/dist-packages (from requests->py-hanspell==1.1) (3.0.4)\n",
            "Building wheels for collected packages: py-hanspell\n",
            "  Building wheel for py-hanspell (setup.py) ... \u001b[?25l\u001b[?25hdone\n",
            "  Created wheel for py-hanspell: filename=py_hanspell-1.1-py3-none-any.whl size=4870 sha256=8ecf178a87cf611c7c46de03d16786ffbb6c27974b5621d98fa3efd8722a6f90\n",
            "  Stored in directory: /tmp/pip-ephem-wheel-cache-x5qva2k6/wheels/3f/a5/73/e4d2806ae141d274fdddaabf8c0ed79be9357d36bfdc99e4b4\n",
            "Successfully built py-hanspell\n",
            "Installing collected packages: py-hanspell\n",
            "Successfully installed py-hanspell-1.1\n"
          ]
        }
      ]
    },
    {
      "cell_type": "code",
      "metadata": {
        "id": "VFZk-TYx-AgN",
        "colab": {
          "base_uri": "https://localhost:8080/"
        },
        "outputId": "c12147e4-0e80-4093-d0c0-395b76507fcb"
      },
      "source": [
        "from hanspell import spell_checker\n",
        "\n",
        "sent = \"맞춤법 틀리면 외 않되? 쓰고싶은대로쓰면돼지 \"\n",
        "spelled_sent = spell_checker.check(sent)\n",
        "\n",
        "# 체크결과 정보 객체 print(spelled_sent)\n",
        "\n",
        "hanspell_sent = spelled_sent.checked\n",
        "print(hanspell_sent)"
      ],
      "execution_count": 61,
      "outputs": [
        {
          "output_type": "stream",
          "name": "stdout",
          "text": [
            "Checked(result=True, original='맞춤법 틀리면 외 않되? 쓰고싶은대로쓰면돼지 ', checked='맞춤법 틀리면 왜 안돼? 쓰고 싶은 대로 쓰면 되지', errors=2, words=OrderedDict([('맞춤법', 0), ('틀리면', 0), ('왜', 1), ('안돼?', 1), ('쓰고', 1), ('싶은', 1), ('대로', 1), ('쓰면', 1), ('되지', 1)]), time=0.8213069438934326)\n",
            "맞춤법 틀리면 왜 안돼? 쓰고 싶은 대로 쓰면 되지\n"
          ]
        }
      ]
    },
    {
      "cell_type": "markdown",
      "metadata": {
        "id": "4napObNevG1U"
      },
      "source": [
        "\n",
        "### Crawling\n",
        "\n",
        "네이버 영화 감상평을 크롤링하고 정제해봅시다.\n",
        "Crawling 파트 강의를 들으면서 함께 실습을 진행하시면 됩니다."
      ]
    },
    {
      "cell_type": "code",
      "metadata": {
        "id": "JmRVS1U-Uw1d"
      },
      "source": [
        "from urllib.request import urlopen # 웹서버에 접근 모듈 \n",
        "from bs4 import BeautifulSoup # 웹페이지 내용구조 분석 모듈"
      ],
      "execution_count": 44,
      "outputs": []
    },
    {
      "cell_type": "code",
      "metadata": {
        "id": "ud5KafK7vLaY"
      },
      "source": [
        "url='https://movie.naver.com/movie/bi/mi/pointWriteFormList.naver?code=187348&type=after&isActualPointWriteExecute=false&isMileageSubscriptionAlready=false&isMileageSubscriptionReject=false&page=1'\n",
        "html=urlopen(url)\n",
        "# urlopen 으로 가져오고\n",
        "# BeautifulSoup으로 담는다(parser)\n",
        "html_source = BeautifulSoup(html,'html.parser',from_encoding='utf-8') # 댓글 페이지를 utf-8형식으로 html 소스가져오기"
      ],
      "execution_count": 45,
      "outputs": []
    },
    {
      "cell_type": "code",
      "metadata": {
        "id": "Efo0xpKuvaCo",
        "colab": {
          "base_uri": "https://localhost:8080/"
        },
        "outputId": "7a37e639-693d-4f00-9ce9-14c23e588b75"
      },
      "source": [
        "print(html_source)"
      ],
      "execution_count": 46,
      "outputs": [
        {
          "output_type": "stream",
          "name": "stdout",
          "text": [
            "\n",
            "<!DOCTYPE html>\n",
            "\n",
            "<html lang=\"ko\">\n",
            "<head>\n",
            "<meta charset=\"utf-8\"/>\n",
            "<meta content=\"IE=edge\" http-equiv=\"X-UA-Compatible\"/>\n",
            "<title>네이버 영화</title>\n",
            "<link href=\"https://ssl.pstatic.net/static/m/movie/icons/naver_movie_favicon.ico\" rel=\"shortcut icon\" type=\"image/x-icon\"/>\n",
            "<link href=\"/css/common.css?20221208175247\" rel=\"stylesheet\" type=\"text/css\">\n",
            "<link href=\"/css/movie_tablet.css?20221208175247\" rel=\"stylesheet\" type=\"text/css\"/>\n",
            "<link href=\"/css/movie_end.css?20221208175247\" rel=\"stylesheet\" type=\"text/css\"/>\n",
            "<script src=\"/js/deploy/movie.all.js?20221208175247\" type=\"text/javascript\"></script>\n",
            "</link></head>\n",
            "<body>\n",
            "<!-- content -->\n",
            "<input id=\"movieCode\" name=\"movieCode\" type=\"hidden\" value=\"187348\"/>\n",
            "<input id=\"onlyActualPointYn\" name=\"onlyActualPointYn\" type=\"hidden\" value=\"N\"/>\n",
            "<input id=\"includeSpoilerYn\" name=\"includeSpoilerYn\" type=\"hidden\" value=\"N\"/>\n",
            "<input id=\"order\" name=\"order\" type=\"hidden\" value=\"sympathyScore\"/>\n",
            "<input id=\"page\" name=\"page\" type=\"hidden\" value=\"1\"/>\n",
            "<div class=\"ifr_area basic_ifr\">\n",
            "<div class=\"input_netizen \">\n",
            "<!-- [D] 관람객 평점 작성 완료 -->\n",
            "<div class=\"ly_viewer\" id=\"actualPointWriteExecuteLayer\" style=\"display:none\">\n",
            "<h4>관람객 평점 작성 완료 안내</h4>\n",
            "<p>관람객 평점이 등록되었습니다.<br/><em>네이버페이 포인트 500원</em>이 적립되었습니다.<br/><em>7일 이후</em> 확인 가능합니다.</p>\n",
            "<p>(평점 삭제시, 적립된 포인트는 회수됩니다.)</p>\n",
            "<div class=\"btn\">\n",
            "<a class=\"ok\" href=\"#\" id=\"actualPointWriteExecuteLayerOkButton\">확인</a>\n",
            "<a class=\"close\" href=\"#\" id=\"actualPointWriteExecuteLayerCloseButton\" title=\"닫기\">관람객 평점 작성 완료 안내 레이어 닫기</a>\n",
            "</div>\n",
            "</div>\n",
            "<!-- //관람객 평점 작성 완료 -->\n",
            "<!-- [D] 관람객 평점 작성 완료2 -->\n",
            "<div class=\"ly_viewer\" id=\"pointWriteExecuteLayer\" style=\"display:none\">\n",
            "<h4>관람객 평점 작성 완료 안내</h4>\n",
            "<p class=\"msg1\">관람객 평점이 등록되었습니다.</p>\n",
            "<div class=\"btn\">\n",
            "<a class=\"ok\" href=\"#\" id=\"pointWriteExecuteLayerOkButton\">확인</a>\n",
            "<a class=\"close\" href=\"#\" id=\"pointWriteExecuteLayerCloseButton\" title=\"닫기\">관람객 평점 작성 완료 안내 레이어 닫기</a>\n",
            "</div>\n",
            "</div>\n",
            "<!-- //관람객 평점 작성 완료2 -->\n",
            "<div class=\"score_total\">\n",
            "<strong class=\"total\">관람객 평점 <em>9,224</em>건<button class=\"btn_review\" id=\"open-form-btn\">내 평점 등록</button></strong>\n",
            "</div>\n",
            "<div class=\"top_behavior\" id=\"orderCheckbox\">\n",
            "<ul class=\"sorting_list\">\n",
            "<li class=\"on\"><a href=\"#\" onclick=\"parent.clickcr(this, 'ara.bysym', '', '', event); dislplayOrder('sympathyScore');\">공감순</a></li>\n",
            "<li><a href=\"#\" onclick=\"parent.clickcr(this, 'ara.byrct', '', '', event); dislplayOrder('newest');\">최신순</a></li>\n",
            "<li><a href=\"#\" onclick=\"parent.clickcr(this, 'ara.high', '', '', event); dislplayOrder('highest');\">평점 높은 순</a></li>\n",
            "<li><a href=\"#\" onclick=\"parent.clickcr(this, 'ara.low', '', '', event); dislplayOrder('lowest');\">평점 낮은 순</a></li>\n",
            "</ul>\n",
            "<ul class=\"quarter_mode\">\n",
            "<li>\n",
            "<input class=\"blind \" id=\"spoilerYnCheckBox\" name=\"spilerViewer\" onclick=\"parent.clickcr(this,'','','',event); return false;\" title=\"스포일러 보기\" type=\"checkbox\"/>\n",
            "<label class=\"label_viewer\" for=\"spoilerYnCheckBox\" id=\"spoilerYnLable\">스포일러 보기</label>\n",
            "</li>\n",
            "<li>\n",
            "<input class=\"blind \" id=\"actualYnCheckBox\" name=\"viewer\" onclick=\"parent.clickcr(this,'ura.mgs','','',event); return false;\" title=\"관람객 평점만 보기\" type=\"checkbox\"/>\n",
            "<label class=\"label_viewer\" for=\"actualYnCheckBox\" id=\"actualYnLable\">관람객 평점만 보기</label>\n",
            "<a class=\"help _actualPointHelp\" href=\"#\" id=\"actualPointHelpButton\" title=\"도움말\">관람객 평점만 보기 도움말</a>\n",
            "<div class=\"ly_help _actualPointHelp\" id=\"actualPointHelp\" style=\"display:none\">\n",
            "<h5>관람객평점만 보기 안내 레이어</h5>\n",
            "<div class=\"ly_cont _actualPointHelp\">\n",
            "<p>네이버 영화에서 예매하신 고객님들이<br/> 영화 관람 후 등록해주신 평점입니다.</p>\n",
            "</div>\n",
            "<button class=\"btn_close _actualPointHelp\" id=\"actualPointHelpCloseButton\" title=\"닫기\" type=\"button\"><span class=\"blind\">관람객 평점만 보기 안내 레이어 닫기</span></button>\n",
            "<span class=\"arr _actualPointHelp\"></span>\n",
            "</div>\n",
            "</li>\n",
            "</ul>\n",
            "</div>\n",
            "<div class=\"score_result\">\n",
            "<ul>\n",
            "<li>\n",
            "<div class=\"star_score\">\n",
            "<span class=\"st_off\"><span class=\"st_on\" style=\"width:60.0%\"></span></span><em>6</em>\n",
            "</div>\n",
            "<div class=\"score_reple\">\n",
            "<p>\n",
            "<span class=\"ico_viewer\">관람객</span>\n",
            "<!-- 스포일러 컨텐츠로 처리되는지 여부 -->\n",
            "<span id=\"_filtered_ment_0\">\r\n",
            "\t\t\t\t\t\t\t\t\t\t\t\t\t\t\r\n",
            "\t\t\t\t\t\t\t\t\t\t\t\t\t\t\t\r\n",
            "\t\t\t\t\t\t\t\t\t\t\t\t\t\t\t\r\n",
            "\t\t\t\t\t\t\t\t\t\t\t\t\t\t\t\t명품 브랜드라 믿고 샀는데 안에 made in china가 적혀있었다 \r\n",
            "\t\t\t\t\t\t\t\t\t\t\t\t\t\t\t\r\n",
            "\t\t\t\t\t\t\t\t\t\t\t\t\t\t\r\n",
            "\t\t\t\t\t\t\t\t\t\t\t\t\t\t\r\n",
            "\t\t\t\t\t\t\t\t\t\t\t\t\t</span>\n",
            "</p>\n",
            "<dl>\n",
            "<dt>\n",
            "<em>\n",
            "<a href=\"#\" onclick=\"javascript:showPointListByNid(17683851, 'after');parent.clickcr(this, 'ara.uid', '', '', event); return false;\" target=\"_top\">\n",
            "<span>유한솔(u_hs****)</span>\n",
            "</a>\n",
            "</em>\n",
            "<em>2021.09.01 23:12</em>\n",
            "</dt>\n",
            "<dd>\n",
            "<a class=\"go_report2\" href=\"#\" onclick=\"parent.clickcr(this, 'ara.report', '', '', event); common.report('false','u_hs****', 'gvylI0goMM0dq11MV2XqtBrKfW1Zw9Wxm7+ngg6Tj5E=', '17683851', 'point_after', false);return false;\"><em>신고</em></a>\n",
            "</dd>\n",
            "</dl>\n",
            "</div>\n",
            "<div class=\"btn_area\">\n",
            "<a class=\"_sympathyButton\" href=\"#\" onclick=\"parent.clickcr(this, 'ara.sym', '', '', event);\">\n",
            "<span class=\"ico_up\"></span>\n",
            "<span class=\"blind\">공감</span>\n",
            "<strong class=\"sympathy_17683851\">3720</strong>\n",
            "</a>\n",
            "<a class=\"_notSympathyButton\" href=\"#\" onclick=\"parent.clickcr(this, 'ara.opp', '', '', event);\">\n",
            "<span class=\"ico_down\"></span>\n",
            "<span class=\"blind\">비공감</span>\n",
            "<strong class=\"notSympathy_17683851\">1031</strong>\n",
            "</a>\n",
            "</div>\n",
            "</li>\n",
            "<li>\n",
            "<div class=\"star_score\">\n",
            "<span class=\"st_off\"><span class=\"st_on\" style=\"width:60.0%\"></span></span><em>6</em>\n",
            "</div>\n",
            "<div class=\"score_reple\">\n",
            "<p>\n",
            "<span class=\"ico_viewer\">관람객</span>\n",
            "<!-- 스포일러 컨텐츠로 처리되는지 여부 -->\n",
            "<span id=\"_filtered_ment_1\">\n",
            "<span class=\"_unfold_ment\" id=\"_unfold_ment1\">\n",
            "<a data-src=\"자세히 보면 중국 문화 올려치는 영화입니다. 초반부터 똥양계는 무조건 한국인 취급하는데 우리는 당당히 중국인이다. ㅇㅈㄹ하고요. 깊고 정통한 중국 문화는 대를 이어서 간다. 마카오에서 K-POP 댄스 추는 거 보고 무조건 힙하지? 우리 중국 문화야 ㅋ 구미호, 기린, 용은 우리 문화다. 사람 죽으면 물에 연등 띄우는 거? 우리 중국 문화다. 동북공정 영화입니다. 영화는 자세히 보세요. 의도가 있습니다. \" href=\"javascript:void(0);\" onclick=\"unfoldPointMent(this);\">\r\n",
            "\t\t\t\t\t\t\t\t\t\t\t\t\t\t\t\t\t\t자세히 보면 중국 문화 올려치는 영화입니다. 초반부터 똥양계는 무조건 한국인 취급하는데 우리는 당당히 중국인이다. ㅇㅈㄹ하고요. 깊고 정통한 중국 문화는 대를 이어서 간다. 마카오에서 K-POP 댄스 추는 거 보고 ...\r\n",
            "\t\t\t\t\t\t\t\t\t\t\t\t\t\t\t\t\t</a>\n",
            "</span>\n",
            "</span>\n",
            "</p>\n",
            "<dl>\n",
            "<dt>\n",
            "<em>\n",
            "<a href=\"#\" onclick=\"javascript:showPointListByNid(17684413, 'after');parent.clickcr(this, 'ara.uid', '', '', event); return false;\" target=\"_top\">\n",
            "<span>다른별명(quda****)</span>\n",
            "</a>\n",
            "</em>\n",
            "<em>2021.09.02 09:07</em>\n",
            "</dt>\n",
            "<dd>\n",
            "<a class=\"go_report2\" href=\"#\" onclick=\"parent.clickcr(this, 'ara.report', '', '', event); common.report('false','quda****', 'hJc6TPn6Dev+lZDZuHHT+5gfbUePJ2RX283Tj28aXBw=', '17684413', 'point_after', false);return false;\"><em>신고</em></a>\n",
            "</dd>\n",
            "</dl>\n",
            "</div>\n",
            "<div class=\"btn_area\">\n",
            "<a class=\"_sympathyButton\" href=\"#\" onclick=\"parent.clickcr(this, 'ara.sym', '', '', event);\">\n",
            "<span class=\"ico_up\"></span>\n",
            "<span class=\"blind\">공감</span>\n",
            "<strong class=\"sympathy_17684413\">2612</strong>\n",
            "</a>\n",
            "<a class=\"_notSympathyButton\" href=\"#\" onclick=\"parent.clickcr(this, 'ara.opp', '', '', event);\">\n",
            "<span class=\"ico_down\"></span>\n",
            "<span class=\"blind\">비공감</span>\n",
            "<strong class=\"notSympathy_17684413\">795</strong>\n",
            "</a>\n",
            "</div>\n",
            "</li>\n",
            "<li>\n",
            "<div class=\"star_score\">\n",
            "<span class=\"st_off\"><span class=\"st_on\" style=\"width:10.0%\"></span></span><em>1</em>\n",
            "</div>\n",
            "<div class=\"score_reple\">\n",
            "<p>\n",
            "<span class=\"ico_viewer\">관람객</span>\n",
            "<!-- 스포일러 컨텐츠로 처리되는지 여부 -->\n",
            "<span id=\"_filtered_ment_2\">\r\n",
            "\t\t\t\t\t\t\t\t\t\t\t\t\t\t\r\n",
            "\t\t\t\t\t\t\t\t\t\t\t\t\t\t\t\r\n",
            "\t\t\t\t\t\t\t\t\t\t\t\t\t\t\t\r\n",
            "\t\t\t\t\t\t\t\t\t\t\t\t\t\t\t\t마블의 중국산 D-War \r\n",
            "\t\t\t\t\t\t\t\t\t\t\t\t\t\t\t\r\n",
            "\t\t\t\t\t\t\t\t\t\t\t\t\t\t\r\n",
            "\t\t\t\t\t\t\t\t\t\t\t\t\t\t\r\n",
            "\t\t\t\t\t\t\t\t\t\t\t\t\t</span>\n",
            "</p>\n",
            "<dl>\n",
            "<dt>\n",
            "<em>\n",
            "<a href=\"#\" onclick=\"javascript:showPointListByNid(17683609, 'after');parent.clickcr(this, 'ara.uid', '', '', event); return false;\" target=\"_top\">\n",
            "<span>eodb****</span>\n",
            "</a>\n",
            "</em>\n",
            "<em>2021.09.01 21:52</em>\n",
            "</dt>\n",
            "<dd>\n",
            "<a class=\"go_report2\" href=\"#\" onclick=\"parent.clickcr(this, 'ara.report', '', '', event); common.report('false','eodb****', '01Ip1T9gK8H5E9AhWwpHdDHuYn6TzVDQ7EQLnzLkXtc=', '17683609', 'point_after', false);return false;\"><em>신고</em></a>\n",
            "</dd>\n",
            "</dl>\n",
            "</div>\n",
            "<div class=\"btn_area\">\n",
            "<a class=\"_sympathyButton\" href=\"#\" onclick=\"parent.clickcr(this, 'ara.sym', '', '', event);\">\n",
            "<span class=\"ico_up\"></span>\n",
            "<span class=\"blind\">공감</span>\n",
            "<strong class=\"sympathy_17683609\">1763</strong>\n",
            "</a>\n",
            "<a class=\"_notSympathyButton\" href=\"#\" onclick=\"parent.clickcr(this, 'ara.opp', '', '', event);\">\n",
            "<span class=\"ico_down\"></span>\n",
            "<span class=\"blind\">비공감</span>\n",
            "<strong class=\"notSympathy_17683609\">538</strong>\n",
            "</a>\n",
            "</div>\n",
            "</li>\n",
            "<li>\n",
            "<div class=\"star_score\">\n",
            "<span class=\"st_off\"><span class=\"st_on\" style=\"width:50.0%\"></span></span><em>5</em>\n",
            "</div>\n",
            "<div class=\"score_reple\">\n",
            "<p>\n",
            "<span class=\"ico_viewer\">관람객</span>\n",
            "<!-- 스포일러 컨텐츠로 처리되는지 여부 -->\n",
            "<span id=\"_filtered_ment_3\">\n",
            "<span class=\"_unfold_ment\" id=\"_unfold_ment3\">\n",
            "<a data-src=\"세계관이나 설정들이 너무 붕 떠있고 개연성은 밥말아 먹어놓고 억지 신파 끼워넣기에 주인공은 무색무취 아무 매력 없음. 10초전 까지 죽일듯이 싸우던 애들이 갑자기 우리 함께 싸우자 ㅇㅈㄹ 하질 않나. 아부지 행동들 감정기복 너무 심해서 공감도 안가고, 사건들이 빌드업도 없이 무지성으로 튀어나오니까 몰입도 안 됨. 배우가 너무 아깝다. \" href=\"javascript:void(0);\" onclick=\"unfoldPointMent(this);\">\r\n",
            "\t\t\t\t\t\t\t\t\t\t\t\t\t\t\t\t\t\t세계관이나 설정들이 너무 붕 떠있고 개연성은 밥말아 먹어놓고 억지 신파 끼워넣기에 주인공은 무색무취 아무 매력 없음. 10초전 까지 죽일듯이 싸우던 애들이 갑자기 우리 함께 싸우자 ㅇㅈㄹ 하질 않나. 아부지 행동들 ...\r\n",
            "\t\t\t\t\t\t\t\t\t\t\t\t\t\t\t\t\t</a>\n",
            "</span>\n",
            "</span>\n",
            "</p>\n",
            "<dl>\n",
            "<dt>\n",
            "<em>\n",
            "<a href=\"#\" onclick=\"javascript:showPointListByNid(17682177, 'after');parent.clickcr(this, 'ara.uid', '', '', event); return false;\" target=\"_top\">\n",
            "<span>멍멍(mild****)</span>\n",
            "</a>\n",
            "</em>\n",
            "<em>2021.09.01 11:21</em>\n",
            "</dt>\n",
            "<dd>\n",
            "<a class=\"go_report2\" href=\"#\" onclick=\"parent.clickcr(this, 'ara.report', '', '', event); common.report('false','mild****', 'aUOYbka2r0M86vd7fMVNZMSI95jh7wyDJawFvv1n6wI=', '17682177', 'point_after', false);return false;\"><em>신고</em></a>\n",
            "</dd>\n",
            "</dl>\n",
            "</div>\n",
            "<div class=\"btn_area\">\n",
            "<a class=\"_sympathyButton\" href=\"#\" onclick=\"parent.clickcr(this, 'ara.sym', '', '', event);\">\n",
            "<span class=\"ico_up\"></span>\n",
            "<span class=\"blind\">공감</span>\n",
            "<strong class=\"sympathy_17682177\">1706</strong>\n",
            "</a>\n",
            "<a class=\"_notSympathyButton\" href=\"#\" onclick=\"parent.clickcr(this, 'ara.opp', '', '', event);\">\n",
            "<span class=\"ico_down\"></span>\n",
            "<span class=\"blind\">비공감</span>\n",
            "<strong class=\"notSympathy_17682177\">509</strong>\n",
            "</a>\n",
            "</div>\n",
            "</li>\n",
            "<li>\n",
            "<div class=\"star_score\">\n",
            "<span class=\"st_off\"><span class=\"st_on\" style=\"width:50.0%\"></span></span><em>5</em>\n",
            "</div>\n",
            "<div class=\"score_reple\">\n",
            "<p>\n",
            "<span class=\"ico_viewer\">관람객</span>\n",
            "<!-- 스포일러 컨텐츠로 처리되는지 여부 -->\n",
            "<span id=\"_filtered_ment_4\">\r\n",
            "\t\t\t\t\t\t\t\t\t\t\t\t\t\t\r\n",
            "\t\t\t\t\t\t\t\t\t\t\t\t\t\t\t\r\n",
            "\t\t\t\t\t\t\t\t\t\t\t\t\t\t\t\r\n",
            "\t\t\t\t\t\t\t\t\t\t\t\t\t\t\t\t마블의 탈을 쓴 중국 무협영화. 중국 시장과 자본을 지나치게 의식한 디즈니의 연이은 헛발질. CG 범벅에 협소한 공간에서 몇 안되는 인원들의 액션 등 스케일마저 왜 이리 작아진 건지... \r\n",
            "\t\t\t\t\t\t\t\t\t\t\t\t\t\t\t\r\n",
            "\t\t\t\t\t\t\t\t\t\t\t\t\t\t\r\n",
            "\t\t\t\t\t\t\t\t\t\t\t\t\t\t\r\n",
            "\t\t\t\t\t\t\t\t\t\t\t\t\t</span>\n",
            "</p>\n",
            "<dl>\n",
            "<dt>\n",
            "<em>\n",
            "<a href=\"#\" onclick=\"javascript:showPointListByNid(17684461, 'after');parent.clickcr(this, 'ara.uid', '', '', event); return false;\" target=\"_top\">\n",
            "<span>삼생삼세(lexp****)</span>\n",
            "</a>\n",
            "</em>\n",
            "<em>2021.09.02 10:25</em>\n",
            "</dt>\n",
            "<dd>\n",
            "<a class=\"go_report2\" href=\"#\" onclick=\"parent.clickcr(this, 'ara.report', '', '', event); common.report('false','lexp****', 'ylV847jfh1ioS/QM99aGf6FhUTBpupotFK+Og+K1vO4=', '17684461', 'point_after', false);return false;\"><em>신고</em></a>\n",
            "</dd>\n",
            "</dl>\n",
            "</div>\n",
            "<div class=\"btn_area\">\n",
            "<a class=\"_sympathyButton\" href=\"#\" onclick=\"parent.clickcr(this, 'ara.sym', '', '', event);\">\n",
            "<span class=\"ico_up\"></span>\n",
            "<span class=\"blind\">공감</span>\n",
            "<strong class=\"sympathy_17684461\">1278</strong>\n",
            "</a>\n",
            "<a class=\"_notSympathyButton\" href=\"#\" onclick=\"parent.clickcr(this, 'ara.opp', '', '', event);\">\n",
            "<span class=\"ico_down\"></span>\n",
            "<span class=\"blind\">비공감</span>\n",
            "<strong class=\"notSympathy_17684461\">270</strong>\n",
            "</a>\n",
            "</div>\n",
            "</li>\n",
            "<li>\n",
            "<div class=\"star_score\">\n",
            "<span class=\"st_off\"><span class=\"st_on\" style=\"width:10.0%\"></span></span><em>1</em>\n",
            "</div>\n",
            "<div class=\"score_reple\">\n",
            "<p>\n",
            "<span class=\"ico_viewer\">관람객</span>\n",
            "<!-- 스포일러 컨텐츠로 처리되는지 여부 -->\n",
            "<span id=\"_filtered_ment_5\">\r\n",
            "\t\t\t\t\t\t\t\t\t\t\t\t\t\t\r\n",
            "\t\t\t\t\t\t\t\t\t\t\t\t\t\t\t\r\n",
            "\t\t\t\t\t\t\t\t\t\t\t\t\t\t\t\r\n",
            "\t\t\t\t\t\t\t\t\t\t\t\t\t\t\t\t하 정말 재미없네요.. \r\n",
            "\t\t\t\t\t\t\t\t\t\t\t\t\t\t\t\r\n",
            "\t\t\t\t\t\t\t\t\t\t\t\t\t\t\r\n",
            "\t\t\t\t\t\t\t\t\t\t\t\t\t\t\r\n",
            "\t\t\t\t\t\t\t\t\t\t\t\t\t</span>\n",
            "</p>\n",
            "<dl>\n",
            "<dt>\n",
            "<em>\n",
            "<a href=\"#\" onclick=\"javascript:showPointListByNid(17683742, 'after');parent.clickcr(this, 'ara.uid', '', '', event); return false;\" target=\"_top\">\n",
            "<span>LEEE(oh1m****)</span>\n",
            "</a>\n",
            "</em>\n",
            "<em>2021.09.01 22:30</em>\n",
            "</dt>\n",
            "<dd>\n",
            "<a class=\"go_report2\" href=\"#\" onclick=\"parent.clickcr(this, 'ara.report', '', '', event); common.report('false','oh1m****', 'Y69rDUHu9dHmd01ieHrpW7+IgE1P/ghCDkfURdD8ZYg=', '17683742', 'point_after', false);return false;\"><em>신고</em></a>\n",
            "</dd>\n",
            "</dl>\n",
            "</div>\n",
            "<div class=\"btn_area\">\n",
            "<a class=\"_sympathyButton\" href=\"#\" onclick=\"parent.clickcr(this, 'ara.sym', '', '', event);\">\n",
            "<span class=\"ico_up\"></span>\n",
            "<span class=\"blind\">공감</span>\n",
            "<strong class=\"sympathy_17683742\">1306</strong>\n",
            "</a>\n",
            "<a class=\"_notSympathyButton\" href=\"#\" onclick=\"parent.clickcr(this, 'ara.opp', '', '', event);\">\n",
            "<span class=\"ico_down\"></span>\n",
            "<span class=\"blind\">비공감</span>\n",
            "<strong class=\"notSympathy_17683742\">451</strong>\n",
            "</a>\n",
            "</div>\n",
            "</li>\n",
            "<li>\n",
            "<div class=\"star_score\">\n",
            "<span class=\"st_off\"><span class=\"st_on\" style=\"width:80.0%\"></span></span><em>8</em>\n",
            "</div>\n",
            "<div class=\"score_reple\">\n",
            "<p>\n",
            "<span class=\"ico_viewer\">관람객</span>\n",
            "<!-- 스포일러 컨텐츠로 처리되는지 여부 -->\n",
            "<span id=\"_filtered_ment_6\">\r\n",
            "\t\t\t\t\t\t\t\t\t\t\t\t\t\t\r\n",
            "\t\t\t\t\t\t\t\t\t\t\t\t\t\t\t\r\n",
            "\t\t\t\t\t\t\t\t\t\t\t\t\t\t\t\r\n",
            "\t\t\t\t\t\t\t\t\t\t\t\t\t\t\t\t마블 영화를 본 건지 중국 영화를 본 건지 모르겠지만 양조위는 너무 멋있더라.... \r\n",
            "\t\t\t\t\t\t\t\t\t\t\t\t\t\t\t\r\n",
            "\t\t\t\t\t\t\t\t\t\t\t\t\t\t\r\n",
            "\t\t\t\t\t\t\t\t\t\t\t\t\t\t\r\n",
            "\t\t\t\t\t\t\t\t\t\t\t\t\t</span>\n",
            "</p>\n",
            "<dl>\n",
            "<dt>\n",
            "<em>\n",
            "<a href=\"#\" onclick=\"javascript:showPointListByNid(17683773, 'after');parent.clickcr(this, 'ara.uid', '', '', event); return false;\" target=\"_top\">\n",
            "<span>아오이키(akpl****)</span>\n",
            "</a>\n",
            "</em>\n",
            "<em>2021.09.01 22:41</em>\n",
            "</dt>\n",
            "<dd>\n",
            "<a class=\"go_report2\" href=\"#\" onclick=\"parent.clickcr(this, 'ara.report', '', '', event); common.report('false','akpl****', 'JBfLfTVW71mtTUI5O09GzhyOetWjMWwDD+PFHVJF0ZU=', '17683773', 'point_after', false);return false;\"><em>신고</em></a>\n",
            "</dd>\n",
            "</dl>\n",
            "</div>\n",
            "<div class=\"btn_area\">\n",
            "<a class=\"_sympathyButton\" href=\"#\" onclick=\"parent.clickcr(this, 'ara.sym', '', '', event);\">\n",
            "<span class=\"ico_up\"></span>\n",
            "<span class=\"blind\">공감</span>\n",
            "<strong class=\"sympathy_17683773\">981</strong>\n",
            "</a>\n",
            "<a class=\"_notSympathyButton\" href=\"#\" onclick=\"parent.clickcr(this, 'ara.opp', '', '', event);\">\n",
            "<span class=\"ico_down\"></span>\n",
            "<span class=\"blind\">비공감</span>\n",
            "<strong class=\"notSympathy_17683773\">185</strong>\n",
            "</a>\n",
            "</div>\n",
            "</li>\n",
            "<li>\n",
            "<div class=\"star_score\">\n",
            "<span class=\"st_off\"><span class=\"st_on\" style=\"width:100.0%\"></span></span><em>10</em>\n",
            "</div>\n",
            "<div class=\"score_reple\">\n",
            "<p>\n",
            "<!-- 스포일러 컨텐츠로 처리되는지 여부 -->\n",
            "<span id=\"_filtered_ment_7\">\r\n",
            "\t\t\t\t\t\t\t\t\t\t\t\t\t\t\r\n",
            "\t\t\t\t\t\t\t\t\t\t\t\t\t\t\t\r\n",
            "\t\t\t\t\t\t\t\t\t\t\t\t\t\t\t\r\n",
            "\t\t\t\t\t\t\t\t\t\t\t\t\t\t\t\t마블의 새로운 시작이다… 재밌어요 \r\n",
            "\t\t\t\t\t\t\t\t\t\t\t\t\t\t\t\r\n",
            "\t\t\t\t\t\t\t\t\t\t\t\t\t\t\r\n",
            "\t\t\t\t\t\t\t\t\t\t\t\t\t\t\r\n",
            "\t\t\t\t\t\t\t\t\t\t\t\t\t</span>\n",
            "</p>\n",
            "<dl>\n",
            "<dt>\n",
            "<em>\n",
            "<a href=\"#\" onclick=\"javascript:showPointListByNid(17682380, 'after');parent.clickcr(this, 'ara.uid', '', '', event); return false;\" target=\"_top\">\n",
            "<span>서울자취생(osan****)</span>\n",
            "</a>\n",
            "</em>\n",
            "<em>2021.09.01 12:57</em>\n",
            "</dt>\n",
            "<dd>\n",
            "<a class=\"go_report2\" href=\"#\" onclick=\"parent.clickcr(this, 'ara.report', '', '', event); common.report('false','osan****', 'dJMwtuM8vZZUZUzmNKglw6vTwPr+6VSiPMeHxqdBptY=', '17682380', 'point_after', false);return false;\"><em>신고</em></a>\n",
            "</dd>\n",
            "</dl>\n",
            "</div>\n",
            "<div class=\"btn_area\">\n",
            "<a class=\"_sympathyButton\" href=\"#\" onclick=\"parent.clickcr(this, 'ara.sym', '', '', event);\">\n",
            "<span class=\"ico_up\"></span>\n",
            "<span class=\"blind\">공감</span>\n",
            "<strong class=\"sympathy_17682380\">711</strong>\n",
            "</a>\n",
            "<a class=\"_notSympathyButton\" href=\"#\" onclick=\"parent.clickcr(this, 'ara.opp', '', '', event);\">\n",
            "<span class=\"ico_down\"></span>\n",
            "<span class=\"blind\">비공감</span>\n",
            "<strong class=\"notSympathy_17682380\">174</strong>\n",
            "</a>\n",
            "</div>\n",
            "</li>\n",
            "<li>\n",
            "<div class=\"star_score\">\n",
            "<span class=\"st_off\"><span class=\"st_on\" style=\"width:60.0%\"></span></span><em>6</em>\n",
            "</div>\n",
            "<div class=\"score_reple\">\n",
            "<p>\n",
            "<span class=\"ico_viewer\">관람객</span>\n",
            "<!-- 스포일러 컨텐츠로 처리되는지 여부 -->\n",
            "<span class=\"text_spo _text_spo\" id=\"_text_spo_8\">스포일러가 포함된 감상평입니다. <a class=\"btn_more\" href=\"javascript:void(0);\" onclick=\"showMovieReview('8');\" role=\"button\">감상평 보기</a></span>\n",
            "<span id=\"_filtered_ment_8\" style=\"display:none;\">\r\n",
            "\t\t\t\t\t\t\t\t\t\t\t\t\t\t\r\n",
            "\t\t\t\t\t\t\t\t\t\t\t\t\t\t\t\r\n",
            "\t\t\t\t\t\t\t\t\t\t\t\t\t\t\t\r\n",
            "\t\t\t\t\t\t\t\t\t\t\t\t\t\t\t\t아부지를 왜케 미워하는거지 훈련빡시케 시켰다고 그러는건가아부지를 죽인댔다가 갑자기 필요하다하고 개연성이 좀 부족..텐링즈의 전설이란 제목도 뭐 굳이... \r\n",
            "\t\t\t\t\t\t\t\t\t\t\t\t\t\t\t\r\n",
            "\t\t\t\t\t\t\t\t\t\t\t\t\t\t\r\n",
            "\t\t\t\t\t\t\t\t\t\t\t\t\t\t\r\n",
            "\t\t\t\t\t\t\t\t\t\t\t\t\t</span>\n",
            "</p>\n",
            "<dl>\n",
            "<dt>\n",
            "<em>\n",
            "<a href=\"#\" onclick=\"javascript:showPointListByNid(17683572, 'after');parent.clickcr(this, 'ara.uid', '', '', event); return false;\" target=\"_top\">\n",
            "<span>척설오추(jagi****)</span>\n",
            "</a>\n",
            "</em>\n",
            "<em>2021.09.01 21:42</em>\n",
            "</dt>\n",
            "<dd>\n",
            "<a class=\"go_report2\" href=\"#\" onclick=\"parent.clickcr(this, 'ara.report', '', '', event); common.report('false','jagi****', 'z4SDb1+x1o2pGUqzfAD5tFTO2sHtfFg3IZ58UaciBzA=', '17683572', 'point_after', false);return false;\"><em>신고</em></a>\n",
            "</dd>\n",
            "</dl>\n",
            "</div>\n",
            "<div class=\"btn_area\">\n",
            "<a class=\"_sympathyButton\" href=\"#\" onclick=\"parent.clickcr(this, 'ara.sym', '', '', event);\">\n",
            "<span class=\"ico_up\"></span>\n",
            "<span class=\"blind\">공감</span>\n",
            "<strong class=\"sympathy_17683572\">625</strong>\n",
            "</a>\n",
            "<a class=\"_notSympathyButton\" href=\"#\" onclick=\"parent.clickcr(this, 'ara.opp', '', '', event);\">\n",
            "<span class=\"ico_down\"></span>\n",
            "<span class=\"blind\">비공감</span>\n",
            "<strong class=\"notSympathy_17683572\">120</strong>\n",
            "</a>\n",
            "</div>\n",
            "</li>\n",
            "<li class=\"last\">\n",
            "<div class=\"star_score\">\n",
            "<span class=\"st_off\"><span class=\"st_on\" style=\"width:60.0%\"></span></span><em>6</em>\n",
            "</div>\n",
            "<div class=\"score_reple\">\n",
            "<p>\n",
            "<span class=\"ico_viewer\">관람객</span>\n",
            "<!-- 스포일러 컨텐츠로 처리되는지 여부 -->\n",
            "<span id=\"_filtered_ment_9\">\r\n",
            "\t\t\t\t\t\t\t\t\t\t\t\t\t\t\r\n",
            "\t\t\t\t\t\t\t\t\t\t\t\t\t\t\t\r\n",
            "\t\t\t\t\t\t\t\t\t\t\t\t\t\t\t\r\n",
            "\t\t\t\t\t\t\t\t\t\t\t\t\t\t\t\t마블영화보면서 처음으로 졸았습니다 ㅜㅜ \r\n",
            "\t\t\t\t\t\t\t\t\t\t\t\t\t\t\t\r\n",
            "\t\t\t\t\t\t\t\t\t\t\t\t\t\t\r\n",
            "\t\t\t\t\t\t\t\t\t\t\t\t\t\t\r\n",
            "\t\t\t\t\t\t\t\t\t\t\t\t\t</span>\n",
            "</p>\n",
            "<dl>\n",
            "<dt>\n",
            "<em>\n",
            "<a href=\"#\" onclick=\"javascript:showPointListByNid(17686410, 'after');parent.clickcr(this, 'ara.uid', '', '', event); return false;\" target=\"_top\">\n",
            "<span>kupyt192(neid****)</span>\n",
            "</a>\n",
            "</em>\n",
            "<em>2021.09.03 11:02</em>\n",
            "</dt>\n",
            "<dd>\n",
            "<a class=\"go_report2\" href=\"#\" onclick=\"parent.clickcr(this, 'ara.report', '', '', event); common.report('false','neid****', 'L8NipknD6HFjGAotsc75nQaZjIn1dign5DqvRF+B3Ig=', '17686410', 'point_after', false);return false;\"><em>신고</em></a>\n",
            "</dd>\n",
            "</dl>\n",
            "</div>\n",
            "<div class=\"btn_area\">\n",
            "<a class=\"_sympathyButton\" href=\"#\" onclick=\"parent.clickcr(this, 'ara.sym', '', '', event);\">\n",
            "<span class=\"ico_up\"></span>\n",
            "<span class=\"blind\">공감</span>\n",
            "<strong class=\"sympathy_17686410\">764</strong>\n",
            "</a>\n",
            "<a class=\"_notSympathyButton\" href=\"#\" onclick=\"parent.clickcr(this, 'ara.opp', '', '', event);\">\n",
            "<span class=\"ico_down\"></span>\n",
            "<span class=\"blind\">비공감</span>\n",
            "<strong class=\"notSympathy_17686410\">276</strong>\n",
            "</a>\n",
            "</div>\n",
            "</li>\n",
            "</ul>\n",
            "</div>\n",
            "<div class=\"paging\">\n",
            "<div>\n",
            "<a href=\"/movie/bi/mi/pointWriteFormList.naver?code=187348&amp;type=after&amp;isActualPointWriteExecute=false&amp;isMileageSubscriptionAlready=false&amp;isMileageSubscriptionReject=false&amp;page=1\" id=\"pagerTagAnchor1\" onclick=\"parent.clickcr(this, 'ara.page', '', '', event);\"><span class=\"on\">1</span></a>\n",
            "<a href=\"/movie/bi/mi/pointWriteFormList.naver?code=187348&amp;type=after&amp;isActualPointWriteExecute=false&amp;isMileageSubscriptionAlready=false&amp;isMileageSubscriptionReject=false&amp;page=2\" id=\"pagerTagAnchor2\" onclick=\"parent.clickcr(this, 'ara.page', '', '', event);\"><span>2</span></a>\n",
            "<a href=\"/movie/bi/mi/pointWriteFormList.naver?code=187348&amp;type=after&amp;isActualPointWriteExecute=false&amp;isMileageSubscriptionAlready=false&amp;isMileageSubscriptionReject=false&amp;page=3\" id=\"pagerTagAnchor3\" onclick=\"parent.clickcr(this, 'ara.page', '', '', event);\"><span>3</span></a>\n",
            "<a href=\"/movie/bi/mi/pointWriteFormList.naver?code=187348&amp;type=after&amp;isActualPointWriteExecute=false&amp;isMileageSubscriptionAlready=false&amp;isMileageSubscriptionReject=false&amp;page=4\" id=\"pagerTagAnchor4\" onclick=\"parent.clickcr(this, 'ara.page', '', '', event);\"><span>4</span></a>\n",
            "<a href=\"/movie/bi/mi/pointWriteFormList.naver?code=187348&amp;type=after&amp;isActualPointWriteExecute=false&amp;isMileageSubscriptionAlready=false&amp;isMileageSubscriptionReject=false&amp;page=5\" id=\"pagerTagAnchor5\" onclick=\"parent.clickcr(this, 'ara.page', '', '', event);\"><span>5</span></a>\n",
            "<a href=\"/movie/bi/mi/pointWriteFormList.naver?code=187348&amp;type=after&amp;isActualPointWriteExecute=false&amp;isMileageSubscriptionAlready=false&amp;isMileageSubscriptionReject=false&amp;page=6\" id=\"pagerTagAnchor6\" onclick=\"parent.clickcr(this, 'ara.page', '', '', event);\"><span>6</span></a>\n",
            "<a href=\"/movie/bi/mi/pointWriteFormList.naver?code=187348&amp;type=after&amp;isActualPointWriteExecute=false&amp;isMileageSubscriptionAlready=false&amp;isMileageSubscriptionReject=false&amp;page=7\" id=\"pagerTagAnchor7\" onclick=\"parent.clickcr(this, 'ara.page', '', '', event);\"><span>7</span></a>\n",
            "<a href=\"/movie/bi/mi/pointWriteFormList.naver?code=187348&amp;type=after&amp;isActualPointWriteExecute=false&amp;isMileageSubscriptionAlready=false&amp;isMileageSubscriptionReject=false&amp;page=8\" id=\"pagerTagAnchor8\" onclick=\"parent.clickcr(this, 'ara.page', '', '', event);\"><span>8</span></a>\n",
            "<a href=\"/movie/bi/mi/pointWriteFormList.naver?code=187348&amp;type=after&amp;isActualPointWriteExecute=false&amp;isMileageSubscriptionAlready=false&amp;isMileageSubscriptionReject=false&amp;page=9\" id=\"pagerTagAnchor9\" onclick=\"parent.clickcr(this, 'ara.page', '', '', event);\"><span>9</span></a>\n",
            "<a href=\"/movie/bi/mi/pointWriteFormList.naver?code=187348&amp;type=after&amp;isActualPointWriteExecute=false&amp;isMileageSubscriptionAlready=false&amp;isMileageSubscriptionReject=false&amp;page=10\" id=\"pagerTagAnchor10\" onclick=\"parent.clickcr(this, 'ara.page', '', '', event);\"><span>10</span></a>\n",
            "<a class=\"pg_next\" href=\"/movie/bi/mi/pointWriteFormList.naver?code=187348&amp;type=after&amp;isActualPointWriteExecute=false&amp;isMileageSubscriptionAlready=false&amp;isMileageSubscriptionReject=false&amp;page=2\" id=\"pagerTagAnchor2\" onclick=\"parent.clickcr(this, 'ara.page', '', '', event);\" title=\"다음\"><em>다음</em></a>\n",
            "</div>\n",
            "</div>\n",
            "</div>\n",
            "</div>\n",
            "<!-- //content -->\n",
            "<form accept-charset=\"utf-8\" id=\"reportForm\" method=\"POST\" name=\"reportForm1\"></form>\n",
            "<script type=\"text/javascript\">\r\n",
            "\r\n",
            "\r\n",
            "if (false == false && \"after\" == \"after\" && false) {\r\n",
            "\tif (true && false) {\r\n",
            "\t\tjindo.$Element(\"pointWriteExecuteLayer\").show();\r\n",
            "\t} else if (false && true) {\r\n",
            "\t\tjindo.$Element(\"actualPointWriteExecuteLayer\").show();\r\n",
            "\t}\r\n",
            "}\r\n",
            "\r\n",
            "var oElActualPointWriteExecuteLayer = jindo.$Element(\"actualPointWriteExecuteLayer\");\r\n",
            "\r\n",
            "if (oElActualPointWriteExecuteLayer != null && oElActualPointWriteExecuteLayer != \"undefined\") {\r\n",
            "\r\n",
            "\t\r\n",
            "\tjindo.$Element(\"actualPointWriteExecuteLayerOkButton\").attach(\"click\", function(e){\r\n",
            "\t\te.stop(jindo.$Event.CANCEL_DEFAULT);\r\n",
            "\t\tjindo.$Element(\"actualPointWriteExecuteLayer\").hide();\r\n",
            "\t\trefreshPage();\r\n",
            "\t});\r\n",
            "\t\r\n",
            "\t\r\n",
            "\t\r\n",
            "\tjindo.$Element(\"actualPointWriteExecuteLayerCloseButton\").attach(\"click\", function(e){\r\n",
            "\t\te.stop(jindo.$Event.CANCEL_DEFAULT);\r\n",
            "\t\tjindo.$Element(\"actualPointWriteExecuteLayer\").hide();\r\n",
            "\t\trefreshPage();\r\n",
            "\t});\r\n",
            "\t\r\n",
            "}\r\n",
            "\r\n",
            "var oElPointWriteExecuteLayer = jindo.$Element(\"pointWriteExecuteLayer\");\r\n",
            "\r\n",
            "if (oElPointWriteExecuteLayer != null && oElPointWriteExecuteLayer != \"undefined\") {\r\n",
            "\t\r\n",
            "\tjindo.$Element(\"pointWriteExecuteLayerOkButton\").attach(\"click\", function(e){\r\n",
            "\t\te.stop(jindo.$Event.CANCEL_DEFAULT);\r\n",
            "\t\tjindo.$Element(\"pointWriteExecuteLayer\").hide();\r\n",
            "\t\trefreshPage();\r\n",
            "\t});\r\n",
            "\t\r\n",
            "\t\r\n",
            "\t\r\n",
            "\tjindo.$Element(\"pointWriteExecuteLayerCloseButton\").attach(\"click\", function(e){\r\n",
            "\t\te.stop(jindo.$Event.CANCEL_DEFAULT);\r\n",
            "\t\tjindo.$Element(\"pointWriteExecuteLayer\").hide();\r\n",
            "\t\trefreshPage();\r\n",
            "\t});\r\n",
            "\t\r\n",
            "}\r\n",
            "\r\n",
            "jindo.$Fn(function () {\r\n",
            "\r\n",
            "  function checkboxHandlerFactory(isActualYn, isLabel) {\r\n",
            "    return function() {\r\n",
            "      var actualYnChecked = jindo.$(\"actualYnCheckBox\").checked;\r\n",
            "      var spoilerYnChecked = jindo.$(\"spoilerYnCheckBox\").checked;\r\n",
            "\r\n",
            "      // convert\r\n",
            "      actualYnChecked = (isActualYn && isLabel)? !actualYnChecked : actualYnChecked;\r\n",
            "      spoilerYnChecked = (!isActualYn && isLabel)? !spoilerYnChecked : spoilerYnChecked;\r\n",
            "\r\n",
            "      location.href = \"/movie/bi/mi/pointWriteFormList.naver?code=187348&type=after&onlyActualPointYn=\" + (actualYnChecked? \"Y\" : \"N\")  + \"&onlySpoilerPointYn=\" + (spoilerYnChecked? \"Y\" : \"N\") + \"&order=sympathyScore\";\r\n",
            "    };\r\n",
            "  }\r\n",
            "\r\n",
            "\t\r\n",
            "\tif (jindo.$(\"actualYnCheckBox\") != null) {\r\n",
            "\t\tjindo.$Fn(checkboxHandlerFactory(true, false), this).attach(jindo.$(\"actualYnCheckBox\"), 'click');\r\n",
            "\t}\r\n",
            "\r\n",
            "\tif (jindo.$(\"actualYnLable\") != null) {\r\n",
            "\t    jindo.$Fn(checkboxHandlerFactory(true, true), this).attach(jindo.$(\"actualYnLable\"), 'click');\r\n",
            "\t}\r\n",
            "\r\n",
            "\t\r\n",
            "    if (jindo.$(\"spoilerYnCheckBox\") != null) {\r\n",
            "    jindo.$Fn(checkboxHandlerFactory(false, false), this).attach(jindo.$(\"spoilerYnCheckBox\"), 'click');\r\n",
            "  }\r\n",
            "\r\n",
            "  if (jindo.$(\"spoilerYnLable\") != null) {\r\n",
            "    jindo.$Fn(checkboxHandlerFactory(false, true), this).attach(jindo.$(\"spoilerYnLable\"), 'click');\r\n",
            "  }\r\n",
            "\t\r\n",
            "\t\r\n",
            "\tif (jindo.$Element(\"actualPointHelp\") != null && jindo.$Element(\"actualPointHelp\") != \"undefined\") {\r\n",
            "\t\tactualPointHelpLayerToggle = function() {\r\n",
            "\t\t\tsetTimeout( function() {\r\n",
            "\t\t\t\tif (document.activeElement != null) {\r\n",
            "\t\t\t\t\tvar focusedEl = jindo.$Element(document.activeElement);\r\n",
            "\t\t\t\t\tif (focusedEl != null) {\r\n",
            "\t\t\t\t\t\tif ( !focusedEl.hasClass(\"_actualPointHelp\") ) {\r\n",
            "\t\t\t\t\t\t\t jindo.$Element(\"actualPointHelp\").hide();\r\n",
            "\t\t\t\t\t\t}\r\n",
            "\t\t\t\t\t}\r\n",
            "\t\t\t\t}\r\n",
            "\t\t\t}, 100);\r\n",
            "\t\t};\r\n",
            "\r\n",
            "\t\tnew jindo.LayerManager(\"actualPointHelp\", {\r\n",
            "\t\t\tsCheckEvent : \"click\",\r\n",
            "\t\t\tnHideDelay : 0\r\n",
            "\t\t}).link(jindo.$(\"actualPointHelp\"), jindo.$(\"actualPointHelpButton\"));\r\n",
            "\r\n",
            "\t\tjindo.$Element(\"actualPointHelpButton\").attach(\"click\", function(e){\r\n",
            "\t\t\te.stop(jindo.$Event.CANCEL_DEFAULT);\r\n",
            "\t\t\tjindo.$Element(\"actualPointHelp\").toggle();\r\n",
            "\t\t});\r\n",
            "\r\n",
            "\t\tjindo.$Element(\"actualPointHelpCloseButton\").attach(\"click\", function(e){\r\n",
            "\t\t\te.stop(jindo.$Event.CANCEL_DEFAULT);\r\n",
            "\t\t\tjindo.$Element(\"actualPointHelp\").toggle();\r\n",
            "\t\t});\r\n",
            "\r\n",
            "\t\t\r\n",
            "\t\tvar waelActualPointHelp = jindo.$ElementList('._actualPointHelp');\r\n",
            "\r\n",
            "\t\tjindo.$A(waelActualPointHelp.$value()).forEach(function(value, index, array) {\r\n",
            "\t\t\tjindo.$Fn(actualPointHelpLayerToggle, this).attach(value, \"blur\");\r\n",
            "\t\t});\r\n",
            "\t}\r\n",
            "\r\n",
            "\tparent.setParamForPointAfterList('N', 'sympathyScore', '1');\r\n",
            "\tparent.resizePointAfterListIframe(0);\r\n",
            "\r\n",
            "\t// 최소 높이 270px 지정\r\n",
            "\tvar frameHeight = eval(jindo.$Document().scrollSize().height);\r\n",
            "\r\n",
            "\tparent.resizePointAfterListIframe(frameHeight);\r\n",
            "\tparent.isPointAfterListLoad = true;\r\n",
            "\t\r\n",
            "\t\r\n",
            "\t\r\n",
            "\r\n",
            "  var isCheckPointExist = false;\r\n",
            "  // TODO: fix below condition\r\n",
            "  if (false) {\r\n",
            "    if(jindo.$Element(\"open-form-btn\")) {\r\n",
            "\t\tjindo.$Element(\"open-form-btn\").attach(\"click\", function(e) {\r\n",
            "\t\t  \t\r\n",
            "\t\t  \t\r\n",
            "\t\t\t\r\n",
            "\t\t  if (true && false && isCheckPointExist == false) {\r\n",
            "\t\t\tparent.point.checkPointAfterExistAndMileageSubscriptionType();\r\n",
            "\t\t  }\r\n",
            "\t\t  isCheckPointExist = true;\r\n",
            "\t\t  parent.openPointWriteForm();\r\n",
            "\t\t});\r\n",
            "    }\r\n",
            "  } else {\r\n",
            "    if (jindo.$Element(\"open-form-btn\")) {\r\n",
            "\t\tjindo.$Element(\"open-form-btn\").attach(\"click\", function (e) {\r\n",
            "\t\t  common.checkLogin(false);\r\n",
            "\t\t});\r\n",
            "    }\r\n",
            "  }\r\n",
            "\r\n",
            "  var isHide = true;\r\n",
            "\r\n",
            "  if(jindo.$Element(\"eval-edit\")) {\r\n",
            "    jindo.$Element(\"eval-edit\").attach(\"click\", function() {\r\n",
            "\t\t  var edit = jindo.$Element(\"ly-edit\");\r\n",
            "\t  \tisHide ? edit.show() : edit.hide();\r\n",
            "      \tisHide = !isHide;\r\n",
            "    })\r\n",
            "  }\r\n",
            "  parent.resizePointAfterListIframeOnLoad();\r\n",
            "}, this).attach(this, 'load');\r\n",
            "\r\n",
            "var point = {\r\n",
            "\t\tcheckLoginWithMessage : function(login, loginMessage, notLoginMessage) {\r\n",
            "\t\t\tif(login == false){\r\n",
            "\t\t\t\tif(confirm(message)){\r\n",
            "\t\t\t\t\ttop.location.href=\"https://nid.naver.com/nidlogin.login?mode=form&url=\"+encodeURIComponent(top.location.href);\r\n",
            "\t\t\t\t}\r\n",
            "\t\t\t\treturn false;\r\n",
            "\t\t\t}\r\n",
            "\t\t\treturn true;\r\n",
            "\t\t},\r\n",
            "\r\n",
            "\t\t\r\n",
            "\t\tcheckAlreadyPointAfterExist : function (nid) {\r\n",
            "\t\t\tvar existPointType = \"pointBefore\";\r\n",
            "\t\t\t\r\n",
            "\t\t\tif (false == false) {\r\n",
            "\t\t\t\tvar oAjax = new jindo.$Ajax(\"/api/internal/point/pointAfterExistJson.naver\", {\r\n",
            "\t\t\t    \tonload : function (oRes) {\r\n",
            "\t\t\t    \t\tvar resultCode = oRes.json().resultCode;\r\n",
            "\t\t\t    \t\t\r\n",
            "\t\t\t    \t\tif (resultCode == \"error\") {\t\t\t\t\t\t\t// 서버 오류\r\n",
            "\t\t\t    \t\t\talert(\"오류가 발생했습니다. 잠시 후 다시 시도해주세요.\");\r\n",
            "\t\t\t    \t\t\treturn false;\r\n",
            "\t\t\t    \t\t} else {\r\n",
            "\t\t\t    \t\t\texistPointType = oRes.json().existPointType;\r\n",
            "\t\t\t    \t\t\tpoint.del(existPointType, nid);\r\n",
            "\t\t\t    \t\t}\r\n",
            "\t\t\t    \t},\r\n",
            "\t\t\t\t\ttimeout : 5,\r\n",
            "\t\t\t    \tonerror : function (oRes) {\r\n",
            "\t\t\t    \t\talert(\"오류가 발생했습니다. 잠시 후 다시 시도해주세요.\");\r\n",
            "\t\t\t    \t\treturn false;\r\n",
            "\t\t\t    \t},\r\n",
            "\t\t\t    \tontimeout : function (oRes) {\r\n",
            "\t\t\t    \t\talert(\"처리가 지연되고 있습니다. 다시 시도해주세요.\");\r\n",
            "\t\t\t    \t\treturn false;\r\n",
            "\t\t\t    \t}\r\n",
            "\t\t\t    });\r\n",
            "\t\t\t    \r\n",
            "\t\t\t    oAjax.request({\r\n",
            "\t\t\t    \t\"movieCode\" : \"187348\",\r\n",
            "\t\t\t    \t\"isActualPoint\" : \"false\"\r\n",
            "\t\t\t    });\r\n",
            "\t\t\t} else {\r\n",
            "\t\t\t\tpoint.del(existPointType, nid);\r\n",
            "\t\t\t}\r\n",
            "\t\t},\r\n",
            "\r\n",
            "\t\tdel : function (existPointType, nid) {\r\n",
            "\t\t\tif (existPointType == \"actualPoint\") {\r\n",
            "\t\t\t\tif (confirm(\"관람객 평점 삭제시, 평점 작성으로 적립된 포인트는 회수됩니다. 평점을 삭제할까요?\") == false) {\r\n",
            "\t\t\t\t\treturn false;\r\n",
            "\t\t\t\t}\r\n",
            "\t\t\t} else {\r\n",
            "\t\t\t\tif (confirm(\"본인 삭제 시 복구할 수 없습니다.\\n평점을 삭제하시겠습니까?\") == false) {\r\n",
            "\t\t\t\t\treturn false;\r\n",
            "\t\t\t\t}\r\n",
            "\t\t\t}\r\n",
            "\t\t\t\r\n",
            "\t\t\tvar ajaxDeleteUrl = \"/api/internal/point/pointBeforeDelete.naver\";\r\n",
            "\t\t\tif (\"after\" == \"after\") {\r\n",
            "\t\t\t\tajaxDeleteUrl = \"/api/internal/point/pointAfterDelete.naver\";\r\n",
            "\t\t\t}\r\n",
            "\t\t\t\r\n",
            "\t\t\tvar ajax = new jindo.$Ajax(ajaxDeleteUrl, { \r\n",
            "\t\t\t\tmethod : \"POST\",\r\n",
            "\t\t\t\tasync : false,\r\n",
            "\t\t\t\tonload : this.delCallback\r\n",
            "\t\t\t});\r\n",
            "\t\t\tajax.header(\"ajax\", \"true\");\r\n",
            "\t\t\tajax.request({\r\n",
            "\t\t\t\t\"nid\":nid\r\n",
            "\t\t\t});\r\n",
            "\t\t},\r\n",
            "\t\t\r\n",
            "\t\tdelCallback : function(req) {\r\n",
            "\t\t\tvar returnValue = req.text();\r\n",
            "\t\t\t\r\n",
            "\t\t\tif(returnValue != \"success\"){\r\n",
            "\t\t\t\talert(returnValue);\r\n",
            "\t\t\t\treturn false;\r\n",
            "\t\t\t}\r\n",
            "\t\t\t\r\n",
            "\t\t\ttop.location.href = '/movie/bi/mi/point.naver?code=187348#pointAfterTab';\r\n",
            "\t\t\ttop.location.reload(true);\r\n",
            "\t\t}\r\n",
            "};\r\n",
            "\r\n",
            "function dislplayOrder(order) {\r\n",
            "\tvar url = \"/movie/bi/mi/pointWriteFormList.naver?code=187348&type=after\";\r\n",
            "\t\r\n",
            "\tvar onlyActualPointYnValue = jindo.$(\"onlyActualPointYn\").value;\r\n",
            "  \tvar includeSpoilerYnValue = jindo.$(\"includeSpoilerYn\").value;\r\n",
            "\r\n",
            "\tif (onlyActualPointYnValue != \"\") {\r\n",
            "\t\turl = url + \"&onlyActualPointYn=\" + onlyActualPointYnValue;\r\n",
            "\t}\r\n",
            "\r\n",
            "\tif (includeSpoilerYnValue != \"\") {\r\n",
            "      url = url + \"&onlySpoilerPointYn=\" + includeSpoilerYnValue;\r\n",
            "    }\r\n",
            "\t\r\n",
            "\turl = url + \"&order=\" + order;\r\n",
            "\t\r\n",
            "\tlocation.href = document.location.protocol + \"//\" + document.domain + url;\r\n",
            "}\r\n",
            "\r\n",
            "function showPointListByNid(nid, target){\r\n",
            "\tif (target == 'after') {\r\n",
            "\t\ttop.location.href = top.location.protocol + \"//\" + top.location.hostname + \"/movie/point/af/list.naver?st=nickname&target=after&sword=\"+nid;\r\n",
            "\t} else {\r\n",
            "\t\ttop.location.href = top.location.protocol + \"//\" + top.location.hostname + \"/movie/point/af/list.naver?st=nickname_before&target=before&sword=\"+nid;\r\n",
            "\t}\r\n",
            "}\r\n",
            "\r\n",
            "function refreshPage() {\r\n",
            "\t \r\n",
            "\ttop.location.href = '/movie/bi/mi/point.naver?code=187348#pointAfterTab';\r\n",
            "}\r\n",
            "\r\n",
            "// 스포일러 감상평 내용 보기\r\n",
            "function showMovieReview(rvwIdx) {\r\n",
            "    jindo.$Element('_text_spo_' + rvwIdx).css('display', 'none');\r\n",
            "    jindo.$Element('_filtered_ment_' + rvwIdx).css('display', 'block');\r\n",
            "    parent.resizePointAfterListIframeOnLoad();\r\n",
            "}\r\n",
            "\r\n",
            "// 감상평 펼쳐보기\r\n",
            "function unfoldPointMent(obj) {\r\n",
            "    var fullMent = jindo.$Element(obj).attr(\"data-src\");\r\n",
            "    jindo.$Element(obj).parent().html(fullMent);\r\n",
            "    parent.resizePointAfterListIframeOnLoad();\r\n",
            "}\r\n",
            "\r\n",
            "\r\n",
            "</script>\n",
            "<script type=\"text/javascript\">\r\n",
            "\tvar sympathy = new Sympathy(\"187348\", \"after\");\r\n",
            "</script>\n",
            "<script type=\"text/javascript\">\r\n",
            "            jindo.$Fn(function() {\r\n",
            "                try{ lcs_do(); } catch(e){}\r\n",
            "            }).attach(window, \"pageshow\");\r\n",
            "\t\t</script>\n",
            "</body>\n",
            "</html>\n"
          ]
        }
      ]
    },
    {
      "cell_type": "markdown",
      "metadata": {
        "id": "XmW-E1MCzuiH"
      },
      "source": [
        "댓글 부분에 해당하는 요소를 확인하고 내용을 추출합니다."
      ]
    },
    {
      "cell_type": "code",
      "metadata": {
        "id": "9TkLAcWOvnSc",
        "colab": {
          "base_uri": "https://localhost:8080/"
        },
        "outputId": "068d38cd-38f5-4a57-cfca-86fdaa03c540"
      },
      "source": [
        "# 첫 번째 리뷰\n",
        "html_reviews = html_source.find('span',{'id': '_filtered_ment_0'}) \n",
        "print(html_reviews)"
      ],
      "execution_count": 47,
      "outputs": [
        {
          "output_type": "stream",
          "name": "stdout",
          "text": [
            "<span id=\"_filtered_ment_0\">\r\n",
            "\t\t\t\t\t\t\t\t\t\t\t\t\t\t\r\n",
            "\t\t\t\t\t\t\t\t\t\t\t\t\t\t\t\r\n",
            "\t\t\t\t\t\t\t\t\t\t\t\t\t\t\t\r\n",
            "\t\t\t\t\t\t\t\t\t\t\t\t\t\t\t\t명품 브랜드라 믿고 샀는데 안에 made in china가 적혀있었다 \r\n",
            "\t\t\t\t\t\t\t\t\t\t\t\t\t\t\t\r\n",
            "\t\t\t\t\t\t\t\t\t\t\t\t\t\t\r\n",
            "\t\t\t\t\t\t\t\t\t\t\t\t\t\t\r\n",
            "\t\t\t\t\t\t\t\t\t\t\t\t\t</span>\n"
          ]
        }
      ]
    },
    {
      "cell_type": "code",
      "metadata": {
        "id": "v6xKmgUC1H7_",
        "colab": {
          "base_uri": "https://localhost:8080/"
        },
        "outputId": "9e3773ab-519b-43fa-b03f-8ec849c4e56d"
      },
      "source": [
        "# 10명 리뷰 확인\n",
        "for i in range(10):\n",
        "    html_reviews = html_source.find('span',{'id': '_filtered_ment_'+str(i)}) \n",
        "    print(html_reviews)"
      ],
      "execution_count": 48,
      "outputs": [
        {
          "output_type": "stream",
          "name": "stdout",
          "text": [
            "<span id=\"_filtered_ment_0\">\r\n",
            "\t\t\t\t\t\t\t\t\t\t\t\t\t\t\r\n",
            "\t\t\t\t\t\t\t\t\t\t\t\t\t\t\t\r\n",
            "\t\t\t\t\t\t\t\t\t\t\t\t\t\t\t\r\n",
            "\t\t\t\t\t\t\t\t\t\t\t\t\t\t\t\t명품 브랜드라 믿고 샀는데 안에 made in china가 적혀있었다 \r\n",
            "\t\t\t\t\t\t\t\t\t\t\t\t\t\t\t\r\n",
            "\t\t\t\t\t\t\t\t\t\t\t\t\t\t\r\n",
            "\t\t\t\t\t\t\t\t\t\t\t\t\t\t\r\n",
            "\t\t\t\t\t\t\t\t\t\t\t\t\t</span>\n",
            "<span id=\"_filtered_ment_1\">\n",
            "<span class=\"_unfold_ment\" id=\"_unfold_ment1\">\n",
            "<a data-src=\"자세히 보면 중국 문화 올려치는 영화입니다. 초반부터 똥양계는 무조건 한국인 취급하는데 우리는 당당히 중국인이다. ㅇㅈㄹ하고요. 깊고 정통한 중국 문화는 대를 이어서 간다. 마카오에서 K-POP 댄스 추는 거 보고 무조건 힙하지? 우리 중국 문화야 ㅋ 구미호, 기린, 용은 우리 문화다. 사람 죽으면 물에 연등 띄우는 거? 우리 중국 문화다. 동북공정 영화입니다. 영화는 자세히 보세요. 의도가 있습니다. \" href=\"javascript:void(0);\" onclick=\"unfoldPointMent(this);\">\r\n",
            "\t\t\t\t\t\t\t\t\t\t\t\t\t\t\t\t\t\t자세히 보면 중국 문화 올려치는 영화입니다. 초반부터 똥양계는 무조건 한국인 취급하는데 우리는 당당히 중국인이다. ㅇㅈㄹ하고요. 깊고 정통한 중국 문화는 대를 이어서 간다. 마카오에서 K-POP 댄스 추는 거 보고 ...\r\n",
            "\t\t\t\t\t\t\t\t\t\t\t\t\t\t\t\t\t</a>\n",
            "</span>\n",
            "</span>\n",
            "<span id=\"_filtered_ment_2\">\r\n",
            "\t\t\t\t\t\t\t\t\t\t\t\t\t\t\r\n",
            "\t\t\t\t\t\t\t\t\t\t\t\t\t\t\t\r\n",
            "\t\t\t\t\t\t\t\t\t\t\t\t\t\t\t\r\n",
            "\t\t\t\t\t\t\t\t\t\t\t\t\t\t\t\t마블의 중국산 D-War \r\n",
            "\t\t\t\t\t\t\t\t\t\t\t\t\t\t\t\r\n",
            "\t\t\t\t\t\t\t\t\t\t\t\t\t\t\r\n",
            "\t\t\t\t\t\t\t\t\t\t\t\t\t\t\r\n",
            "\t\t\t\t\t\t\t\t\t\t\t\t\t</span>\n",
            "<span id=\"_filtered_ment_3\">\n",
            "<span class=\"_unfold_ment\" id=\"_unfold_ment3\">\n",
            "<a data-src=\"세계관이나 설정들이 너무 붕 떠있고 개연성은 밥말아 먹어놓고 억지 신파 끼워넣기에 주인공은 무색무취 아무 매력 없음. 10초전 까지 죽일듯이 싸우던 애들이 갑자기 우리 함께 싸우자 ㅇㅈㄹ 하질 않나. 아부지 행동들 감정기복 너무 심해서 공감도 안가고, 사건들이 빌드업도 없이 무지성으로 튀어나오니까 몰입도 안 됨. 배우가 너무 아깝다. \" href=\"javascript:void(0);\" onclick=\"unfoldPointMent(this);\">\r\n",
            "\t\t\t\t\t\t\t\t\t\t\t\t\t\t\t\t\t\t세계관이나 설정들이 너무 붕 떠있고 개연성은 밥말아 먹어놓고 억지 신파 끼워넣기에 주인공은 무색무취 아무 매력 없음. 10초전 까지 죽일듯이 싸우던 애들이 갑자기 우리 함께 싸우자 ㅇㅈㄹ 하질 않나. 아부지 행동들 ...\r\n",
            "\t\t\t\t\t\t\t\t\t\t\t\t\t\t\t\t\t</a>\n",
            "</span>\n",
            "</span>\n",
            "<span id=\"_filtered_ment_4\">\r\n",
            "\t\t\t\t\t\t\t\t\t\t\t\t\t\t\r\n",
            "\t\t\t\t\t\t\t\t\t\t\t\t\t\t\t\r\n",
            "\t\t\t\t\t\t\t\t\t\t\t\t\t\t\t\r\n",
            "\t\t\t\t\t\t\t\t\t\t\t\t\t\t\t\t마블의 탈을 쓴 중국 무협영화. 중국 시장과 자본을 지나치게 의식한 디즈니의 연이은 헛발질. CG 범벅에 협소한 공간에서 몇 안되는 인원들의 액션 등 스케일마저 왜 이리 작아진 건지... \r\n",
            "\t\t\t\t\t\t\t\t\t\t\t\t\t\t\t\r\n",
            "\t\t\t\t\t\t\t\t\t\t\t\t\t\t\r\n",
            "\t\t\t\t\t\t\t\t\t\t\t\t\t\t\r\n",
            "\t\t\t\t\t\t\t\t\t\t\t\t\t</span>\n",
            "<span id=\"_filtered_ment_5\">\r\n",
            "\t\t\t\t\t\t\t\t\t\t\t\t\t\t\r\n",
            "\t\t\t\t\t\t\t\t\t\t\t\t\t\t\t\r\n",
            "\t\t\t\t\t\t\t\t\t\t\t\t\t\t\t\r\n",
            "\t\t\t\t\t\t\t\t\t\t\t\t\t\t\t\t하 정말 재미없네요.. \r\n",
            "\t\t\t\t\t\t\t\t\t\t\t\t\t\t\t\r\n",
            "\t\t\t\t\t\t\t\t\t\t\t\t\t\t\r\n",
            "\t\t\t\t\t\t\t\t\t\t\t\t\t\t\r\n",
            "\t\t\t\t\t\t\t\t\t\t\t\t\t</span>\n",
            "<span id=\"_filtered_ment_6\">\r\n",
            "\t\t\t\t\t\t\t\t\t\t\t\t\t\t\r\n",
            "\t\t\t\t\t\t\t\t\t\t\t\t\t\t\t\r\n",
            "\t\t\t\t\t\t\t\t\t\t\t\t\t\t\t\r\n",
            "\t\t\t\t\t\t\t\t\t\t\t\t\t\t\t\t마블 영화를 본 건지 중국 영화를 본 건지 모르겠지만 양조위는 너무 멋있더라.... \r\n",
            "\t\t\t\t\t\t\t\t\t\t\t\t\t\t\t\r\n",
            "\t\t\t\t\t\t\t\t\t\t\t\t\t\t\r\n",
            "\t\t\t\t\t\t\t\t\t\t\t\t\t\t\r\n",
            "\t\t\t\t\t\t\t\t\t\t\t\t\t</span>\n",
            "<span id=\"_filtered_ment_7\">\r\n",
            "\t\t\t\t\t\t\t\t\t\t\t\t\t\t\r\n",
            "\t\t\t\t\t\t\t\t\t\t\t\t\t\t\t\r\n",
            "\t\t\t\t\t\t\t\t\t\t\t\t\t\t\t\r\n",
            "\t\t\t\t\t\t\t\t\t\t\t\t\t\t\t\t마블의 새로운 시작이다… 재밌어요 \r\n",
            "\t\t\t\t\t\t\t\t\t\t\t\t\t\t\t\r\n",
            "\t\t\t\t\t\t\t\t\t\t\t\t\t\t\r\n",
            "\t\t\t\t\t\t\t\t\t\t\t\t\t\t\r\n",
            "\t\t\t\t\t\t\t\t\t\t\t\t\t</span>\n",
            "<span id=\"_filtered_ment_8\" style=\"display:none;\">\r\n",
            "\t\t\t\t\t\t\t\t\t\t\t\t\t\t\r\n",
            "\t\t\t\t\t\t\t\t\t\t\t\t\t\t\t\r\n",
            "\t\t\t\t\t\t\t\t\t\t\t\t\t\t\t\r\n",
            "\t\t\t\t\t\t\t\t\t\t\t\t\t\t\t\t아부지를 왜케 미워하는거지 훈련빡시케 시켰다고 그러는건가아부지를 죽인댔다가 갑자기 필요하다하고 개연성이 좀 부족..텐링즈의 전설이란 제목도 뭐 굳이... \r\n",
            "\t\t\t\t\t\t\t\t\t\t\t\t\t\t\t\r\n",
            "\t\t\t\t\t\t\t\t\t\t\t\t\t\t\r\n",
            "\t\t\t\t\t\t\t\t\t\t\t\t\t\t\r\n",
            "\t\t\t\t\t\t\t\t\t\t\t\t\t</span>\n",
            "<span id=\"_filtered_ment_9\">\r\n",
            "\t\t\t\t\t\t\t\t\t\t\t\t\t\t\r\n",
            "\t\t\t\t\t\t\t\t\t\t\t\t\t\t\t\r\n",
            "\t\t\t\t\t\t\t\t\t\t\t\t\t\t\t\r\n",
            "\t\t\t\t\t\t\t\t\t\t\t\t\t\t\t\t마블영화보면서 처음으로 졸았습니다 ㅜㅜ \r\n",
            "\t\t\t\t\t\t\t\t\t\t\t\t\t\t\t\r\n",
            "\t\t\t\t\t\t\t\t\t\t\t\t\t\t\r\n",
            "\t\t\t\t\t\t\t\t\t\t\t\t\t\t\r\n",
            "\t\t\t\t\t\t\t\t\t\t\t\t\t</span>\n"
          ]
        }
      ]
    },
    {
      "cell_type": "code",
      "metadata": {
        "id": "mtLop6M32zuF",
        "colab": {
          "base_uri": "https://localhost:8080/"
        },
        "outputId": "94212de6-0329-47f2-f916-6c93714f9463"
      },
      "source": [
        "# 10명 리뷰 확인, 불필요한 HTML 태그 제거하기 -> .text.strip()\n",
        "for i in range(10):\n",
        "    html_reviews = html_source.find('span',{'id': '_filtered_ment_'+str(i)}) \n",
        "    print(html_reviews.text.strip())"
      ],
      "execution_count": 49,
      "outputs": [
        {
          "output_type": "stream",
          "name": "stdout",
          "text": [
            "명품 브랜드라 믿고 샀는데 안에 made in china가 적혀있었다\n",
            "자세히 보면 중국 문화 올려치는 영화입니다. 초반부터 똥양계는 무조건 한국인 취급하는데 우리는 당당히 중국인이다. ㅇㅈㄹ하고요. 깊고 정통한 중국 문화는 대를 이어서 간다. 마카오에서 K-POP 댄스 추는 거 보고 ...\n",
            "마블의 중국산 D-War\n",
            "세계관이나 설정들이 너무 붕 떠있고 개연성은 밥말아 먹어놓고 억지 신파 끼워넣기에 주인공은 무색무취 아무 매력 없음. 10초전 까지 죽일듯이 싸우던 애들이 갑자기 우리 함께 싸우자 ㅇㅈㄹ 하질 않나. 아부지 행동들 ...\n",
            "마블의 탈을 쓴 중국 무협영화. 중국 시장과 자본을 지나치게 의식한 디즈니의 연이은 헛발질. CG 범벅에 협소한 공간에서 몇 안되는 인원들의 액션 등 스케일마저 왜 이리 작아진 건지...\n",
            "하 정말 재미없네요..\n",
            "마블 영화를 본 건지 중국 영화를 본 건지 모르겠지만 양조위는 너무 멋있더라....\n",
            "마블의 새로운 시작이다… 재밌어요\n",
            "아부지를 왜케 미워하는거지 훈련빡시케 시켰다고 그러는건가아부지를 죽인댔다가 갑자기 필요하다하고 개연성이 좀 부족..텐링즈의 전설이란 제목도 뭐 굳이...\n",
            "마블영화보면서 처음으로 졸았습니다 ㅜㅜ\n"
          ]
        }
      ]
    },
    {
      "cell_type": "code",
      "metadata": {
        "id": "TncEqpQd3c0I"
      },
      "source": [
        "# 10 페이지에 대해 댓글 수집\n",
        "from urllib.request import urlopen # 웹서버에 접근 모듈 \n",
        "from bs4 import BeautifulSoup # 웹페이지 내용구조 분석 모듈\n",
        "\n",
        "reviews_list = []\n",
        "for j in range(1, 11):\n",
        "    url='https://movie.naver.com/movie/bi/mi/pointWriteFormList.naver?code=187348&type=after&isActualPointWriteExecute=false&isMileageSubscriptionAlready=false&isMileageSubscriptionReject=false&page='+str(j)\n",
        "    html=urlopen(url)\n",
        "    html_source = BeautifulSoup(html,'html.parser',from_encoding='utf-8') # 댓글 페이지를 utf-8형식으로 html 소스가져오기\n",
        "\n",
        "    for i in range(10):\n",
        "        html_reviews = html_source.find('span',{'id': '_filtered_ment_'+str(i)}) \n",
        "        reviews_list.append(html_reviews.text.strip())\n",
        "\n",
        "file = open('reviews.txt', 'w', encoding='utf-8')\n",
        "for review in reviews_list: # 요소를 1개의 행으로 저장되도록 개행문자 추가\n",
        "    file.write(review + '\\n') # 개행 문자 추가 --> Enter, 줄바꿈 효과 \n",
        "file.close()"
      ],
      "execution_count": 50,
      "outputs": []
    },
    {
      "cell_type": "markdown",
      "metadata": {
        "id": "M86-WQzQ5A8D"
      },
      "source": [
        "크롤링한 데이터 전처리"
      ]
    },
    {
      "cell_type": "code",
      "metadata": {
        "id": "58wEPxiH4uAA"
      },
      "source": [
        "with open('reviews.txt', 'r', encoding='utf-8') as f:\n",
        "    review_data = f.readlines()\n",
        "\n",
        "f.close()"
      ],
      "execution_count": 51,
      "outputs": []
    },
    {
      "cell_type": "code",
      "metadata": {
        "id": "OSlC2cAL5Hz5",
        "colab": {
          "base_uri": "https://localhost:8080/"
        },
        "outputId": "7a85a2fe-f6ce-4f2e-f6a7-c2fb794cf22f"
      },
      "source": [
        "len(review_data)"
      ],
      "execution_count": 52,
      "outputs": [
        {
          "output_type": "execute_result",
          "data": {
            "text/plain": [
              "100"
            ]
          },
          "metadata": {},
          "execution_count": 52
        }
      ]
    },
    {
      "cell_type": "code",
      "metadata": {
        "id": "vw1rqSQUVLbb",
        "colab": {
          "base_uri": "https://localhost:8080/"
        },
        "outputId": "a4ca4d3f-41e4-4aa0-aae5-9edfac532eab"
      },
      "source": [
        "review_data"
      ],
      "execution_count": 53,
      "outputs": [
        {
          "output_type": "execute_result",
          "data": {
            "text/plain": [
              "['명품 브랜드라 믿고 샀는데 안에 made in china가 적혀있었다\\n',\n",
              " '자세히 보면 중국 문화 올려치는 영화입니다. 초반부터 똥양계는 무조건 한국인 취급하는데 우리는 당당히 중국인이다. ㅇㅈㄹ하고요. 깊고 정통한 중국 문화는 대를 이어서 간다. 마카오에서 K-POP 댄스 추는 거 보고 ...\\n',\n",
              " '마블의 중국산 D-War\\n',\n",
              " '세계관이나 설정들이 너무 붕 떠있고 개연성은 밥말아 먹어놓고 억지 신파 끼워넣기에 주인공은 무색무취 아무 매력 없음. 10초전 까지 죽일듯이 싸우던 애들이 갑자기 우리 함께 싸우자 ㅇㅈㄹ 하질 않나. 아부지 행동들 ...\\n',\n",
              " '마블의 탈을 쓴 중국 무협영화. 중국 시장과 자본을 지나치게 의식한 디즈니의 연이은 헛발질. CG 범벅에 협소한 공간에서 몇 안되는 인원들의 액션 등 스케일마저 왜 이리 작아진 건지...\\n',\n",
              " '하 정말 재미없네요..\\n',\n",
              " '마블 영화를 본 건지 중국 영화를 본 건지 모르겠지만 양조위는 너무 멋있더라....\\n',\n",
              " '마블의 새로운 시작이다… 재밌어요\\n',\n",
              " '아부지를 왜케 미워하는거지 훈련빡시케 시켰다고 그러는건가아부지를 죽인댔다가 갑자기 필요하다하고 개연성이 좀 부족..텐링즈의 전설이란 제목도 뭐 굳이...\\n',\n",
              " '마블영화보면서 처음으로 졸았습니다 ㅜㅜ\\n',\n",
              " '일라오이 VS 사일러스\\n',\n",
              " '진짜 개노잼이다 와 이렇게 재미없는 마블영화도 첨\\n',\n",
              " '마블 영화라 믿기지 않을 정도로 지루해.. 졸려 죽는 줄 알았다ㅠ\\n',\n",
              " '노잼, 개연성 제로, 중국산 웹툰 느낌\\n',\n",
              " '전형적인 서양에서 생각하는 온갖 동양 클리셰는 몽따 넣은 영화 .. 보면서 불편\\n',\n",
              " '보는내내ㅠ드는 생각....왜 총안씀...?\\n',\n",
              " '자기 어머니를 죽인 집단을, 다시 복수하는건데, 그걸 굳이 아버지를 미워하게 되는 관점이 좀 웃기긴함. 훈련과정속에서는 딱히 미워할요소가 없는데. 그리고 젤 황당했던게, 천년간 텐링즈끼고 잘 살아왔는데 난데없이 싸우...\\n',\n",
              " '솔직히 샹치 캐릭터의 매력이 뭔지 잘모르겠고 용타고 날라다닐땐 마블이 왜 저러나싶음...샹치 표정연기 못해서 캐릭터 몰입안됨..미스캐스팅....연기도 별로...캐릭들의 감정 이입도 어색하고(양조위 제외) 진행 전개도...\\n',\n",
              " '이게뭐냐 진짜 마블 실망\\n',\n",
              " '마블에서 디워를 만들면 이렇겠구나\\n',\n",
              " '마블을 기대하고 갔다가 추억의 중국무술영화 보고옴. 중국무술영화 좋아하던 분들은 재밌겠네. 난 뭘 보고온거지....\\n',\n",
              " '보지마.... 그냥 길에 돈과 시간을 버리자\\n',\n",
              " '마블빠돌인데 난 왤캐 별로였지...중국권문화라 거부감이 들어서인가? 그냥 그 마을 들어갈때부터 뭔가 이상했음양조위는 진짜 잘생겼고 여지껏 마블에서 볼수없었던 액션이기에 신선했음.암튼 샹치데뷔를 축하합니다\\n',\n",
              " '영상미나 액션은 정말 좋았는데 뭔가 내용 전개자체는 마블답지 못한느낌이였음 중국산무협느낌은 있을수밖에 없다고 쳐도 수룡과 괴물의 싸움은 뭔가 좀 이질감드는느낌이였고 수룡얼굴이 너무 귀여웠음 디지니 애니메이션에 나올것...\\n',\n",
              " '뛰쳐나갈뻔 개인적으로 구데기\\n',\n",
              " '영상미 이런건 좋앗지만 그냥 중국영화 보는느낌이엿습니다,\\n',\n",
              " '마블영화맞냐 넷플로 출시해도 볼까말까한 전형적인 짱깨영화\\n',\n",
              " '액션은 확실히 엄청났다.하지만 영화는 액션이 전부가 아니다스토리가 어설프니 개연성이 부족하고, 개연성이 부족하니 영화에 몰입할 수 없다.이는 곧 영화가 노잼이라는 걸 의미한다.감상포인트를 하나 강제로 선택해야 하기에...\\n',\n",
              " '개인적으로 초반 30분은 신선했으나 이후부터는 흔한 쿵푸액션. 오그라들까말까 뜬금없을까말까 아슬아슬하게 선타기하는 신파와 스토리진행. cg와 영상미는 너무 좋았음\\n',\n",
              " '양조위와 나머지의 전설...\\n',\n",
              " '개연성 부족, 떡밥 회수 부족, 텐링즈 설명 부족\\n',\n",
              " 'ㅋㅋㅋ 아니 왜ㅋㅋㅋ 나는 재밋었는데 ㅋ디워보다는 솔직히 낫ㅈㅣ ㅋ\\n',\n",
              " '진짜 재밌어? 진짜???\\n',\n",
              " '그냥저냥 짱캐풍 오락영화\\n',\n",
              " '전혀 웃기지 않은 개그. 실제로 보면 민폐일것 같은 여친. 중국풍 CG 덩어리. 모든게 마블 답지 않았다. CG로 된 짜치는 용이 나온 순간 영화 자체가 그냥 흔한 중국 영화가 되어버렸다. 뜬금없는 중국속 구미호, ...\\n',\n",
              " '샹치와 아콰피나 친구컨셉으로 가자,러브라인으로 가면 못보겠슴\\n',\n",
              " '음 그냥 중국영화 딱 중국영화 그이상도 그이하도 아니다 중화 사상은 없는데 어디서 많이 본듯한 중국 무렵 영화 장면을 그대로 보는 듯 하고 발전이 없다. 영화 유투버들이 호들갑 떨면서 중국 느낌 없다고 해서 봤지만 ...\\n',\n",
              " '중국영화에 마블스티커\\n',\n",
              " '정말 마블의 영웅 서사는 기본기가 좋네요. 양조위는 신의 한 수!\\n',\n",
              " '개인적으로 마블 영화의 강점은 확고한 그들만의 세계관과 그에따른 설득력이라 생각했는데. 샹치. 마블 히어로가 맞는가? 좀 더 완성도 있게 만든 중국무협영화 아니고? 천하의 마블이 양조위  포스에 묻어가려는 판이라니....\\n',\n",
              " '그냥 중국 무협지 한편 봤다...중국영화 좋아하면 추천...아니면 노...\\n',\n",
              " '와 액션 존윅급 꼭 강추 홀리몰리\\n',\n",
              " '그냥 중국영화 줫노잼 스킵해도 됨\\n',\n",
              " '마블 영화라고 너무 기대함\\n',\n",
              " '지루한 서사.. 갑자기 초인적 능력이 생기는게 이해가 안됨. 굳이 샹치 솔로무비가 필요했나 싶음. 솔로 없이 자연스레 마블에 합류했어도 될 것 같았음. 갠적으로 마블이 버리는 카드가 아닌가 싶었음.\\n',\n",
              " '양조위가 너무 연기 잘함.  샹치보다 더 뇌리에 남음.  무술은 최고점!!!\\n',\n",
              " '시사회를 보고 온 사람으로 말씀드리지만 절대로 중국을 위한 영화가 아닌 그냥 마블 영화입니다. 중국투자를 받지 않았고, 양조위씨와 양자경씨는 중국 블랙리스트 배우들인데 중국을 위한 영화였다면 왜 이들을 썼을까요? 제...\\n',\n",
              " '모자란 개연성에 인공호흡하는 양조위의 연기만 남은 영화\\n',\n",
              " '마블 계급장 떼고 봐도 이건 진짜 역대급 영화임.. 스토리 좋았고 특히나 영상미는 미친 퀄리티임 진짜.\\n',\n",
              " '디워의 재림이란 말이 괜히 나온게 아니네  동양판타지 요소를 너무 과하게 넣음.. 특히 마지막 진 보스와 쫄따구 디자인은 어거지로 급하게 만든 느낌\\n',\n",
              " '양조위 말고는 딱히 남는 게 없는\\n',\n",
              " '다른 건 모르겠고 양조위 형님 얼굴에 주름 생긴 거 보니 가슴이 아파온다.\\n',\n",
              " '여기 댓글창 무슨일? 다들 샹치가 중국현지 개봉 및 홍보 금지처분 받은건 알고 말하는건가 감독님은 하와이안이고 케이티역인 아콰피나는 한국계 미국인이고 심지어 샹치 역을 맡은 시무리우 배우는 캐나다 이민 출신인데 할머...\\n',\n",
              " '미친 액션.. 진짜 화려해요양조위님은.. 늙지도 않으시고 너무 멋지고 애잔한 연기 좋아요\\n',\n",
              " '이게 슈X 드래곤볼이지 마블이아?\\n',\n",
              " '막 재밌다는건 아니고 쓰읍 하 아 뭐랄까 그냥 중국??\\n',\n",
              " '액션 ok 근데 이야기의 큰 줄기가 없다. 그냥 개연성이 부족한 오락영화\\n',\n",
              " '마지막 10분 정도만 존재감이 나타나는 주인공과 왠지 모르게 웃음이 나오는 액션씬. 디워와 쿵푸 팬더를 합쳐놓은 듯하다.\\n',\n",
              " '양조위 진짜 미쳤다 액션 눈빛 영어 다 대대대대존멋ㅠㅠ 액션 스케일도 쩔고 재밌는데 기승전 양조위 진짜 미쳤음\\n',\n",
              " '크게 기대는 안했지만 마블영화같지도않고 기대치보다도 낮네요.마블영화인데 보다가 졸았습니다.\\n',\n",
              " '아니 마블 원작은 알고서 사람들이 욕을 하는건지 애초에 샹치라는 캐릭터 자체가 중국계 캐릭터고 마블에 이미 예전부터 샹치를 다루는 영화를 만들거라고 마블의 새로운 액션을 시도하겠다고 오래전부터 예고하고 있었는데무작정...\\n',\n",
              " '이건 너무 충격적이다..마블 ㅂㄷ\\n',\n",
              " '영화관을 나오는데...장어먹고 싶드라..\\n',\n",
              " '용이랑 괴물이 싸우는 장면에서 b급 중국영화 느낌이 나서 아쉬웠음\\n',\n",
              " '마블 팬이라면 볼만하다는 댓글이 있는데 무슨소리인지 모르겠다. VOD로도 진짜 보기 아깝다.\\n',\n",
              " '마블답지 않은 전개에요\\n',\n",
              " '마블 껍데기 쓴 뻔한 중국 영화\\n',\n",
              " '너무 여러 가지 요소들을 짬뽕시켜놔서 좀 뜬금없는 느낌이 있었음\\n',\n",
              " '마블을 보는건지, 중국영화를 보는건지...용 나올땐 어이가 없더라구요.영화전개도 별로고 마음에 드는게 하나도없었네요 ㅜ 영화보다가 잘뻔.\\n',\n",
              " '역시 cg처리를 비롯한 영상미는 끝내줬어요. 근데 너무나도 중국중국중국,, 언어만 영어를 사용할 뿐 언어를 제외한 영화의 모든게 중국!!! 내용도 뻔하고,,, 마블처돌이는 샹치를 보고 웁니다 ㅜㅅㅜ\\n',\n",
              " '양조위와 텐 링즈의 전설\\n',\n",
              " '갠적으루 웬우 서사가 샹치 서사보다 더 좋았다ㅎㅎㅎ\\n',\n",
              " '양조위씨 아버지의 애증연기가  다했습니다\\n',\n",
              " '와...나 양조위 좋아하네\\n',\n",
              " '뒷부분 하이라이트보다 앞부분 버스 씬이 더 샹치스러웠다\\n',\n",
              " '초중반까지 분위기 좋다가 갑자기 중국전통 판타지 무협영화가 되버려서 아쉬웠네요.\\n',\n",
              " '양조위만 남았다..\\n',\n",
              " '중국풍이 넘 강해서 생각만큼 재밌진 않음 그냥 마블이라서 봄\\n',\n",
              " '액션에 공들인 게 확연히 느껴진다. 여느 슈퍼히어로 영화들과 같이 스토리 자체는 지극히 평범했다. 예상했던 대로 할리우드 특유의 오리엔탈리즘도 부각되었다. 이러한 점들을 감안해도 이 정도 완성도를 뽑아냈다는 것에 만...\\n',\n",
              " '마블영화라는 프레임에 속지마세요~\\n',\n",
              " '쿠키영상이 다했다 내용도 뻔한 클리셰지만 마블답게 잘 풀어낸거같음\\n',\n",
              " '마블 영화 중에 제일 재미없게 봤음ㅠㅠ\\n',\n",
              " '세상에 존재하는 클리셰는 다 집어넣은듯ㅋㅋㅋ 액션 많은건 좋은데 싸우다가 왜 죽는거 구경만 하는거에 답답함을 느낌\\n',\n",
              " '오랜만에 잘잤다 덕분에 꿀잠\\n',\n",
              " '아버지를 저렇게까지 미워하는 게 좀 공감이 안갔다.\\n',\n",
              " '마블 영화 중 최악ㅎㅎㅋㅋ\\n',\n",
              " '뭐 액션은 말이 필요없는 수준이고 마지막 클라이맥스 씬에서 스케일이나 영상미가 예술이었음ㅋㅋㅋ  페이즈 4에서 아주 중요한 영화인 듯하니 아이맥스로 꼭 보시길!\\n',\n",
              " '재미도 없고 그냥 다 별로..\\n',\n",
              " '진심 중국은 마블 내에서도 민폐네요 중국산은 어떻게든 위상 높일려고 안달난 느낌 올림픽이든 뭐든 다 발악하겠지만 아무도 인정 안해줍니다\\n',\n",
              " \"호불호가 많이 갈리네요 전 '호'였습니다\\n\",\n",
              " '샹치배우 최선이었나\\n',\n",
              " '머리는 샹치 응원하는데,, 마음은 양조위 응원함,, 명불허전 양조위ㅠㅠ\\n',\n",
              " '편의점 집 아들이 많이 컸네\\n',\n",
              " '중국맛이랑 헐리우드맛이랑 잘 섞어놨다고 생각하고, 나는 뭐 영화보는데 불편하지 않았고 액션 좋고 재밌었다.\\n',\n",
              " '재미있기는 했는데, 중국의 전통 무술은 이제 확실히 유치하다고 생각이 든다..\\n',\n",
              " '양조위는 항상 옳다\\n',\n",
              " '이번건 마블영화야 중화사상 영화가 아니라고..\\n',\n",
              " '샹치의 매력은 잘 모르겠으나 양조위는 좋았음\\n',\n",
              " '캡틴 마블부터 시작된 마블의 몰락의 정점 앞으로의 마블이 전혀 기대가 안된다 시조일관 아시아 판타지 채우기 급급하고 오히려 샹치보다 아내를 사랑하는 마음밖에 없는 웬우에게 더 이입이 된다 웬우가 대체 왜 빌런인지 전...\\n',\n",
              " '마블 상자안에 짱 ㄱ 영화임. 개연성도 그닥이고 액션도 무슨 이돈주고 짱 ㄱ 영화 보지 말고 치킨에 맥주 드셈\\n']"
            ]
          },
          "metadata": {},
          "execution_count": 53
        }
      ]
    },
    {
      "cell_type": "markdown",
      "metadata": {
        "id": "OYCOwtG75XiC"
      },
      "source": [
        "한글만 남기고 다른 글자 제거"
      ]
    },
    {
      "cell_type": "code",
      "metadata": {
        "id": "bXqQbEU15IuH",
        "colab": {
          "base_uri": "https://localhost:8080/"
        },
        "outputId": "3bd0557b-de62-43f4-b4cc-57a5bd9d8529"
      },
      "source": [
        "import re\n",
        "\n",
        "tmp = re.sub('[^ 가-힣]', '', review_data[8])\n",
        "print(tmp)"
      ],
      "execution_count": 54,
      "outputs": [
        {
          "output_type": "stream",
          "name": "stdout",
          "text": [
            "아부지를 왜케 미워하는거지 훈련빡시케 시켰다고 그러는건가아부지를 죽인댔다가 갑자기 필요하다하고 개연성이 좀 부족텐링즈의 전설이란 제목도 뭐 굳이\n"
          ]
        }
      ]
    },
    {
      "cell_type": "code",
      "metadata": {
        "id": "mPji4L4e6Pqz",
        "colab": {
          "base_uri": "https://localhost:8080/"
        },
        "outputId": "43e883ee-7511-40bc-b967-89de38544374"
      },
      "source": [
        "tmp = re.sub(' +', ' ', tmp)\n",
        "print(tmp)"
      ],
      "execution_count": 55,
      "outputs": [
        {
          "output_type": "stream",
          "name": "stdout",
          "text": [
            "아부지를 왜케 미워하는거지 훈련빡시케 시켰다고 그러는건가아부지를 죽인댔다가 갑자기 필요하다하고 개연성이 좀 부족텐링즈의 전설이란 제목도 뭐 굳이\n"
          ]
        }
      ]
    },
    {
      "cell_type": "code",
      "metadata": {
        "id": "9sV76A9O67SG",
        "colab": {
          "base_uri": "https://localhost:8080/"
        },
        "outputId": "2eaaa490-f8f6-40f8-9ce3-937b73125659"
      },
      "source": [
        "from pykospacing import Spacing\n",
        "\n",
        "spacing = Spacing()\n",
        "kospacing_sent = spacing(tmp) \n",
        "\n",
        "print(kospacing_sent)"
      ],
      "execution_count": 56,
      "outputs": [
        {
          "output_type": "stream",
          "name": "stdout",
          "text": [
            "1/1 [==============================] - 0s 31ms/step\n",
            "아부지를 왜 케 미워하는 거지 훈련 빡시 케 시켰다고 그러는 건가 아부지를 죽인 댔다가 갑자기 필요하다 하고 개연성이 좀 부족 텐링즈의 전설이란 제목도 뭐 굳이\n"
          ]
        }
      ]
    },
    {
      "cell_type": "code",
      "metadata": {
        "id": "UAjowSa67I2-",
        "colab": {
          "base_uri": "https://localhost:8080/"
        },
        "outputId": "b66ac2a8-dce2-4f6f-c112-c7202405d2a2"
      },
      "source": [
        "from hanspell import spell_checker\n",
        "\n",
        "spelled_sent = spell_checker.check(tmp)\n",
        "\n",
        "hanspell_sent = spelled_sent.checked\n",
        "print(hanspell_sent)"
      ],
      "execution_count": 57,
      "outputs": [
        {
          "output_type": "stream",
          "name": "stdout",
          "text": [
            "아버지를 왜 이렇게 미워하는 거지 훈련빡시케 시켰다고 그러는 건가 아버지를 죽인댔다가 갑자기 필요하다 하고 개연성이 좀 부족텐링즈의 전설이란 제목도 뭐 굳이\n"
          ]
        }
      ]
    },
    {
      "cell_type": "code",
      "metadata": {
        "id": "ouLxPt1IaY2O"
      },
      "source": [],
      "execution_count": 57,
      "outputs": []
    }
  ]
}