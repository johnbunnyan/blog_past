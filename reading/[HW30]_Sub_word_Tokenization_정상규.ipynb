{
  "nbformat": 4,
  "nbformat_minor": 0,
  "metadata": {
    "colab": {
      "provenance": [],
      "include_colab_link": true
    },
    "kernelspec": {
      "name": "python3",
      "display_name": "Python 3"
    },
    "language_info": {
      "name": "python"
    },
    "accelerator": "GPU",
    "widgets": {
      "application/vnd.jupyter.widget-state+json": {
        "53c64692130147d3a40c59a8ec76d7af": {
          "model_module": "@jupyter-widgets/controls",
          "model_name": "HBoxModel",
          "model_module_version": "1.5.0",
          "state": {
            "_dom_classes": [],
            "_model_module": "@jupyter-widgets/controls",
            "_model_module_version": "1.5.0",
            "_model_name": "HBoxModel",
            "_view_count": null,
            "_view_module": "@jupyter-widgets/controls",
            "_view_module_version": "1.5.0",
            "_view_name": "HBoxView",
            "box_style": "",
            "children": [
              "IPY_MODEL_d2f4a68d823148e2818dc87211b6dc96",
              "IPY_MODEL_940b0fd6f709456babf2ca443b9385a1",
              "IPY_MODEL_2975ad7c26a84cd9bb9f8aecafa4048c"
            ],
            "layout": "IPY_MODEL_35c58310a6c54ba798d80bf78e0fbb76"
          }
        },
        "d2f4a68d823148e2818dc87211b6dc96": {
          "model_module": "@jupyter-widgets/controls",
          "model_name": "HTMLModel",
          "model_module_version": "1.5.0",
          "state": {
            "_dom_classes": [],
            "_model_module": "@jupyter-widgets/controls",
            "_model_module_version": "1.5.0",
            "_model_name": "HTMLModel",
            "_view_count": null,
            "_view_module": "@jupyter-widgets/controls",
            "_view_module_version": "1.5.0",
            "_view_name": "HTMLView",
            "description": "",
            "description_tooltip": null,
            "layout": "IPY_MODEL_a15ce6811781488b94ae0d6ca9c32665",
            "placeholder": "​",
            "style": "IPY_MODEL_ab1c3277c22c4b09a80e15055caaa8c9",
            "value": "Downloading:  19%"
          }
        },
        "940b0fd6f709456babf2ca443b9385a1": {
          "model_module": "@jupyter-widgets/controls",
          "model_name": "FloatProgressModel",
          "model_module_version": "1.5.0",
          "state": {
            "_dom_classes": [],
            "_model_module": "@jupyter-widgets/controls",
            "_model_module_version": "1.5.0",
            "_model_name": "FloatProgressModel",
            "_view_count": null,
            "_view_module": "@jupyter-widgets/controls",
            "_view_module_version": "1.5.0",
            "_view_name": "ProgressView",
            "bar_style": "",
            "description": "",
            "description_tooltip": null,
            "layout": "IPY_MODEL_098e394801604737b922f52a160b706f",
            "max": 213450,
            "min": 0,
            "orientation": "horizontal",
            "style": "IPY_MODEL_e8d2bb42363e42a696cf35c102e832f5",
            "value": 40960
          }
        },
        "2975ad7c26a84cd9bb9f8aecafa4048c": {
          "model_module": "@jupyter-widgets/controls",
          "model_name": "HTMLModel",
          "model_module_version": "1.5.0",
          "state": {
            "_dom_classes": [],
            "_model_module": "@jupyter-widgets/controls",
            "_model_module_version": "1.5.0",
            "_model_name": "HTMLModel",
            "_view_count": null,
            "_view_module": "@jupyter-widgets/controls",
            "_view_module_version": "1.5.0",
            "_view_name": "HTMLView",
            "description": "",
            "description_tooltip": null,
            "layout": "IPY_MODEL_35657777f67741389992f9d5717393f7",
            "placeholder": "​",
            "style": "IPY_MODEL_ee757f442a834600aebdd153ff8c6d7c",
            "value": " 41.0k/213k [00:00&lt;00:01, 105kB/s]"
          }
        },
        "35c58310a6c54ba798d80bf78e0fbb76": {
          "model_module": "@jupyter-widgets/base",
          "model_name": "LayoutModel",
          "model_module_version": "1.2.0",
          "state": {
            "_model_module": "@jupyter-widgets/base",
            "_model_module_version": "1.2.0",
            "_model_name": "LayoutModel",
            "_view_count": null,
            "_view_module": "@jupyter-widgets/base",
            "_view_module_version": "1.2.0",
            "_view_name": "LayoutView",
            "align_content": null,
            "align_items": null,
            "align_self": null,
            "border": null,
            "bottom": null,
            "display": null,
            "flex": null,
            "flex_flow": null,
            "grid_area": null,
            "grid_auto_columns": null,
            "grid_auto_flow": null,
            "grid_auto_rows": null,
            "grid_column": null,
            "grid_gap": null,
            "grid_row": null,
            "grid_template_areas": null,
            "grid_template_columns": null,
            "grid_template_rows": null,
            "height": null,
            "justify_content": null,
            "justify_items": null,
            "left": null,
            "margin": null,
            "max_height": null,
            "max_width": null,
            "min_height": null,
            "min_width": null,
            "object_fit": null,
            "object_position": null,
            "order": null,
            "overflow": null,
            "overflow_x": null,
            "overflow_y": null,
            "padding": null,
            "right": null,
            "top": null,
            "visibility": null,
            "width": null
          }
        },
        "a15ce6811781488b94ae0d6ca9c32665": {
          "model_module": "@jupyter-widgets/base",
          "model_name": "LayoutModel",
          "model_module_version": "1.2.0",
          "state": {
            "_model_module": "@jupyter-widgets/base",
            "_model_module_version": "1.2.0",
            "_model_name": "LayoutModel",
            "_view_count": null,
            "_view_module": "@jupyter-widgets/base",
            "_view_module_version": "1.2.0",
            "_view_name": "LayoutView",
            "align_content": null,
            "align_items": null,
            "align_self": null,
            "border": null,
            "bottom": null,
            "display": null,
            "flex": null,
            "flex_flow": null,
            "grid_area": null,
            "grid_auto_columns": null,
            "grid_auto_flow": null,
            "grid_auto_rows": null,
            "grid_column": null,
            "grid_gap": null,
            "grid_row": null,
            "grid_template_areas": null,
            "grid_template_columns": null,
            "grid_template_rows": null,
            "height": null,
            "justify_content": null,
            "justify_items": null,
            "left": null,
            "margin": null,
            "max_height": null,
            "max_width": null,
            "min_height": null,
            "min_width": null,
            "object_fit": null,
            "object_position": null,
            "order": null,
            "overflow": null,
            "overflow_x": null,
            "overflow_y": null,
            "padding": null,
            "right": null,
            "top": null,
            "visibility": null,
            "width": null
          }
        },
        "ab1c3277c22c4b09a80e15055caaa8c9": {
          "model_module": "@jupyter-widgets/controls",
          "model_name": "DescriptionStyleModel",
          "model_module_version": "1.5.0",
          "state": {
            "_model_module": "@jupyter-widgets/controls",
            "_model_module_version": "1.5.0",
            "_model_name": "DescriptionStyleModel",
            "_view_count": null,
            "_view_module": "@jupyter-widgets/base",
            "_view_module_version": "1.2.0",
            "_view_name": "StyleView",
            "description_width": ""
          }
        },
        "098e394801604737b922f52a160b706f": {
          "model_module": "@jupyter-widgets/base",
          "model_name": "LayoutModel",
          "model_module_version": "1.2.0",
          "state": {
            "_model_module": "@jupyter-widgets/base",
            "_model_module_version": "1.2.0",
            "_model_name": "LayoutModel",
            "_view_count": null,
            "_view_module": "@jupyter-widgets/base",
            "_view_module_version": "1.2.0",
            "_view_name": "LayoutView",
            "align_content": null,
            "align_items": null,
            "align_self": null,
            "border": null,
            "bottom": null,
            "display": null,
            "flex": null,
            "flex_flow": null,
            "grid_area": null,
            "grid_auto_columns": null,
            "grid_auto_flow": null,
            "grid_auto_rows": null,
            "grid_column": null,
            "grid_gap": null,
            "grid_row": null,
            "grid_template_areas": null,
            "grid_template_columns": null,
            "grid_template_rows": null,
            "height": null,
            "justify_content": null,
            "justify_items": null,
            "left": null,
            "margin": null,
            "max_height": null,
            "max_width": null,
            "min_height": null,
            "min_width": null,
            "object_fit": null,
            "object_position": null,
            "order": null,
            "overflow": null,
            "overflow_x": null,
            "overflow_y": null,
            "padding": null,
            "right": null,
            "top": null,
            "visibility": null,
            "width": null
          }
        },
        "e8d2bb42363e42a696cf35c102e832f5": {
          "model_module": "@jupyter-widgets/controls",
          "model_name": "ProgressStyleModel",
          "model_module_version": "1.5.0",
          "state": {
            "_model_module": "@jupyter-widgets/controls",
            "_model_module_version": "1.5.0",
            "_model_name": "ProgressStyleModel",
            "_view_count": null,
            "_view_module": "@jupyter-widgets/base",
            "_view_module_version": "1.2.0",
            "_view_name": "StyleView",
            "bar_color": null,
            "description_width": ""
          }
        },
        "35657777f67741389992f9d5717393f7": {
          "model_module": "@jupyter-widgets/base",
          "model_name": "LayoutModel",
          "model_module_version": "1.2.0",
          "state": {
            "_model_module": "@jupyter-widgets/base",
            "_model_module_version": "1.2.0",
            "_model_name": "LayoutModel",
            "_view_count": null,
            "_view_module": "@jupyter-widgets/base",
            "_view_module_version": "1.2.0",
            "_view_name": "LayoutView",
            "align_content": null,
            "align_items": null,
            "align_self": null,
            "border": null,
            "bottom": null,
            "display": null,
            "flex": null,
            "flex_flow": null,
            "grid_area": null,
            "grid_auto_columns": null,
            "grid_auto_flow": null,
            "grid_auto_rows": null,
            "grid_column": null,
            "grid_gap": null,
            "grid_row": null,
            "grid_template_areas": null,
            "grid_template_columns": null,
            "grid_template_rows": null,
            "height": null,
            "justify_content": null,
            "justify_items": null,
            "left": null,
            "margin": null,
            "max_height": null,
            "max_width": null,
            "min_height": null,
            "min_width": null,
            "object_fit": null,
            "object_position": null,
            "order": null,
            "overflow": null,
            "overflow_x": null,
            "overflow_y": null,
            "padding": null,
            "right": null,
            "top": null,
            "visibility": null,
            "width": null
          }
        },
        "ee757f442a834600aebdd153ff8c6d7c": {
          "model_module": "@jupyter-widgets/controls",
          "model_name": "DescriptionStyleModel",
          "model_module_version": "1.5.0",
          "state": {
            "_model_module": "@jupyter-widgets/controls",
            "_model_module_version": "1.5.0",
            "_model_name": "DescriptionStyleModel",
            "_view_count": null,
            "_view_module": "@jupyter-widgets/base",
            "_view_module_version": "1.2.0",
            "_view_name": "StyleView",
            "description_width": ""
          }
        }
      }
    }
  },
  "cells": [
    {
      "cell_type": "markdown",
      "metadata": {
        "id": "view-in-github",
        "colab_type": "text"
      },
      "source": [
        "<a href=\"https://colab.research.google.com/github/johnbunnyan/johnbunnyan.github.io/blob/main/reading/%5BHW30%5D_Sub_word_Tokenization_%EC%A0%95%EC%83%81%EA%B7%9C.ipynb\" target=\"_parent\"><img src=\"https://colab.research.google.com/assets/colab-badge.svg\" alt=\"Open In Colab\"/></a>"
      ]
    },
    {
      "cell_type": "markdown",
      "metadata": {
        "id": "uOnz8OxdbN3y"
      },
      "source": [
        "# Tokenization\n"
      ]
    },
    {
      "cell_type": "markdown",
      "metadata": {
        "id": "TZb_LOZr7XF_"
      },
      "source": [
        "### Data Preparation\n",
        "\n",
        "\n",
        "*   데이터(train, dev, test)가 저장된 드라이브를 마운트하여 데이터를 불러올 수 있는 경로를 준비합니다.\n",
        "\n"
      ]
    },
    {
      "cell_type": "code",
      "metadata": {
        "id": "wkCrAHWVmUck",
        "outputId": "2f2b20b9-42ce-43b2-eb73-9ff826dce156",
        "colab": {
          "base_uri": "https://localhost:8080/"
        }
      },
      "source": [
        "import os, sys\n",
        "from google.colab import drive\n",
        "\n",
        "# 추가적인 자료가 필요한 경우\n",
        "# 오른쪽 폴더 내부에 해당 자료를 추가할 필요 있다\n",
        "# 그러려면 구글 드라이브에 해당 드라이브를 넣어야하고\n",
        "# 구글코랩의 drive로 연결 \n",
        "drive.mount('/content/drive')\n",
        "\n",
        "# 사용할 파일경로를 os로 설정\n",
        "# chdir : 'ch'ange 'dir'ectory 현재 작업 디렉토리를 변경한다.\n",
        "# 현재 파일 경로에 맞게 설정해주세요.\n",
        "os.chdir('/content/drive/MyDrive/Colab Notebooks/colab_[HW 30] Sub-word Tokenization')"
      ],
      "execution_count": 1,
      "outputs": [
        {
          "output_type": "stream",
          "name": "stdout",
          "text": [
            "Mounted at /content/drive\n"
          ]
        }
      ]
    },
    {
      "cell_type": "code",
      "metadata": {
        "id": "e9yYsxMfyZsi",
        "outputId": "c37a03c3-4eae-4d6b-e282-6feb11f645cc",
        "colab": {
          "base_uri": "https://localhost:8080/"
        }
      },
      "source": [
        "# 현재 경로 확인\n",
        "!pwd"
      ],
      "execution_count": 2,
      "outputs": [
        {
          "output_type": "stream",
          "name": "stdout",
          "text": [
            "/content/drive/MyDrive/Colab Notebooks/colab_[HW 30] Sub-word Tokenization\n"
          ]
        }
      ]
    },
    {
      "cell_type": "code",
      "metadata": {
        "id": "ceOZZ8UOU4or",
        "outputId": "12d3f250-b975-423c-a010-2dd7d98cd64b",
        "colab": {
          "base_uri": "https://localhost:8080/"
        }
      },
      "source": [
        "# 라이브러리 설치\n",
        "!pip install transformers"
      ],
      "execution_count": 3,
      "outputs": [
        {
          "output_type": "stream",
          "name": "stdout",
          "text": [
            "Looking in indexes: https://pypi.org/simple, https://us-python.pkg.dev/colab-wheels/public/simple/\n",
            "Collecting transformers\n",
            "  Downloading transformers-4.25.1-py3-none-any.whl (5.8 MB)\n",
            "\u001b[2K     \u001b[90m━━━━━━━━━━━━━━━━━━━━━━━━━━━━━━━━━━━━━━━━\u001b[0m \u001b[32m5.8/5.8 MB\u001b[0m \u001b[31m81.1 MB/s\u001b[0m eta \u001b[36m0:00:00\u001b[0m\n",
            "\u001b[?25hRequirement already satisfied: pyyaml>=5.1 in /usr/local/lib/python3.8/dist-packages (from transformers) (6.0)\n",
            "Collecting tokenizers!=0.11.3,<0.14,>=0.11.1\n",
            "  Downloading tokenizers-0.13.2-cp38-cp38-manylinux_2_17_x86_64.manylinux2014_x86_64.whl (7.6 MB)\n",
            "\u001b[2K     \u001b[90m━━━━━━━━━━━━━━━━━━━━━━━━━━━━━━━━━━━━━━━━\u001b[0m \u001b[32m7.6/7.6 MB\u001b[0m \u001b[31m94.8 MB/s\u001b[0m eta \u001b[36m0:00:00\u001b[0m\n",
            "\u001b[?25hRequirement already satisfied: regex!=2019.12.17 in /usr/local/lib/python3.8/dist-packages (from transformers) (2022.6.2)\n",
            "Requirement already satisfied: requests in /usr/local/lib/python3.8/dist-packages (from transformers) (2.25.1)\n",
            "Requirement already satisfied: filelock in /usr/local/lib/python3.8/dist-packages (from transformers) (3.8.2)\n",
            "Collecting huggingface-hub<1.0,>=0.10.0\n",
            "  Downloading huggingface_hub-0.11.1-py3-none-any.whl (182 kB)\n",
            "\u001b[2K     \u001b[90m━━━━━━━━━━━━━━━━━━━━━━━━━━━━━━━━━━━━━━\u001b[0m \u001b[32m182.4/182.4 KB\u001b[0m \u001b[31m14.5 MB/s\u001b[0m eta \u001b[36m0:00:00\u001b[0m\n",
            "\u001b[?25hRequirement already satisfied: packaging>=20.0 in /usr/local/lib/python3.8/dist-packages (from transformers) (21.3)\n",
            "Requirement already satisfied: tqdm>=4.27 in /usr/local/lib/python3.8/dist-packages (from transformers) (4.64.1)\n",
            "Requirement already satisfied: numpy>=1.17 in /usr/local/lib/python3.8/dist-packages (from transformers) (1.21.6)\n",
            "Requirement already satisfied: typing-extensions>=3.7.4.3 in /usr/local/lib/python3.8/dist-packages (from huggingface-hub<1.0,>=0.10.0->transformers) (4.4.0)\n",
            "Requirement already satisfied: pyparsing!=3.0.5,>=2.0.2 in /usr/local/lib/python3.8/dist-packages (from packaging>=20.0->transformers) (3.0.9)\n",
            "Requirement already satisfied: certifi>=2017.4.17 in /usr/local/lib/python3.8/dist-packages (from requests->transformers) (2022.12.7)\n",
            "Requirement already satisfied: urllib3<1.27,>=1.21.1 in /usr/local/lib/python3.8/dist-packages (from requests->transformers) (1.24.3)\n",
            "Requirement already satisfied: chardet<5,>=3.0.2 in /usr/local/lib/python3.8/dist-packages (from requests->transformers) (4.0.0)\n",
            "Requirement already satisfied: idna<3,>=2.5 in /usr/local/lib/python3.8/dist-packages (from requests->transformers) (2.10)\n",
            "Installing collected packages: tokenizers, huggingface-hub, transformers\n",
            "Successfully installed huggingface-hub-0.11.1 tokenizers-0.13.2 transformers-4.25.1\n"
          ]
        }
      ]
    },
    {
      "cell_type": "markdown",
      "metadata": {
        "id": "NSNON1TAbj2i"
      },
      "source": [
        "### Introduction\n",
        "\n",
        "\n",
        "* 본 과제의 목적은 Subword tokenization의 필요성을 직접 느껴보는 것입니다.\n",
        "* Subword tokenization 기반 language model을 구현하면서 이전 과제의 Word-level language model과 비교해보는 시간을 갖겠습니다. 추가적으로 RNN을 LSTM으로 변경했을 때의 성능 차이에 대해 살펴보겠습니다.\n",
        "*   Subword-level language model을 구현하고, 주어진 데이터를 가공하여 모델을 학습한 후 학습된 언어 모델을 이용해 문장을 생성합니다.\n"
      ]
    },
    {
      "cell_type": "markdown",
      "metadata": {
        "id": "_xzSMF9RJyzg"
      },
      "source": [
        "\n",
        "```\n",
        "💡 Subword는 무엇인가요?\n",
        "\n",
        "Subword는 하나의 단어를 여러개의 단위로 분리했을 때 하나의 단위를 나타냅니다. \"subword\"를 subword 단위로 나타낸 하나의 예시는 다음과 같습니다.\n",
        "\n",
        "\"sub\" + \"word\"\n",
        "\n",
        "sub라는 접두사와 word라고 하는 어근으로 나누어 \"subword\"라고 하는 word를 2개의 subword로 나타냈습니다.\n",
        "\n",
        "이외에도 다양한 형태의 subword로 나타낼 수 있습니다. (e.g., \"su\" + \"bword\", \"s\" + \"ubword\", \"subwor\" + \"d\")\n",
        "```"
      ]
    },
    {
      "cell_type": "markdown",
      "metadata": {
        "id": "zrgY-yRfVJON"
      },
      "source": [
        "```\n",
        "💡 tokenization은 무엇인가요?\n",
        "\n",
        "tokenization은 주어진 입력 데이터를 자연어처리 모델이 인식할 수 있는 단위로 변환해주는 방법입니다. \n",
        "\n",
        "💡 word tokenization은요?\n",
        "\n",
        "word tokenization의 경우 \"단어\"가 자연어처리 모델이 인식하는 단위가 됩니다.\n",
        "\"I have a meal\"이라고 하는 문장을 가지고 word tokenization을 하면 다음과 같습니다. \n",
        "\n",
        "- ['I', 'have', 'a', 'meal']\n",
        "\n",
        "영어의 경우 대부분 space를 기준으로 단어가 정의되기 때문에 .split()을 이용해 쉽게 word tokenization을 구현할 수 있습니다.\n",
        "영어에서 word tokenization은 space tokenization이라고도 할 수 있고, \n",
        "subword tokenization 이전에 수행되는 pre-tokenization 방법으로도 많이 사용됩니다.\n",
        "\n",
        "\"나는 밥을 먹는다\"라는 문장을 word tokenization하면 다음과 같습니다.\n",
        "- ['나', '는', '밥', '을', '먹는다']\n",
        "\n",
        "한국어에서 \"단어\"는 공백(space)을 기준으로 정의되지 않습니다. 이는 한국어가 갖고 있는 \"교착어\"로서의 특징 때문입니다. \n",
        "체언 뒤에 조사가 붙는 것이 대표적인 특징이며 의미 단위가 구분되고 자립성이 있기 때문에 조사는 \"단어\"입니다.\n",
        "\n",
        "한국어에서는 pre-tokenization 방법으로 space tokenization을 사용하지 않고 형태소 분석기를 활용하고 있습니다.\n",
        "```\n",
        "\n",
        "(참고1: [국립 국어원: \"조사는 단어이다\"](https://www.korean.go.kr/front/onlineQna/onlineQnaView.do?mn_id=216&qna_seq=26915#:~:text='%EC%A1%B0%EC%82%AC'%EB%8A%94%20%EC%99%84%EC%A0%84%ED%95%9C%20%EC%9E%90%EB%A6%BD%EC%84%B1%EC%9D%80,%ED%95%98%EC%97%AC%20%EB%8B%A8%EC%96%B4%EB%A1%9C%20%EC%B2%98%EB%A6%AC%ED%95%A9%EB%8B%88%EB%8B%A4.) )\n",
        "\n",
        "(참고2: [Huggingface: Pre-tokenization](https://huggingface.co/docs/tokenizers/python/latest/pipeline.html#pre-tokenization))\n",
        "\n",
        "(참고3: [Konlpy: 형태소 분석기](https://konlpy-ko.readthedocs.io/ko/v0.4.3/morph/))"
      ]
    },
    {
      "cell_type": "markdown",
      "metadata": {
        "id": "BVQgjQJdAbWh"
      },
      "source": [
        "```\n",
        "💡 그럼 Subword tokenization은 무엇인가요?\n",
        "\n",
        "Subword tokenizaiton은 말 그대로 subword 단위로 tokenization을 한다는 뜻입니다.\n",
        "방금 전 word tokenization을 수행했던 문장을 이용해 subword tokenization을 수행한 예시를 보겠습니다.\n",
        "\n",
        "Subword tokenization을 적용했을 때는 다음과 같이 tokenization이 될 수 있습니다.\n",
        "\n",
        "Example 1\n",
        "\n",
        "\"I have a meal\" -> ['I', 'hav', 'e', 'a', 'me', 'al']\n",
        "\"나는 밥을 먹는다\" -> ['나', '는', '밥', '을', '먹는', '다']\n",
        "\n",
        "word 단위가 아니라 그보다 더 잘게 쪼갠 subword 단위로 문장을 tokenization합니다.\n",
        "\n",
        "위에서 말씀드린 것과 같이 여러가지 경우의 수가 가능합니다.\n",
        "\n",
        "Example 2\n",
        "\n",
        "\"I have a meal\" -> ['I', 'ha', 've', 'a', 'mea', 'l']\n",
        "\"나는 밥을 먹는다\" -> ['나', '는', '밥', '을', '먹', '는다']\n",
        "\n",
        "그렇지만 기본적으로 공백을 넘어선 subword를 구성하진 않습니다.\n",
        "예를 들어 다음과 같이 tokenizaiton을 수행하진 않습니다.\n",
        "\n",
        "Example 3\n",
        "\n",
        "\"I have a meal\" -> ['Iha', 've', 'am', 'ea', 'l']\n",
        "\"나는 밥을 먹는다\" -> ['나는밥', '을먹', '는다']\n",
        "```\n",
        "\n",
        "(참고4: [Huggingface: subword-tokenization](https://huggingface.co/transformers/tokenizer_summary.html#subword-tokenization))"
      ]
    },
    {
      "cell_type": "markdown",
      "metadata": {
        "id": "SPRNaFhMEK67"
      },
      "source": [
        "```\n",
        "💡 Subword tokenization은 왜 필요한가요?\n",
        "\n",
        "word tokenization 코드를 불러와 그 필요성을 생각해 봅시다.\n",
        "\n",
        "```"
      ]
    },
    {
      "cell_type": "code",
      "metadata": {
        "id": "DESsQzhwGVST"
      },
      "source": [
        "import os\n",
        "from io import open\n",
        "import torch"
      ],
      "execution_count": 4,
      "outputs": []
    },
    {
      "cell_type": "code",
      "metadata": {
        "id": "SWd09aUBGWa9"
      },
      "source": [
        "class Dictionary(object):\n",
        "    def __init__(self):\n",
        "        # idx2word에 있는 배열의 인덱스\n",
        "        self.word2idx = {'<unk>': 0}\n",
        "        # 실질적인 단어가 저장되는 배열\n",
        "        self.idx2word = ['<unk>']\n",
        "\n",
        "    def add_word(self, word):\n",
        "        if word not in self.word2idx:\n",
        "            self.idx2word.append(word)\n",
        "            self.word2idx[word] = len(self.idx2word) - 1\n",
        "        return self.word2idx[word]\n",
        "\n",
        "    def __len__(self):\n",
        "        return len(self.idx2word)"
      ],
      "execution_count": 5,
      "outputs": []
    },
    {
      "cell_type": "code",
      "metadata": {
        "id": "xQIyGQlfd9Os"
      },
      "source": [
        "# 말뭉치 또는 코퍼스는 자연언어 연구를 위해 특정한 목적을 가지고 언어의 표본을 추출한 집합\n",
        "# 기본적으로 딕셔너리와 데이터셋 가지고 있다\n",
        "# 데이터셋은 토크나이즈를 해서 보관\n",
        "class Corpus(object):\n",
        "    def __init__(self, path):\n",
        "        self.dictionary = Dictionary()\n",
        "        \"\"\"Tokenizes a text file.\"\"\"\n",
        "        assert os.path.exists(path) #path있는지 체크\n",
        "        # Add words to the dictionary\n",
        "        with open(os.path.join(path, 'train.txt'), 'r', encoding=\"utf8\") as f:\n",
        "            # 파일에서 한 line씩 읽는다\n",
        "            for line in f: \n",
        "                # [] <- 라인을 잘라서 단어로 만들고 맨 뒤에 문장끝토큰을 추가한다\n",
        "                words = line.split() + ['<eos>']\n",
        "                for word in words:\n",
        "                    self.dictionary.add_word(word)\n",
        "\n",
        "        self.train = self.tokenize(os.path.join(path, 'train.txt'))\n",
        "        self.valid = self.tokenize(os.path.join(path, 'valid.txt'))\n",
        "        self.test = self.tokenize(os.path.join(path, 'test.txt'))\n",
        "\n",
        "    def tokenize(self, path):\n",
        "        # Tokenize file content\n",
        "        with open(path, 'r', encoding=\"utf8\") as f:\n",
        "            idss = []\n",
        "            # 두번째 파라미터로 준 파일 기준\n",
        "            for line in f:\n",
        "                words = line.split() + ['<eos>']\n",
        "                ids = []\n",
        "                for word in words:\n",
        "                    try:\n",
        "                        # dictionary에서 단어 찾아서 ids배열에 넣음\n",
        "                        # 이때 dictionary에 있는 단어는 train의 단어들\n",
        "                        ids.append(self.dictionary.word2idx[word])\n",
        "                    except:\n",
        "                        print(word)\n",
        "                        ids.append(0) \n",
        "                # 그냥 배열을 텐서로\n",
        "                idss.append(torch.tensor(ids).type(torch.int64))\n",
        "            ids = torch.cat(idss)\n",
        "\n",
        "        return ids"
      ],
      "execution_count": 6,
      "outputs": []
    },
    {
      "cell_type": "code",
      "metadata": {
        "id": "a55D0z53eLzB"
      },
      "source": [
        "import math\n",
        "import torch\n",
        "import torch.nn as nn\n",
        "import torch.nn.functional as F\n",
        "\n",
        "class RNNModel(nn.Module):\n",
        "    \"\"\"Container module with an encoder, a recurrent module, and a decoder.\"\"\"\n",
        "\n",
        "    def __init__(self, rnn_type, ntoken, ninp, nhid, nlayers, dropout=0.5):\n",
        "        #부모 클래스(nn.Module)를 자식 클래스(RNNModel)에 불러오겠다 \n",
        "        super(RNNModel, self).__init__()\n",
        "        self.ntoken = ntoken\n",
        "        self.drop = nn.Dropout(dropout)\n",
        "        self.encoder = nn.Embedding(ntoken, ninp)\n",
        "        \n",
        "        # self.rnn 을 설정\n",
        "        # rnn_type에 따라 분기 (LSTM,GRU/)\n",
        "        if rnn_type in ['LSTM', 'GRU']:\n",
        "                    # getattr = nn.rnn_type\n",
        "            self.rnn = getattr(nn, rnn_type)(ninp, nhid, nlayers, dropout=dropout)\n",
        "        else:\n",
        "            try:\n",
        "                nonlinearity = {'RNN_TANH': 'tanh', 'RNN_RELU': 'relu'}[rnn_type]\n",
        "            except KeyError:\n",
        "                raise ValueError( \"\"\"An invalid option for `--model` was supplied,\n",
        "                                 options are ['LSTM', 'GRU', 'RNN_TANH' or 'RNN_RELU']\"\"\")\n",
        "            self.rnn = nn.RNN(ninp, nhid, nlayers, nonlinearity=nonlinearity, dropout=dropout)\n",
        "        \n",
        "        self.decoder = nn.Linear(nhid, ntoken)\n",
        "        #\n",
        "\n",
        "        self.init_weights()\n",
        "\n",
        "        self.rnn_type = rnn_type\n",
        "        self.nhid = nhid\n",
        "        self.nlayers = nlayers\n",
        "\n",
        "    def init_weights(self):\n",
        "        initrange = 0.1\n",
        "        # uniform_ : Fills the input Tensor with values drawn from the uniform distribution \\mathcal{U}(a, b)U(a,b).\n",
        "          # tensor (Tensor) – an n-dimensional torch.Tensor\n",
        "          # a (float) – the lower bound of the uniform distribution\n",
        "          # b (float) – the upper bound of the uniform distribution\n",
        "        nn.init.uniform_(self.encoder.weight, -initrange, initrange)\n",
        "        # zeros_ : Fills the input Tensor with the scalar value 0.\n",
        "        nn.init.zeros_(self.decoder.weight)\n",
        "        nn.init.uniform_(self.decoder.weight, -initrange, initrange)\n",
        "\n",
        "    def forward(self, input, hidden):\n",
        "        emb = self.drop(self.encoder(input))\n",
        "        output, hidden = self.rnn(emb, hidden)\n",
        "        output = self.drop(output)\n",
        "        decoded = self.decoder(output)\n",
        "        decoded = decoded.view(-1, self.ntoken)\n",
        "        return F.log_softmax(decoded, dim=1), hidden\n",
        "\n",
        "    def init_hidden(self, bsz):\n",
        "        # next는 이터레이터에서 값을 차례대로 꺼냅니다\n",
        "        weight = next(self.parameters())\n",
        "        if self.rnn_type == 'LSTM':\n",
        "            return (weight.new_zeros(self.nlayers, bsz, self.nhid),\n",
        "                    weight.new_zeros(self.nlayers, bsz, self.nhid))\n",
        "        else:\n",
        "            return weight.new_zeros(self.nlayers, bsz, self.nhid)"
      ],
      "execution_count": 7,
      "outputs": []
    },
    {
      "cell_type": "code",
      "metadata": {
        "id": "dDQTvkdJdZOk"
      },
      "source": [
        "import time\n",
        "import math\n",
        "import os\n",
        "import torch\n",
        "import torch.nn as nn\n",
        "# EasyDict allows to access dict values as attributes (works recursively). A Javascript-like properties dot notation for python dicts.\n",
        "import easydict\n",
        "\n",
        "args = easydict.EasyDict({\n",
        "    \"data\"    : './data/wikitext-2',    # location of the data corpus\n",
        "    \"model\"   : 'RNN_TANH',             # type of recurrent net (RNN_TANH, RNN_RELU, LSTM, GRU)\n",
        "    \"emsize\"  : 200,                    # size of word embeddings\n",
        "    \"nhid\"    : 512,                    # number of hidden units per layer\n",
        "    \"nlayers\" : 2,                      # number of layers\n",
        "    \"lr\"      : 20,                     # initial learning rate\n",
        "    \"clip\"    : 0.25,                   # gradient clipping\n",
        "    \"epochs\"  : 6,                      # upper epoch limit\n",
        "    \"batch_size\": 20,                   # batch size\n",
        "    \"bptt\"    : 35,                     # sequence length\n",
        "    \"dropout\" : 0.2,                    # dropout applied to layers (0 = no dropout)\n",
        "    \"seed\"    : 1111,                   # random seed\n",
        "    \"cuda\"    : True,                   # use CUDA\n",
        "    \"log_interval\": 200,                # report interval\n",
        "    \"save\"    : 'model.pt',             # path to save the final model\n",
        "    \"dry_run\" : True,                   # verify the code and the model\n",
        "\n",
        "})\n",
        "\n",
        "# 디바이스 설정\n",
        "device = torch.device(\"cuda\" if args.cuda else \"cpu\")"
      ],
      "execution_count": 8,
      "outputs": []
    },
    {
      "cell_type": "markdown",
      "metadata": {
        "id": "xnsZkQqUHb6Z"
      },
      "source": [
        "```\n",
        "train.txt의 문장들을 word tokenization 해보고 단어들의 개수를 세어보겠습니다\n",
        "```"
      ]
    },
    {
      "cell_type": "code",
      "metadata": {
        "id": "2aSB9Hk4HjyO",
        "outputId": "3c70c511-db5f-4575-a390-2668dc08a93c",
        "colab": {
          "base_uri": "https://localhost:8080/"
        }
      },
      "source": [
        "# 파라미터 통해 Corpus를 실행\n",
        "corpus = Corpus('./data/wikitext-2')\n",
        "ntokens = len(corpus.dictionary)\n",
        "print(ntokens)"
      ],
      "execution_count": 9,
      "outputs": [
        {
          "output_type": "stream",
          "name": "stdout",
          "text": [
            "33278\n"
          ]
        }
      ]
    },
    {
      "cell_type": "markdown",
      "metadata": {
        "id": "OBkvRpEcKEvd"
      },
      "source": [
        "```\n",
        "이전 과제에 사용된 embedding dimension의 크기는 200이므로 word embedding에 사용된 parameter의 수는 33278 x 200 (6,655,600개)입니다.\n",
        "\n",
        "그렇다면, RNN 모델에 사용되는 weight의 parameter 개수는 몇개인지 간단한 함수를 이용해 확인해보겠습니다\n",
        "```"
      ]
    },
    {
      "cell_type": "code",
      "metadata": {
        "id": "rGjG2j-fKbJu"
      },
      "source": [
        "model = RNNModel(args.model, ntokens, args.emsize, args.nhid, args.nlayers, args.dropout)"
      ],
      "execution_count": 10,
      "outputs": []
    },
    {
      "cell_type": "code",
      "metadata": {
        "id": "yTiKccVXLrvx"
      },
      "source": [
        "def count_parameters(model):\n",
        "    return sum(p.numel() for p in model.parameters() if p.requires_grad)"
      ],
      "execution_count": 11,
      "outputs": []
    },
    {
      "cell_type": "code",
      "metadata": {
        "id": "FvRPOxLCLByf",
        "outputId": "19cc026c-1528-447f-932d-6be83e997ba3",
        "colab": {
          "base_uri": "https://localhost:8080/"
        }
      },
      "source": [
        "print(f\"Word embedding parameter 개수: {count_parameters(model.encoder)}\")\n",
        "print(f\"RNN parameter 개수: {count_parameters(model.rnn)}\")"
      ],
      "execution_count": 12,
      "outputs": [
        {
          "output_type": "stream",
          "name": "stdout",
          "text": [
            "Word embedding parameter 개수: 6655600\n",
            "RNN parameter 개수: 890880\n"
          ]
        }
      ]
    },
    {
      "cell_type": "markdown",
      "metadata": {
        "id": "nlUFvgTNM1Od"
      },
      "source": [
        "```\n",
        "💡 RNN parameter, Word embedding parameter 개수를 비교해보면 word embedding parameter의 개수가 RNN 모델의 parameter보다 압도적으로 많습니다.\n",
        "\n",
        "word embedding을 사용하는 경우 training에 사용되는 text file의 크기가 커질수록 word embedding parameter는 \n",
        "더 커지게 되고 전체 parameter 대비 word embedding이 차지하는 비중은 매우 높아집니다.\n",
        "```"
      ]
    },
    {
      "cell_type": "markdown",
      "metadata": {
        "id": "o7WfyYBrPpca"
      },
      "source": [
        "```\n",
        "✨ 이런 parameter 비중의 비대칭성을 해결하기 위해 처음에는 character-level tokenization 방법이 주목을 받았습니다. \n",
        "말 그대로 하나의 글자를 기준으로 tokenization을 하는건데요.\n",
        "이전 예시를 character 기반 tokenization을 하면 다음과 같습니다.\n",
        "\n",
        "\"I have a meal\" -> ['I', 'h', 'a', 'v', 'e', 'a', 'm', 'e', 'a', 'l']\n",
        "\"나는 밥을 먹는다\" -> ['나', '는', '밥', '을', '먹', '는', '다']\n",
        "\n",
        "그러나, character 기반 tokenization 역시 지나치게 긴 sequence 길이, 성능 저하 등의 문제를 겪으며 \n",
        "subword tokenization이 각광을 받게 되었습니다.\n",
        "\n",
        "❓ word tokenization 기법과 구분되는 subword tokenization의 장점을 하나만 더 생각해볼까요?\n",
        "\n",
        "subword tokenization의 장점은 Out-of-vocabulary (OOV) 문제에서 상대적으로 자유롭다는 것입니다.\n",
        "\n",
        "일반적으로 subword들은 최소 철자 단위에서 하나씩 더 긴 subword를 추가하는 방식으로 만들어집니다.\n",
        "\n",
        "예를 들어, 영어의 경우 a~z의 알파벳부터 시작해서 두글자, 세글자, 네글자 subword 등으로 확장해나가며 \n",
        "subword를 추가해 단어를 구성하고 이를 바탕으로 subword tokenization을 수행하기 때문에 다른 언어를 tokenization하지 않는다면 \n",
        "OOV 문제에서 자유롭다고 볼 수 있습니다.\n",
        "\n",
        "대표적인 subword tokenization에 사용되는 algorithm 중 하나인 byte pair encoding은 선택 과제 3에서 살펴볼 수 있으니 참고해주세요 !\n",
        "\n",
        "✨ 그럼 이제부터 BERT 모델에서 사용한 subword tokenization algorithm을 이용해 language modeling task를 수행해보겠습니다. \n",
        "subword tokenizer는 transformers 라이브러리를 이용해 쉽게 불러올 수 있습니다.\n",
        "```\n",
        "\n",
        "(참고5: [Huggingface: subword tokenization](https://huggingface.co/transformers/tokenizer_summary.html#subword-tokenization))\n"
      ]
    },
    {
      "cell_type": "code",
      "metadata": {
        "id": "WZKyn3PKUuBg",
        "outputId": "a5f09a4a-1de5-4cd6-df12-6bddfc5e6cb2",
        "colab": {
          "base_uri": "https://localhost:8080/",
          "height": 49,
          "referenced_widgets": [
            "53c64692130147d3a40c59a8ec76d7af",
            "d2f4a68d823148e2818dc87211b6dc96",
            "940b0fd6f709456babf2ca443b9385a1",
            "2975ad7c26a84cd9bb9f8aecafa4048c",
            "35c58310a6c54ba798d80bf78e0fbb76",
            "a15ce6811781488b94ae0d6ca9c32665",
            "ab1c3277c22c4b09a80e15055caaa8c9",
            "098e394801604737b922f52a160b706f",
            "e8d2bb42363e42a696cf35c102e832f5",
            "35657777f67741389992f9d5717393f7",
            "ee757f442a834600aebdd153ff8c6d7c"
          ]
        }
      },
      "source": [
        "from transformers import BertTokenizer\n",
        "\n",
        "tokenizer = BertTokenizer.from_pretrained(\"bert-base-cased\")"
      ],
      "execution_count": null,
      "outputs": [
        {
          "output_type": "display_data",
          "data": {
            "text/plain": [
              "Downloading:   0%|          | 0.00/213k [00:00<?, ?B/s]"
            ],
            "application/vnd.jupyter.widget-view+json": {
              "version_major": 2,
              "version_minor": 0,
              "model_id": "53c64692130147d3a40c59a8ec76d7af"
            }
          },
          "metadata": {}
        }
      ]
    },
    {
      "cell_type": "code",
      "metadata": {
        "id": "rwubp25xVUt2"
      },
      "source": [
        "# subword tokenization 예시\n",
        "print(tokenizer.tokenize('Natural language expert training course'))\n",
        "print(tokenizer.tokenize('Goorm X KAIST'))"
      ],
      "execution_count": null,
      "outputs": []
    },
    {
      "cell_type": "code",
      "metadata": {
        "id": "vLfVolP3UKos"
      },
      "source": [
        "class Corpus(object):\n",
        "    def __init__(self, path):\n",
        "        self.dictionary = Dictionary()\n",
        "        self.train = self.tokenize(os.path.join(path, 'train.txt'))\n",
        "        self.valid = self.tokenize(os.path.join(path, 'valid.txt'))\n",
        "        self.test = self.tokenize(os.path.join(path, 'test.txt'))\n",
        "\n",
        "    def tokenize(self, path):\n",
        "        assert os.path.exists(path)\n",
        "        # Add words to the dictionary\n",
        "        with open(path, 'r', encoding=\"utf8\") as f:\n",
        "            for line in f:\n",
        "                words = tokenizer.tokenize(line.strip()) + ['<eos>']\n",
        "                for word in words:\n",
        "                    self.dictionary.add_word(word)\n",
        "\n",
        "        # Tokenize file content\n",
        "        with open(path, 'r', encoding=\"utf8\") as f:\n",
        "            idss = []\n",
        "            for line in f:\n",
        "                words = tokenizer.tokenize(line.strip()) + ['<eos>']\n",
        "                ids = []\n",
        "                for word in words:\n",
        "                    ids.append(self.dictionary.word2idx[word])\n",
        "                idss.append(torch.tensor(ids).type(torch.int64))\n",
        "            ids = torch.cat(idss)\n",
        "\n",
        "        return ids"
      ],
      "execution_count": null,
      "outputs": []
    },
    {
      "cell_type": "markdown",
      "metadata": {
        "id": "BvtarB2DYiLb"
      },
      "source": [
        "```\n",
        "그러면 이제 다시 모델을 선언하고 parameter의 개수를 살펴보겠습니다.\n",
        "```"
      ]
    },
    {
      "cell_type": "code",
      "metadata": {
        "id": "wLKqis0hY5Or"
      },
      "source": [
        "subword_corpus = Corpus('./data/wikitext-2')\n",
        "ntokens = len(subword_corpus.dictionary)\n",
        "subwordmodel = RNNModel(args.model, ntokens, args.emsize, args.nhid, args.nlayers, args.dropout)"
      ],
      "execution_count": null,
      "outputs": []
    },
    {
      "cell_type": "code",
      "metadata": {
        "id": "_RB4DQ-QZCBd"
      },
      "source": [
        "print(f\"Word embedding parameter 개수: {count_parameters(subwordmodel.encoder)}\")\n",
        "print(f\"RNN parameter 개수: {count_parameters(subwordmodel.rnn)}\")"
      ],
      "execution_count": null,
      "outputs": []
    },
    {
      "cell_type": "markdown",
      "metadata": {
        "id": "q_5y4M6k1HR6"
      },
      "source": [
        "```\n",
        "이전에 비해 embedding parameter 개수는 확연히 줄어들었습니다.\n",
        "6,655,600개 -> 4,619,000개\n",
        "\n",
        "그러면 이제 subword 기반의 언어 모델 성능을 살펴보겠습니다.\n",
        "```"
      ]
    },
    {
      "cell_type": "code",
      "metadata": {
        "id": "JlSdSCKvd23M"
      },
      "source": [
        "###############################################################################\n",
        "# Load data\n",
        "###############################################################################\n",
        "\n",
        "# Starting from sequential data, batchify arranges the dataset into columns.\n",
        "# For instance, with the alphabet as the sequence and batch size 4, we'd get\n",
        "# ┌ a g m s ┐\n",
        "# │ b h n t │\n",
        "# │ c i o u │\n",
        "# │ d j p v │\n",
        "# │ e k q w │\n",
        "# └ f l r x ┘.\n",
        "# These columns are treated as independent by the model, which means that the\n",
        "# dependence of e. g. 'g' on 'f' can not be learned, but allows more efficient\n",
        "# batch processing.\n",
        "\n",
        "def batchify(data, bsz):\n",
        "    # Work out how cleanly we can divide the dataset into bsz parts.\n",
        "    nbatch = data.size(0) // bsz\n",
        "    # Trim off any extra elements that wouldn't cleanly fit (remainders).\n",
        "    data = data.narrow(0, 0, nbatch * bsz)\n",
        "    # Evenly divide the data across the bsz batches.\n",
        "    data = data.view(bsz, -1).t().contiguous()\n",
        "    return data.to(device)\n",
        "\n",
        "eval_batch_size = 10\n",
        "train_data = batchify(subword_corpus.train, args.batch_size)\n",
        "val_data = batchify(subword_corpus.valid, eval_batch_size)\n",
        "test_data = batchify(subword_corpus.test, eval_batch_size)"
      ],
      "execution_count": null,
      "outputs": []
    },
    {
      "cell_type": "code",
      "metadata": {
        "id": "R7iRv2rHe959"
      },
      "source": [
        "###############################################################################\n",
        "# Build the model\n",
        "###############################################################################\n",
        "\n",
        "model = RNNModel(args.model, ntokens, args.emsize, args.nhid, args.nlayers, args.dropout).to(device)\n",
        "criterion = nn.NLLLoss()"
      ],
      "execution_count": null,
      "outputs": []
    },
    {
      "cell_type": "code",
      "metadata": {
        "id": "HiLaw_Bte_nJ"
      },
      "source": [
        "###############################################################################\n",
        "# Training code1 - define functions\n",
        "###############################################################################\n",
        "\n",
        "def repackage_hidden(h):\n",
        "    \"\"\"Wraps hidden states in new Tensors, to detach them from their history.\"\"\"\n",
        "\n",
        "    if isinstance(h, torch.Tensor):\n",
        "        return h.detach()\n",
        "    else:\n",
        "        return tuple(repackage_hidden(v) for v in h)\n",
        "\n",
        "\n",
        "# get_batch subdivides the source data into chunks of length args.bptt.\n",
        "# If source is equal to the example output of the batchify function, with\n",
        "# a bptt-limit of 2, we'd get the following two Variables for i = 0:\n",
        "# ┌ a g m s ┐ ┌ b h n t ┐\n",
        "# └ b h n t ┘ └ c i o u ┘\n",
        "# Note that despite the name of the function, the subdivison of data is not\n",
        "# done along the batch dimension (i.e. dimension 1), since that was handled\n",
        "# by the batchify function. The chunks are along dimension 0, corresponding\n",
        "# to the seq_len dimension in the LSTM.\n",
        "\n",
        "def get_batch(source, i):\n",
        "    seq_len = min(args.bptt, len(source) - 1 - i)\n",
        "    data = source[i:i+seq_len]\n",
        "    target = source[i+1:i+1+seq_len].view(-1)\n",
        "    return data, target\n",
        "\n",
        "\n",
        "def evaluate(data_source):\n",
        "    # Turn on evaluation mode which disables dropout.\n",
        "    model.eval()\n",
        "    total_loss = 0.\n",
        "    ntokens = len(subword_corpus.dictionary)\n",
        "    hidden = model.init_hidden(eval_batch_size)\n",
        "    with torch.no_grad():\n",
        "        for i in range(0, data_source.size(0) - 1, args.bptt):\n",
        "            data, targets = get_batch(data_source, i)\n",
        "            output, hidden = model(data, hidden)\n",
        "            hidden = repackage_hidden(hidden)\n",
        "            total_loss += len(data) * criterion(output, targets).item()\n",
        "    return total_loss / (len(data_source) - 1)\n",
        "\n",
        "\n",
        "def train():\n",
        "    # Turn on training mode which enables dropout.\n",
        "    model.train()\n",
        "    total_loss = 0.\n",
        "    start_time = time.time()\n",
        "    ntokens = len(subword_corpus.dictionary)\n",
        "    hidden = model.init_hidden(args.batch_size)\n",
        "    for batch, i in enumerate(range(0, train_data.size(0) - 1, args.bptt)):\n",
        "        data, targets = get_batch(train_data, i)\n",
        "        # Starting each batch, we detach the hidden state from how it was previously produced.\n",
        "        # If we didn't, the model would try backpropagating all the way to start of the dataset.\n",
        "        model.zero_grad()\n",
        "\n",
        "        hidden = repackage_hidden(hidden)\n",
        "        output, hidden = model(data, hidden)\n",
        "\n",
        "        loss = criterion(output, targets)\n",
        "        loss.backward()\n",
        "\n",
        "        # `clip_grad_norm` helps prevent the exploding gradient problem in RNNs / LSTMs.\n",
        "        torch.nn.utils.clip_grad_norm_(model.parameters(), args.clip)\n",
        "        for p in model.parameters():\n",
        "            p.data.add_(p.grad, alpha=-lr)\n",
        "\n",
        "        total_loss += loss.item()\n",
        "\n",
        "        if batch % args.log_interval == 0 and batch > 0:\n",
        "            cur_loss = total_loss / args.log_interval\n",
        "            elapsed = time.time() - start_time\n",
        "            print('| epoch {:3d} | {:5d}/{:5d} batches | lr {:02.2f} | ms/batch {:5.2f} | '\n",
        "                    'loss {:5.2f} | ppl {:8.2f}'.format(\n",
        "                epoch, batch, len(train_data) // args.bptt, lr,\n",
        "                elapsed * 1000 / args.log_interval, cur_loss, math.exp(cur_loss)))\n",
        "            total_loss = 0\n",
        "            start_time = time.time()\n",
        "        if args.dry_run:\n",
        "            break"
      ],
      "execution_count": null,
      "outputs": []
    },
    {
      "cell_type": "code",
      "metadata": {
        "id": "A6m-cdbm7PvS"
      },
      "source": [
        "###############################################################################\n",
        "# Training code2 - run \n",
        "###############################################################################\n",
        "\n",
        "# Loop over epochs.\n",
        "lr = args.lr\n",
        "best_val_loss = None\n",
        "\n",
        "# At any point you can hit Ctrl + C to break out of training early.\n",
        "try:\n",
        "    for epoch in range(1, args.epochs+1):\n",
        "        epoch_start_time = time.time()\n",
        "        train()\n",
        "        val_loss = evaluate(val_data)\n",
        "        print('-' * 89)\n",
        "        print('| end of epoch {:3d} | time: {:5.2f}s | valid loss {:5.2f} | '\n",
        "                'valid ppl {:8.2f}'.format(epoch, (time.time() - epoch_start_time),\n",
        "                                           val_loss, math.exp(val_loss)))\n",
        "        print('-' * 89)\n",
        "        # Save the model if the validation loss is the best we've seen so far.\n",
        "        if not best_val_loss or val_loss < best_val_loss:\n",
        "            with open(args.save, 'wb') as f:\n",
        "                torch.save(model, f)\n",
        "            best_val_loss = val_loss\n",
        "        else:\n",
        "            # Anneal the learning rate if no improvement has been seen in the validation dataset.\n",
        "            lr /= 4.0\n",
        "except KeyboardInterrupt:\n",
        "    print('-' * 89)\n",
        "    print('Exiting from training early')\n",
        "\n",
        "# Load the best saved model.\n",
        "with open(args.save, 'rb') as f:\n",
        "    model = torch.load(f)\n",
        "    # after load the rnn params are not a continuous chunk of memory\n",
        "    # this makes them a continuous chunk, and will speed up forward pass\n",
        "    # Currently, only rnn model supports flatten_parameters function.\n",
        "    if args.model in ['RNN_TANH', 'RNN_RELU', 'LSTM', 'GRU']:\n",
        "        model.rnn.flatten_parameters()\n",
        "\n",
        "# Run on test data.\n",
        "test_loss = evaluate(test_data)\n",
        "print('=' * 89)\n",
        "print('| End of training | test loss {:5.2f} | test ppl {:8.2f}'.format(\n",
        "    test_loss, math.exp(test_loss)))\n",
        "print('=' * 89)"
      ],
      "execution_count": null,
      "outputs": []
    },
    {
      "cell_type": "markdown",
      "metadata": {
        "id": "gpv4N8wl4w8p"
      },
      "source": [
        "### 4. 학습한 언어 모델로 문장 생성\n",
        "\n",
        "\n",
        "*   학습이 완료된 모델을 불러와 random 한 단어를 input 으로 넣어준 후 정해진 개수의 단어를 생성합니다.\n",
        "*   생성한 문장을 decode 하여 (즉, idx2word 를 이용해 id 를 word 로 변환하여) generate.txt 파일에 저장합니다.\n",
        "\n"
      ]
    },
    {
      "cell_type": "code",
      "metadata": {
        "id": "GQjeaKjO4JAh"
      },
      "source": [
        "###############################################################################\n",
        "# Language Modeling on Wikitext-2\n",
        "#\n",
        "# This file generates new sentences sampled from the language model\n",
        "#\n",
        "###############################################################################\n",
        "\n",
        "import torch\n",
        "\n",
        "# Model parameters.\n",
        "test_args = easydict.EasyDict({\n",
        "    \"data\"      : './data/wikitext-2',  # location of data corpus\n",
        "    \"checkpoint\": './model.pt',         # model checkpoint to use\n",
        "    \"outf\"      : 'generate.txt',       # output file for generated text\n",
        "    \"words\"     : 1000,                 # number of words to generate\n",
        "    \"seed\"      : 1111,                 # random seed\n",
        "    \"cuda\"      : True,                 # use CUDA\n",
        "    \"temperature\": 1.0,                 # temperature - higher will increase diversity\n",
        "    \"log_interval\": 100                 # reporting interval\n",
        "})\n",
        "\n",
        "# Set the random seed manually for reproducibility.\n",
        "torch.manual_seed(test_args.seed)\n",
        "if torch.cuda.is_available():\n",
        "    if not test_args.cuda:\n",
        "        print(\"WARNING: You have a CUDA device, so you should probably run with --cuda\")\n",
        "\n",
        "device = torch.device(\"cuda\" if test_args.cuda else \"cpu\")\n",
        "\n",
        "if test_args.temperature < 1e-3:\n",
        "    parser.error(\"--temperature has to be greater or equal 1e-3\")\n",
        "\n",
        "with open(test_args.checkpoint, 'rb') as f:\n",
        "    model = torch.load(f).to(device)\n",
        "model.eval()\n",
        "\n",
        "# corpus = Corpus(test_args.data)\n",
        "# ntokens = len(subword_corpus.dictionary)\n",
        "\n",
        "hidden = model.init_hidden(1)\n",
        "input = torch.randint(ntokens, (1, 1), dtype=torch.long).to(device)\n",
        "\n",
        "with open(test_args.outf, 'w') as outf:\n",
        "    with torch.no_grad():  # no tracking history\n",
        "        for i in range(test_args.words):\n",
        "            output, hidden = model(input, hidden)\n",
        "            word_weights = output.squeeze().div(test_args.temperature).exp().cpu()\n",
        "            word_idx = torch.multinomial(word_weights, 1)[0]\n",
        "            input.fill_(word_idx)\n",
        "\n",
        "            word = subword_corpus.dictionary.idx2word[word_idx]\n",
        "\n",
        "            outf.write(word + ('\\n' if i % 20 == 19 else ' '))\n",
        "\n",
        "            if i % test_args.log_interval == 0:\n",
        "                print('| Generated {}/{} words'.format(i, test_args.words))"
      ],
      "execution_count": null,
      "outputs": []
    },
    {
      "cell_type": "markdown",
      "metadata": {
        "id": "dqLfZB-1wHHK"
      },
      "source": [
        "## Reference\n",
        "[Pytorch Language Model](https://github.com/pytorch/examples/tree/master/word_language_model)\n"
      ]
    }
  ]
}